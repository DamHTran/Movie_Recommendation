{
 "cells": [
  {
   "cell_type": "markdown",
   "metadata": {},
   "source": [
    "# Import libraries"
   ]
  },
  {
   "cell_type": "code",
   "execution_count": 1,
   "metadata": {},
   "outputs": [],
   "source": [
    "import pandas as pd\n",
    "import matplotlib.pyplot as plt\n",
    "import seaborn as sns\n",
    "import numpy as np\n",
    "sns.set()\n",
    "from surprise import Dataset, Reader\n",
    "from surprise.model_selection import train_test_split\n",
    "from surprise import SVD\n",
    "from surprise.model_selection import cross_validate\n",
    "from surprise import accuracy"
   ]
  },
  {
   "cell_type": "markdown",
   "metadata": {},
   "source": [
    "# Collaborative filtering approach\n",
    "This method finds other users similar to you and recommends their choices. For example, if you and a friend both love The Shawshank Redemption, and your friend also loves Forrest Gump, the system will recommend Forrest Gump to you, thinking you might share your friend's taste."
   ]
  },
  {
   "cell_type": "markdown",
   "metadata": {},
   "source": [
    "# Load data"
   ]
  },
  {
   "cell_type": "code",
   "execution_count": 2,
   "metadata": {},
   "outputs": [
    {
     "name": "stderr",
     "output_type": "stream",
     "text": [
      "C:\\Users\\thdam\\anaconda3\\lib\\site-packages\\IPython\\core\\interactiveshell.py:3071: DtypeWarning: Columns (10) have mixed types.Specify dtype option on import or set low_memory=False.\n",
      "  has_raised = await self.run_ast_nodes(code_ast.body, cell_name,\n"
     ]
    }
   ],
   "source": [
    "data_movies_metadata = pd.read_csv('D:\\Projects\\ISM\\DataScience\\Movies\\movies_metadata.csv')"
   ]
  },
  {
   "cell_type": "code",
   "execution_count": 3,
   "metadata": {},
   "outputs": [],
   "source": [
    "data_ratings =pd.read_csv('ratings_small.csv')"
   ]
  },
  {
   "cell_type": "markdown",
   "metadata": {},
   "source": [
    "Merge datasets"
   ]
  },
  {
   "cell_type": "code",
   "execution_count": 4,
   "metadata": {},
   "outputs": [
    {
     "data": {
      "text/html": [
       "<div>\n",
       "<style scoped>\n",
       "    .dataframe tbody tr th:only-of-type {\n",
       "        vertical-align: middle;\n",
       "    }\n",
       "\n",
       "    .dataframe tbody tr th {\n",
       "        vertical-align: top;\n",
       "    }\n",
       "\n",
       "    .dataframe thead th {\n",
       "        text-align: right;\n",
       "    }\n",
       "</style>\n",
       "<table border=\"1\" class=\"dataframe\">\n",
       "  <thead>\n",
       "    <tr style=\"text-align: right;\">\n",
       "      <th></th>\n",
       "      <th>userId</th>\n",
       "      <th>movieId</th>\n",
       "      <th>rating</th>\n",
       "      <th>timestamp</th>\n",
       "      <th>adult</th>\n",
       "      <th>belongs_to_collection</th>\n",
       "      <th>budget</th>\n",
       "      <th>genres</th>\n",
       "      <th>homepage</th>\n",
       "      <th>id</th>\n",
       "      <th>...</th>\n",
       "      <th>release_date</th>\n",
       "      <th>revenue</th>\n",
       "      <th>runtime</th>\n",
       "      <th>spoken_languages</th>\n",
       "      <th>status</th>\n",
       "      <th>tagline</th>\n",
       "      <th>title</th>\n",
       "      <th>video</th>\n",
       "      <th>vote_average</th>\n",
       "      <th>vote_count</th>\n",
       "    </tr>\n",
       "  </thead>\n",
       "  <tbody>\n",
       "    <tr>\n",
       "      <th>0</th>\n",
       "      <td>1</td>\n",
       "      <td>1371</td>\n",
       "      <td>2.5</td>\n",
       "      <td>1260759135</td>\n",
       "      <td>False</td>\n",
       "      <td>{'id': 1575, 'name': 'Rocky Collection', 'post...</td>\n",
       "      <td>17000000</td>\n",
       "      <td>[{'id': 18, 'name': 'Drama'}]</td>\n",
       "      <td>NaN</td>\n",
       "      <td>1371</td>\n",
       "      <td>...</td>\n",
       "      <td>1982-05-28</td>\n",
       "      <td>270000000.0</td>\n",
       "      <td>99.0</td>\n",
       "      <td>[{'iso_639_1': 'en', 'name': 'English'}]</td>\n",
       "      <td>Released</td>\n",
       "      <td>The greatest challenge.</td>\n",
       "      <td>Rocky III</td>\n",
       "      <td>False</td>\n",
       "      <td>6.6</td>\n",
       "      <td>894.0</td>\n",
       "    </tr>\n",
       "    <tr>\n",
       "      <th>1</th>\n",
       "      <td>4</td>\n",
       "      <td>1371</td>\n",
       "      <td>4.0</td>\n",
       "      <td>949810302</td>\n",
       "      <td>False</td>\n",
       "      <td>{'id': 1575, 'name': 'Rocky Collection', 'post...</td>\n",
       "      <td>17000000</td>\n",
       "      <td>[{'id': 18, 'name': 'Drama'}]</td>\n",
       "      <td>NaN</td>\n",
       "      <td>1371</td>\n",
       "      <td>...</td>\n",
       "      <td>1982-05-28</td>\n",
       "      <td>270000000.0</td>\n",
       "      <td>99.0</td>\n",
       "      <td>[{'iso_639_1': 'en', 'name': 'English'}]</td>\n",
       "      <td>Released</td>\n",
       "      <td>The greatest challenge.</td>\n",
       "      <td>Rocky III</td>\n",
       "      <td>False</td>\n",
       "      <td>6.6</td>\n",
       "      <td>894.0</td>\n",
       "    </tr>\n",
       "    <tr>\n",
       "      <th>2</th>\n",
       "      <td>7</td>\n",
       "      <td>1371</td>\n",
       "      <td>3.0</td>\n",
       "      <td>851869160</td>\n",
       "      <td>False</td>\n",
       "      <td>{'id': 1575, 'name': 'Rocky Collection', 'post...</td>\n",
       "      <td>17000000</td>\n",
       "      <td>[{'id': 18, 'name': 'Drama'}]</td>\n",
       "      <td>NaN</td>\n",
       "      <td>1371</td>\n",
       "      <td>...</td>\n",
       "      <td>1982-05-28</td>\n",
       "      <td>270000000.0</td>\n",
       "      <td>99.0</td>\n",
       "      <td>[{'iso_639_1': 'en', 'name': 'English'}]</td>\n",
       "      <td>Released</td>\n",
       "      <td>The greatest challenge.</td>\n",
       "      <td>Rocky III</td>\n",
       "      <td>False</td>\n",
       "      <td>6.6</td>\n",
       "      <td>894.0</td>\n",
       "    </tr>\n",
       "    <tr>\n",
       "      <th>3</th>\n",
       "      <td>19</td>\n",
       "      <td>1371</td>\n",
       "      <td>4.0</td>\n",
       "      <td>855193404</td>\n",
       "      <td>False</td>\n",
       "      <td>{'id': 1575, 'name': 'Rocky Collection', 'post...</td>\n",
       "      <td>17000000</td>\n",
       "      <td>[{'id': 18, 'name': 'Drama'}]</td>\n",
       "      <td>NaN</td>\n",
       "      <td>1371</td>\n",
       "      <td>...</td>\n",
       "      <td>1982-05-28</td>\n",
       "      <td>270000000.0</td>\n",
       "      <td>99.0</td>\n",
       "      <td>[{'iso_639_1': 'en', 'name': 'English'}]</td>\n",
       "      <td>Released</td>\n",
       "      <td>The greatest challenge.</td>\n",
       "      <td>Rocky III</td>\n",
       "      <td>False</td>\n",
       "      <td>6.6</td>\n",
       "      <td>894.0</td>\n",
       "    </tr>\n",
       "    <tr>\n",
       "      <th>4</th>\n",
       "      <td>21</td>\n",
       "      <td>1371</td>\n",
       "      <td>3.0</td>\n",
       "      <td>853852263</td>\n",
       "      <td>False</td>\n",
       "      <td>{'id': 1575, 'name': 'Rocky Collection', 'post...</td>\n",
       "      <td>17000000</td>\n",
       "      <td>[{'id': 18, 'name': 'Drama'}]</td>\n",
       "      <td>NaN</td>\n",
       "      <td>1371</td>\n",
       "      <td>...</td>\n",
       "      <td>1982-05-28</td>\n",
       "      <td>270000000.0</td>\n",
       "      <td>99.0</td>\n",
       "      <td>[{'iso_639_1': 'en', 'name': 'English'}]</td>\n",
       "      <td>Released</td>\n",
       "      <td>The greatest challenge.</td>\n",
       "      <td>Rocky III</td>\n",
       "      <td>False</td>\n",
       "      <td>6.6</td>\n",
       "      <td>894.0</td>\n",
       "    </tr>\n",
       "  </tbody>\n",
       "</table>\n",
       "<p>5 rows × 28 columns</p>\n",
       "</div>"
      ],
      "text/plain": [
       "   userId movieId  rating   timestamp  adult  \\\n",
       "0       1    1371     2.5  1260759135  False   \n",
       "1       4    1371     4.0   949810302  False   \n",
       "2       7    1371     3.0   851869160  False   \n",
       "3      19    1371     4.0   855193404  False   \n",
       "4      21    1371     3.0   853852263  False   \n",
       "\n",
       "                               belongs_to_collection    budget  \\\n",
       "0  {'id': 1575, 'name': 'Rocky Collection', 'post...  17000000   \n",
       "1  {'id': 1575, 'name': 'Rocky Collection', 'post...  17000000   \n",
       "2  {'id': 1575, 'name': 'Rocky Collection', 'post...  17000000   \n",
       "3  {'id': 1575, 'name': 'Rocky Collection', 'post...  17000000   \n",
       "4  {'id': 1575, 'name': 'Rocky Collection', 'post...  17000000   \n",
       "\n",
       "                          genres homepage    id  ... release_date  \\\n",
       "0  [{'id': 18, 'name': 'Drama'}]      NaN  1371  ...   1982-05-28   \n",
       "1  [{'id': 18, 'name': 'Drama'}]      NaN  1371  ...   1982-05-28   \n",
       "2  [{'id': 18, 'name': 'Drama'}]      NaN  1371  ...   1982-05-28   \n",
       "3  [{'id': 18, 'name': 'Drama'}]      NaN  1371  ...   1982-05-28   \n",
       "4  [{'id': 18, 'name': 'Drama'}]      NaN  1371  ...   1982-05-28   \n",
       "\n",
       "       revenue runtime                          spoken_languages    status  \\\n",
       "0  270000000.0    99.0  [{'iso_639_1': 'en', 'name': 'English'}]  Released   \n",
       "1  270000000.0    99.0  [{'iso_639_1': 'en', 'name': 'English'}]  Released   \n",
       "2  270000000.0    99.0  [{'iso_639_1': 'en', 'name': 'English'}]  Released   \n",
       "3  270000000.0    99.0  [{'iso_639_1': 'en', 'name': 'English'}]  Released   \n",
       "4  270000000.0    99.0  [{'iso_639_1': 'en', 'name': 'English'}]  Released   \n",
       "\n",
       "                   tagline      title  video vote_average  vote_count  \n",
       "0  The greatest challenge.  Rocky III  False          6.6       894.0  \n",
       "1  The greatest challenge.  Rocky III  False          6.6       894.0  \n",
       "2  The greatest challenge.  Rocky III  False          6.6       894.0  \n",
       "3  The greatest challenge.  Rocky III  False          6.6       894.0  \n",
       "4  The greatest challenge.  Rocky III  False          6.6       894.0  \n",
       "\n",
       "[5 rows x 28 columns]"
      ]
     },
     "execution_count": 4,
     "metadata": {},
     "output_type": "execute_result"
    }
   ],
   "source": [
    "data_ratings['movieId'] = data_ratings['movieId'].astype(str)\n",
    "data_movies_metadata['id'] = data_movies_metadata['id'].astype(str)\n",
    "merged_data = pd.merge(data_ratings, data_movies_metadata, left_on='movieId', right_on='id', how='inner')\n",
    "merged_data.head()"
   ]
  },
  {
   "cell_type": "markdown",
   "metadata": {},
   "source": [
    "# Preprocessing data"
   ]
  },
  {
   "cell_type": "code",
   "execution_count": 5,
   "metadata": {},
   "outputs": [
    {
     "data": {
      "text/plain": [
       "userId                       0\n",
       "movieId                      0\n",
       "rating                       0\n",
       "timestamp                    0\n",
       "adult                        0\n",
       "belongs_to_collection    34201\n",
       "budget                       0\n",
       "genres                       0\n",
       "homepage                 34035\n",
       "id                           0\n",
       "imdb_id                      0\n",
       "original_language            0\n",
       "original_title               0\n",
       "overview                   137\n",
       "popularity                   0\n",
       "poster_path                 36\n",
       "production_companies         0\n",
       "production_countries         0\n",
       "release_date                29\n",
       "revenue                      0\n",
       "runtime                      4\n",
       "spoken_languages             0\n",
       "status                       1\n",
       "tagline                  13478\n",
       "title                        0\n",
       "video                        0\n",
       "vote_average                 0\n",
       "vote_count                   0\n",
       "dtype: int64"
      ]
     },
     "execution_count": 5,
     "metadata": {},
     "output_type": "execute_result"
    }
   ],
   "source": [
    "merged_data.isnull().sum()"
   ]
  },
  {
   "cell_type": "code",
   "execution_count": 6,
   "metadata": {},
   "outputs": [
    {
     "data": {
      "text/html": [
       "<div>\n",
       "<style scoped>\n",
       "    .dataframe tbody tr th:only-of-type {\n",
       "        vertical-align: middle;\n",
       "    }\n",
       "\n",
       "    .dataframe tbody tr th {\n",
       "        vertical-align: top;\n",
       "    }\n",
       "\n",
       "    .dataframe thead th {\n",
       "        text-align: right;\n",
       "    }\n",
       "</style>\n",
       "<table border=\"1\" class=\"dataframe\">\n",
       "  <thead>\n",
       "    <tr style=\"text-align: right;\">\n",
       "      <th></th>\n",
       "      <th>userId</th>\n",
       "      <th>movieId</th>\n",
       "      <th>rating</th>\n",
       "      <th>timestamp</th>\n",
       "      <th>adult</th>\n",
       "      <th>belongs_to_collection</th>\n",
       "      <th>budget</th>\n",
       "      <th>genres</th>\n",
       "      <th>homepage</th>\n",
       "      <th>id</th>\n",
       "      <th>...</th>\n",
       "      <th>release_date</th>\n",
       "      <th>revenue</th>\n",
       "      <th>runtime</th>\n",
       "      <th>spoken_languages</th>\n",
       "      <th>status</th>\n",
       "      <th>tagline</th>\n",
       "      <th>title</th>\n",
       "      <th>video</th>\n",
       "      <th>vote_average</th>\n",
       "      <th>vote_count</th>\n",
       "    </tr>\n",
       "  </thead>\n",
       "  <tbody>\n",
       "    <tr>\n",
       "      <th>count</th>\n",
       "      <td>44994.000000</td>\n",
       "      <td>44994</td>\n",
       "      <td>44994.000000</td>\n",
       "      <td>4.499400e+04</td>\n",
       "      <td>44994</td>\n",
       "      <td>10793</td>\n",
       "      <td>44994</td>\n",
       "      <td>44994</td>\n",
       "      <td>10959</td>\n",
       "      <td>44994</td>\n",
       "      <td>...</td>\n",
       "      <td>44965</td>\n",
       "      <td>4.499400e+04</td>\n",
       "      <td>44990.000000</td>\n",
       "      <td>44994</td>\n",
       "      <td>44993</td>\n",
       "      <td>31516</td>\n",
       "      <td>44994</td>\n",
       "      <td>44994</td>\n",
       "      <td>44994.000000</td>\n",
       "      <td>44994.000000</td>\n",
       "    </tr>\n",
       "    <tr>\n",
       "      <th>unique</th>\n",
       "      <td>NaN</td>\n",
       "      <td>2830</td>\n",
       "      <td>NaN</td>\n",
       "      <td>NaN</td>\n",
       "      <td>2</td>\n",
       "      <td>345</td>\n",
       "      <td>313</td>\n",
       "      <td>790</td>\n",
       "      <td>572</td>\n",
       "      <td>2830</td>\n",
       "      <td>...</td>\n",
       "      <td>2444</td>\n",
       "      <td>NaN</td>\n",
       "      <td>NaN</td>\n",
       "      <td>404</td>\n",
       "      <td>4</td>\n",
       "      <td>1786</td>\n",
       "      <td>2794</td>\n",
       "      <td>2</td>\n",
       "      <td>NaN</td>\n",
       "      <td>NaN</td>\n",
       "    </tr>\n",
       "    <tr>\n",
       "      <th>top</th>\n",
       "      <td>NaN</td>\n",
       "      <td>296</td>\n",
       "      <td>NaN</td>\n",
       "      <td>NaN</td>\n",
       "      <td>False</td>\n",
       "      <td>{'id': 528, 'name': 'The Terminator Collection...</td>\n",
       "      <td>0</td>\n",
       "      <td>[{'id': 18, 'name': 'Drama'}]</td>\n",
       "      <td>http://www.sonypictures.com/homevideo/meninbla...</td>\n",
       "      <td>296</td>\n",
       "      <td>...</td>\n",
       "      <td>2003-07-02</td>\n",
       "      <td>NaN</td>\n",
       "      <td>NaN</td>\n",
       "      <td>[{'iso_639_1': 'en', 'name': 'English'}]</td>\n",
       "      <td>Released</td>\n",
       "      <td>The Machines Will Rise.</td>\n",
       "      <td>Terminator 3: Rise of the Machines</td>\n",
       "      <td>False</td>\n",
       "      <td>NaN</td>\n",
       "      <td>NaN</td>\n",
       "    </tr>\n",
       "    <tr>\n",
       "      <th>freq</th>\n",
       "      <td>NaN</td>\n",
       "      <td>324</td>\n",
       "      <td>NaN</td>\n",
       "      <td>NaN</td>\n",
       "      <td>44993</td>\n",
       "      <td>386</td>\n",
       "      <td>19523</td>\n",
       "      <td>4953</td>\n",
       "      <td>224</td>\n",
       "      <td>324</td>\n",
       "      <td>...</td>\n",
       "      <td>324</td>\n",
       "      <td>NaN</td>\n",
       "      <td>NaN</td>\n",
       "      <td>22459</td>\n",
       "      <td>44939</td>\n",
       "      <td>324</td>\n",
       "      <td>324</td>\n",
       "      <td>44990</td>\n",
       "      <td>NaN</td>\n",
       "      <td>NaN</td>\n",
       "    </tr>\n",
       "    <tr>\n",
       "      <th>mean</th>\n",
       "      <td>345.963395</td>\n",
       "      <td>NaN</td>\n",
       "      <td>3.560986</td>\n",
       "      <td>1.089527e+09</td>\n",
       "      <td>NaN</td>\n",
       "      <td>NaN</td>\n",
       "      <td>NaN</td>\n",
       "      <td>NaN</td>\n",
       "      <td>NaN</td>\n",
       "      <td>NaN</td>\n",
       "      <td>...</td>\n",
       "      <td>NaN</td>\n",
       "      <td>7.613321e+07</td>\n",
       "      <td>108.985441</td>\n",
       "      <td>NaN</td>\n",
       "      <td>NaN</td>\n",
       "      <td>NaN</td>\n",
       "      <td>NaN</td>\n",
       "      <td>NaN</td>\n",
       "      <td>6.634178</td>\n",
       "      <td>669.509490</td>\n",
       "    </tr>\n",
       "    <tr>\n",
       "      <th>std</th>\n",
       "      <td>194.871031</td>\n",
       "      <td>NaN</td>\n",
       "      <td>1.053169</td>\n",
       "      <td>1.878648e+08</td>\n",
       "      <td>NaN</td>\n",
       "      <td>NaN</td>\n",
       "      <td>NaN</td>\n",
       "      <td>NaN</td>\n",
       "      <td>NaN</td>\n",
       "      <td>NaN</td>\n",
       "      <td>...</td>\n",
       "      <td>NaN</td>\n",
       "      <td>1.759024e+08</td>\n",
       "      <td>24.917268</td>\n",
       "      <td>NaN</td>\n",
       "      <td>NaN</td>\n",
       "      <td>NaN</td>\n",
       "      <td>NaN</td>\n",
       "      <td>NaN</td>\n",
       "      <td>1.059538</td>\n",
       "      <td>1219.402596</td>\n",
       "    </tr>\n",
       "    <tr>\n",
       "      <th>min</th>\n",
       "      <td>1.000000</td>\n",
       "      <td>NaN</td>\n",
       "      <td>0.500000</td>\n",
       "      <td>7.896520e+08</td>\n",
       "      <td>NaN</td>\n",
       "      <td>NaN</td>\n",
       "      <td>NaN</td>\n",
       "      <td>NaN</td>\n",
       "      <td>NaN</td>\n",
       "      <td>NaN</td>\n",
       "      <td>...</td>\n",
       "      <td>NaN</td>\n",
       "      <td>0.000000e+00</td>\n",
       "      <td>0.000000</td>\n",
       "      <td>NaN</td>\n",
       "      <td>NaN</td>\n",
       "      <td>NaN</td>\n",
       "      <td>NaN</td>\n",
       "      <td>NaN</td>\n",
       "      <td>0.000000</td>\n",
       "      <td>0.000000</td>\n",
       "    </tr>\n",
       "    <tr>\n",
       "      <th>25%</th>\n",
       "      <td>177.000000</td>\n",
       "      <td>NaN</td>\n",
       "      <td>3.000000</td>\n",
       "      <td>9.472927e+08</td>\n",
       "      <td>NaN</td>\n",
       "      <td>NaN</td>\n",
       "      <td>NaN</td>\n",
       "      <td>NaN</td>\n",
       "      <td>NaN</td>\n",
       "      <td>NaN</td>\n",
       "      <td>...</td>\n",
       "      <td>NaN</td>\n",
       "      <td>0.000000e+00</td>\n",
       "      <td>95.000000</td>\n",
       "      <td>NaN</td>\n",
       "      <td>NaN</td>\n",
       "      <td>NaN</td>\n",
       "      <td>NaN</td>\n",
       "      <td>NaN</td>\n",
       "      <td>6.100000</td>\n",
       "      <td>31.000000</td>\n",
       "    </tr>\n",
       "    <tr>\n",
       "      <th>50%</th>\n",
       "      <td>359.000000</td>\n",
       "      <td>NaN</td>\n",
       "      <td>4.000000</td>\n",
       "      <td>1.053172e+09</td>\n",
       "      <td>NaN</td>\n",
       "      <td>NaN</td>\n",
       "      <td>NaN</td>\n",
       "      <td>NaN</td>\n",
       "      <td>NaN</td>\n",
       "      <td>NaN</td>\n",
       "      <td>...</td>\n",
       "      <td>NaN</td>\n",
       "      <td>2.201126e+06</td>\n",
       "      <td>106.000000</td>\n",
       "      <td>NaN</td>\n",
       "      <td>NaN</td>\n",
       "      <td>NaN</td>\n",
       "      <td>NaN</td>\n",
       "      <td>NaN</td>\n",
       "      <td>6.800000</td>\n",
       "      <td>176.000000</td>\n",
       "    </tr>\n",
       "    <tr>\n",
       "      <th>75%</th>\n",
       "      <td>518.000000</td>\n",
       "      <td>NaN</td>\n",
       "      <td>4.000000</td>\n",
       "      <td>1.227918e+09</td>\n",
       "      <td>NaN</td>\n",
       "      <td>NaN</td>\n",
       "      <td>NaN</td>\n",
       "      <td>NaN</td>\n",
       "      <td>NaN</td>\n",
       "      <td>NaN</td>\n",
       "      <td>...</td>\n",
       "      <td>NaN</td>\n",
       "      <td>7.418968e+07</td>\n",
       "      <td>121.000000</td>\n",
       "      <td>NaN</td>\n",
       "      <td>NaN</td>\n",
       "      <td>NaN</td>\n",
       "      <td>NaN</td>\n",
       "      <td>NaN</td>\n",
       "      <td>7.300000</td>\n",
       "      <td>672.000000</td>\n",
       "    </tr>\n",
       "    <tr>\n",
       "      <th>max</th>\n",
       "      <td>671.000000</td>\n",
       "      <td>NaN</td>\n",
       "      <td>5.000000</td>\n",
       "      <td>1.476623e+09</td>\n",
       "      <td>NaN</td>\n",
       "      <td>NaN</td>\n",
       "      <td>NaN</td>\n",
       "      <td>NaN</td>\n",
       "      <td>NaN</td>\n",
       "      <td>NaN</td>\n",
       "      <td>...</td>\n",
       "      <td>NaN</td>\n",
       "      <td>1.845034e+09</td>\n",
       "      <td>320.000000</td>\n",
       "      <td>NaN</td>\n",
       "      <td>NaN</td>\n",
       "      <td>NaN</td>\n",
       "      <td>NaN</td>\n",
       "      <td>NaN</td>\n",
       "      <td>10.000000</td>\n",
       "      <td>12269.000000</td>\n",
       "    </tr>\n",
       "  </tbody>\n",
       "</table>\n",
       "<p>11 rows × 28 columns</p>\n",
       "</div>"
      ],
      "text/plain": [
       "              userId movieId        rating     timestamp  adult  \\\n",
       "count   44994.000000   44994  44994.000000  4.499400e+04  44994   \n",
       "unique           NaN    2830           NaN           NaN      2   \n",
       "top              NaN     296           NaN           NaN  False   \n",
       "freq             NaN     324           NaN           NaN  44993   \n",
       "mean      345.963395     NaN      3.560986  1.089527e+09    NaN   \n",
       "std       194.871031     NaN      1.053169  1.878648e+08    NaN   \n",
       "min         1.000000     NaN      0.500000  7.896520e+08    NaN   \n",
       "25%       177.000000     NaN      3.000000  9.472927e+08    NaN   \n",
       "50%       359.000000     NaN      4.000000  1.053172e+09    NaN   \n",
       "75%       518.000000     NaN      4.000000  1.227918e+09    NaN   \n",
       "max       671.000000     NaN      5.000000  1.476623e+09    NaN   \n",
       "\n",
       "                                    belongs_to_collection budget  \\\n",
       "count                                               10793  44994   \n",
       "unique                                                345    313   \n",
       "top     {'id': 528, 'name': 'The Terminator Collection...      0   \n",
       "freq                                                  386  19523   \n",
       "mean                                                  NaN    NaN   \n",
       "std                                                   NaN    NaN   \n",
       "min                                                   NaN    NaN   \n",
       "25%                                                   NaN    NaN   \n",
       "50%                                                   NaN    NaN   \n",
       "75%                                                   NaN    NaN   \n",
       "max                                                   NaN    NaN   \n",
       "\n",
       "                               genres  \\\n",
       "count                           44994   \n",
       "unique                            790   \n",
       "top     [{'id': 18, 'name': 'Drama'}]   \n",
       "freq                             4953   \n",
       "mean                              NaN   \n",
       "std                               NaN   \n",
       "min                               NaN   \n",
       "25%                               NaN   \n",
       "50%                               NaN   \n",
       "75%                               NaN   \n",
       "max                               NaN   \n",
       "\n",
       "                                                 homepage     id  ...  \\\n",
       "count                                               10959  44994  ...   \n",
       "unique                                                572   2830  ...   \n",
       "top     http://www.sonypictures.com/homevideo/meninbla...    296  ...   \n",
       "freq                                                  224    324  ...   \n",
       "mean                                                  NaN    NaN  ...   \n",
       "std                                                   NaN    NaN  ...   \n",
       "min                                                   NaN    NaN  ...   \n",
       "25%                                                   NaN    NaN  ...   \n",
       "50%                                                   NaN    NaN  ...   \n",
       "75%                                                   NaN    NaN  ...   \n",
       "max                                                   NaN    NaN  ...   \n",
       "\n",
       "       release_date       revenue       runtime  \\\n",
       "count         44965  4.499400e+04  44990.000000   \n",
       "unique         2444           NaN           NaN   \n",
       "top      2003-07-02           NaN           NaN   \n",
       "freq            324           NaN           NaN   \n",
       "mean            NaN  7.613321e+07    108.985441   \n",
       "std             NaN  1.759024e+08     24.917268   \n",
       "min             NaN  0.000000e+00      0.000000   \n",
       "25%             NaN  0.000000e+00     95.000000   \n",
       "50%             NaN  2.201126e+06    106.000000   \n",
       "75%             NaN  7.418968e+07    121.000000   \n",
       "max             NaN  1.845034e+09    320.000000   \n",
       "\n",
       "                                spoken_languages    status  \\\n",
       "count                                      44994     44993   \n",
       "unique                                       404         4   \n",
       "top     [{'iso_639_1': 'en', 'name': 'English'}]  Released   \n",
       "freq                                       22459     44939   \n",
       "mean                                         NaN       NaN   \n",
       "std                                          NaN       NaN   \n",
       "min                                          NaN       NaN   \n",
       "25%                                          NaN       NaN   \n",
       "50%                                          NaN       NaN   \n",
       "75%                                          NaN       NaN   \n",
       "max                                          NaN       NaN   \n",
       "\n",
       "                        tagline                               title  video  \\\n",
       "count                     31516                               44994  44994   \n",
       "unique                     1786                                2794      2   \n",
       "top     The Machines Will Rise.  Terminator 3: Rise of the Machines  False   \n",
       "freq                        324                                 324  44990   \n",
       "mean                        NaN                                 NaN    NaN   \n",
       "std                         NaN                                 NaN    NaN   \n",
       "min                         NaN                                 NaN    NaN   \n",
       "25%                         NaN                                 NaN    NaN   \n",
       "50%                         NaN                                 NaN    NaN   \n",
       "75%                         NaN                                 NaN    NaN   \n",
       "max                         NaN                                 NaN    NaN   \n",
       "\n",
       "        vote_average    vote_count  \n",
       "count   44994.000000  44994.000000  \n",
       "unique           NaN           NaN  \n",
       "top              NaN           NaN  \n",
       "freq             NaN           NaN  \n",
       "mean        6.634178    669.509490  \n",
       "std         1.059538   1219.402596  \n",
       "min         0.000000      0.000000  \n",
       "25%         6.100000     31.000000  \n",
       "50%         6.800000    176.000000  \n",
       "75%         7.300000    672.000000  \n",
       "max        10.000000  12269.000000  \n",
       "\n",
       "[11 rows x 28 columns]"
      ]
     },
     "execution_count": 6,
     "metadata": {},
     "output_type": "execute_result"
    }
   ],
   "source": [
    "merged_data.describe(include='all')"
   ]
  },
  {
   "cell_type": "code",
   "execution_count": 7,
   "metadata": {},
   "outputs": [],
   "source": [
    "merged_data=merged_data.sort_values(by='userId')"
   ]
  },
  {
   "cell_type": "markdown",
   "metadata": {},
   "source": [
    "# Split data"
   ]
  },
  {
   "cell_type": "code",
   "execution_count": 8,
   "metadata": {},
   "outputs": [],
   "source": [
    "reader = Reader(rating_scale=(1, 5))"
   ]
  },
  {
   "cell_type": "code",
   "execution_count": 9,
   "metadata": {},
   "outputs": [],
   "source": [
    "data = Dataset.load_from_df(merged_data[['userId', 'movieId', 'rating']], reader)"
   ]
  },
  {
   "cell_type": "code",
   "execution_count": 10,
   "metadata": {},
   "outputs": [],
   "source": [
    "trainset, testset = train_test_split(data, test_size=0.2, random_state=42)"
   ]
  },
  {
   "cell_type": "markdown",
   "metadata": {},
   "source": [
    "# Singular Value Decomposition (SVD)\n",
    "The SVD algorithm is trained on the user-movie ratings. It learns latent features for both users and movies, which it uses to predict unseen ratings"
   ]
  },
  {
   "cell_type": "markdown",
   "metadata": {},
   "source": [
    "# Train"
   ]
  },
  {
   "cell_type": "code",
   "execution_count": 11,
   "metadata": {},
   "outputs": [
    {
     "name": "stdout",
     "output_type": "stream",
     "text": [
      "RMSE: 0.8894\n"
     ]
    }
   ],
   "source": [
    "# Use the SVD algorithm for matrix factorization\n",
    "model = SVD()\n",
    "\n",
    "# Train the model on the training data\n",
    "model.fit(trainset)\n",
    "\n",
    "# Evaluate the model on the test data\n",
    "predictions = model.test(testset)\n",
    "svd_rmse =accuracy.rmse(predictions)"
   ]
  },
  {
   "cell_type": "markdown",
   "metadata": {},
   "source": [
    "# Make prediction"
   ]
  },
  {
   "cell_type": "code",
   "execution_count": 12,
   "metadata": {},
   "outputs": [
    {
     "name": "stdout",
     "output_type": "stream",
     "text": [
      "Top 5 recommendations for User 1:\n",
      "Movie 318: Predicted Rating 4.35\n",
      "Movie 926: Predicted Rating 4.22\n",
      "Movie 1252: Predicted Rating 4.05\n",
      "Movie 296: Predicted Rating 4.00\n",
      "Movie 260: Predicted Rating 4.00\n",
      "Top 5 recommendations for User 2:\n",
      "Movie 318: Predicted Rating 4.57\n",
      "Movie 6016: Predicted Rating 4.42\n",
      "Movie 608: Predicted Rating 4.41\n",
      "Movie 3683: Predicted Rating 4.38\n",
      "Movie 2064: Predicted Rating 4.38\n"
     ]
    }
   ],
   "source": [
    "# Get all unique users and movies\n",
    "unique_users = merged_data['userId'].unique()\n",
    "unique_movies = merged_data['movieId'].unique()\n",
    "\n",
    "# Dictionary to store top N recommendations for each user\n",
    "top_n_recommendations = {}\n",
    "\n",
    "# Predict ratings for each user-movie pair\n",
    "for user in unique_users[:2]:\n",
    "    user_recommendations = []\n",
    "    for movie in unique_movies:\n",
    "        # Predict rating for the (user, movie) pair\n",
    "        pred = model.predict(user, movie, verbose=False)\n",
    "        user_recommendations.append((movie, pred.est))\n",
    "    \n",
    "    # Sort movies by predicted rating and get top N (e.g., top 5)\n",
    "    top_n = sorted(user_recommendations, key=lambda x: x[1], reverse=True)[:5]\n",
    "    \n",
    "    # Store top N recommendations for the user\n",
    "    top_n_recommendations[user] = top_n\n",
    "\n",
    "# Output top N recommendations for each user\n",
    "for user, recommendations in top_n_recommendations.items():\n",
    "    print(f\"Top 5 recommendations for User {user}:\")\n",
    "    for movie, predicted_rating in recommendations:\n",
    "        print(f\"Movie {movie}: Predicted Rating {predicted_rating:.2f}\")\n"
   ]
  },
  {
   "cell_type": "markdown",
   "metadata": {},
   "source": [
    "# K-Nearest Neighbors"
   ]
  },
  {
   "cell_type": "code",
   "execution_count": 13,
   "metadata": {},
   "outputs": [],
   "source": [
    "from surprise import KNNBasic"
   ]
  },
  {
   "cell_type": "code",
   "execution_count": 14,
   "metadata": {},
   "outputs": [
    {
     "name": "stdout",
     "output_type": "stream",
     "text": [
      "Computing the msd similarity matrix...\n",
      "Done computing similarity matrix.\n"
     ]
    },
    {
     "data": {
      "text/plain": [
       "<surprise.prediction_algorithms.knns.KNNBasic at 0x22525dae760>"
      ]
     },
     "execution_count": 14,
     "metadata": {},
     "output_type": "execute_result"
    }
   ],
   "source": [
    "knn_model = KNNBasic()\n",
    "knn_model.fit(trainset)"
   ]
  },
  {
   "cell_type": "code",
   "execution_count": 15,
   "metadata": {},
   "outputs": [
    {
     "name": "stdout",
     "output_type": "stream",
     "text": [
      "RMSE: 0.9505\n"
     ]
    },
    {
     "data": {
      "text/plain": [
       "0.9504570556350629"
      ]
     },
     "execution_count": 15,
     "metadata": {},
     "output_type": "execute_result"
    }
   ],
   "source": [
    "knn_predictions = knn_model.test(testset)\n",
    "knn_rmse = accuracy.rmse(knn_predictions)\n",
    "knn_rmse "
   ]
  },
  {
   "cell_type": "code",
   "execution_count": 16,
   "metadata": {},
   "outputs": [
    {
     "name": "stdout",
     "output_type": "stream",
     "text": [
      "Top 5 recommendations for User 1:\n",
      "Movie 2086: Predicted Rating 5.00\n",
      "Movie 5071: Predicted Rating 5.00\n",
      "Movie 1859: Predicted Rating 5.00\n",
      "Movie 26131: Predicted Rating 5.00\n",
      "Movie 6643: Predicted Rating 5.00\n",
      "Top 5 recommendations for User 2:\n",
      "Movie 2086: Predicted Rating 5.00\n",
      "Movie 5071: Predicted Rating 5.00\n",
      "Movie 5062: Predicted Rating 5.00\n",
      "Movie 4789: Predicted Rating 5.00\n",
      "Movie 93855: Predicted Rating 5.00\n"
     ]
    }
   ],
   "source": [
    "# Get all unique users and movies\n",
    "unique_users = merged_data['userId'].unique()\n",
    "unique_movies = merged_data['movieId'].unique()\n",
    "\n",
    "# Dictionary to store top N recommendations for each user\n",
    "top_n_recommendations = {}\n",
    "\n",
    "# Predict ratings for each user-movie pair\n",
    "for user in unique_users[:2]:\n",
    "    user_recommendations = []\n",
    "    for movie in unique_movies:\n",
    "        # Predict rating for the (user, movie) pair\n",
    "        pred = knn_model.predict(user, movie, verbose=False)\n",
    "        user_recommendations.append((movie, pred.est))\n",
    "    \n",
    "    # Sort movies by predicted rating and get top N (e.g., top 5)\n",
    "    top_n = sorted(user_recommendations, key=lambda x: x[1], reverse=True)[:5]\n",
    "    \n",
    "    # Store top N recommendations for the user\n",
    "    top_n_recommendations[user] = top_n\n",
    "\n",
    "# Output top N recommendations for each user\n",
    "for user, recommendations in top_n_recommendations.items():\n",
    "    print(f\"Top 5 recommendations for User {user}:\")\n",
    "    for movie, predicted_rating in recommendations:\n",
    "        print(f\"Movie {movie}: Predicted Rating {predicted_rating:.2f}\")"
   ]
  },
  {
   "cell_type": "markdown",
   "metadata": {},
   "source": [
    "# Model ranking"
   ]
  },
  {
   "cell_type": "code",
   "execution_count": 17,
   "metadata": {},
   "outputs": [
    {
     "name": "stdout",
     "output_type": "stream",
     "text": [
      "Ranked models: [('SVD', 0.8894172173155329), ('k-NN', 0.9504570556350629)]\n"
     ]
    }
   ],
   "source": [
    "model_performance = {\n",
    "    'SVD': svd_rmse,\n",
    "    'k-NN': knn_rmse\n",
    "}\n",
    "\n",
    "# Rank models based on RMSE\n",
    "ranked_models = sorted(model_performance.items(), key=lambda x: x[1])\n",
    "print(\"Ranked models:\", ranked_models)"
   ]
  },
  {
   "cell_type": "markdown",
   "metadata": {},
   "source": [
    "# Hyperparameter tuning"
   ]
  },
  {
   "cell_type": "code",
   "execution_count": 18,
   "metadata": {},
   "outputs": [],
   "source": [
    "from surprise.model_selection import GridSearchCV"
   ]
  },
  {
   "cell_type": "code",
   "execution_count": 19,
   "metadata": {},
   "outputs": [
    {
     "name": "stdout",
     "output_type": "stream",
     "text": [
      "Best SVD parameters: {'rmse': {'n_factors': 20, 'reg_all': 0.05}}\n"
     ]
    }
   ],
   "source": [
    "# Hyperparameter tuning for SVD\n",
    "param_grid_svd = {\n",
    "    'n_factors': [10, 20, 30],\n",
    "    'reg_all': [0.02, 0.05, 0.1],\n",
    "}\n",
    "\n",
    "grid_search_svd = GridSearchCV(SVD, param_grid_svd, measures=['rmse'], cv=3)\n",
    "grid_search_svd.fit(data)\n",
    "\n",
    "# Best parameters for SVD\n",
    "print(\"Best SVD parameters:\", grid_search_svd.best_params)"
   ]
  },
  {
   "cell_type": "code",
   "execution_count": 20,
   "metadata": {
    "scrolled": true
   },
   "outputs": [
    {
     "name": "stdout",
     "output_type": "stream",
     "text": [
      "Computing the msd similarity matrix...\n",
      "Done computing similarity matrix.\n",
      "Computing the msd similarity matrix...\n",
      "Done computing similarity matrix.\n",
      "Computing the msd similarity matrix...\n",
      "Done computing similarity matrix.\n",
      "Computing the cosine similarity matrix...\n",
      "Done computing similarity matrix.\n",
      "Computing the cosine similarity matrix...\n",
      "Done computing similarity matrix.\n",
      "Computing the cosine similarity matrix...\n",
      "Done computing similarity matrix.\n",
      "Computing the msd similarity matrix...\n",
      "Done computing similarity matrix.\n",
      "Computing the msd similarity matrix...\n",
      "Done computing similarity matrix.\n",
      "Computing the msd similarity matrix...\n",
      "Done computing similarity matrix.\n",
      "Computing the cosine similarity matrix...\n",
      "Done computing similarity matrix.\n",
      "Computing the cosine similarity matrix...\n",
      "Done computing similarity matrix.\n",
      "Computing the cosine similarity matrix...\n",
      "Done computing similarity matrix.\n",
      "Computing the msd similarity matrix...\n",
      "Done computing similarity matrix.\n",
      "Computing the msd similarity matrix...\n",
      "Done computing similarity matrix.\n",
      "Computing the msd similarity matrix...\n",
      "Done computing similarity matrix.\n",
      "Computing the cosine similarity matrix...\n",
      "Done computing similarity matrix.\n",
      "Computing the cosine similarity matrix...\n",
      "Done computing similarity matrix.\n",
      "Computing the cosine similarity matrix...\n",
      "Done computing similarity matrix.\n",
      "Best k-NN parameters: {'rmse': {'k': 15, 'sim_options': {'name': 'msd', 'user_based': True}}}\n"
     ]
    }
   ],
   "source": [
    "# Hyperparameter tuning for k-NN\n",
    "param_grid_knn = {\n",
    "    'k': [5, 10, 15],\n",
    "    'sim_options': {'name': ['msd', 'cosine'], 'user_based': [True]}\n",
    "}\n",
    "\n",
    "grid_search_knn = GridSearchCV(KNNBasic, param_grid_knn, measures=['rmse'], cv=3)\n",
    "grid_search_knn.fit(data)\n",
    "\n",
    "# Best parameters for k-NN\n",
    "print(\"Best k-NN parameters:\", grid_search_knn.best_params)"
   ]
  },
  {
   "cell_type": "markdown",
   "metadata": {},
   "source": [
    "Final Model Training with Best Parameters"
   ]
  },
  {
   "cell_type": "code",
   "execution_count": 21,
   "metadata": {},
   "outputs": [
    {
     "name": "stdout",
     "output_type": "stream",
     "text": [
      "Computing the msd similarity matrix...\n",
      "Done computing similarity matrix.\n"
     ]
    },
    {
     "data": {
      "text/plain": [
       "<surprise.prediction_algorithms.knns.KNNBasic at 0x22526ad0eb0>"
      ]
     },
     "execution_count": 21,
     "metadata": {},
     "output_type": "execute_result"
    }
   ],
   "source": [
    "best_svd = SVD(n_factors=grid_search_svd.best_params['rmse']['n_factors'],\n",
    "               reg_all=grid_search_svd.best_params['rmse']['reg_all'])\n",
    "best_svd.fit(trainset)\n",
    "\n",
    "# Train final k-NN model with best parameters\n",
    "best_knn = KNNBasic(k=grid_search_knn.best_params['rmse']['k'],\n",
    "                    sim_options=grid_search_knn.best_params['rmse']['sim_options'])\n",
    "best_knn.fit(trainset)"
   ]
  },
  {
   "cell_type": "code",
   "execution_count": 22,
   "metadata": {},
   "outputs": [
    {
     "name": "stdout",
     "output_type": "stream",
     "text": [
      "RMSE: 0.8806\n"
     ]
    },
    {
     "data": {
      "text/plain": [
       "0.8805694312977247"
      ]
     },
     "execution_count": 22,
     "metadata": {},
     "output_type": "execute_result"
    }
   ],
   "source": [
    "predictions = best_svd.test(testset)\n",
    "svd_rmse =accuracy.rmse(predictions)\n",
    "svd_rmse"
   ]
  },
  {
   "cell_type": "code",
   "execution_count": 23,
   "metadata": {},
   "outputs": [
    {
     "name": "stdout",
     "output_type": "stream",
     "text": [
      "RMSE: 0.9474\n"
     ]
    },
    {
     "data": {
      "text/plain": [
       "0.9474474763274131"
      ]
     },
     "execution_count": 23,
     "metadata": {},
     "output_type": "execute_result"
    }
   ],
   "source": [
    "knn_predictions = best_knn.test(testset)\n",
    "knn_rmse = accuracy.rmse(knn_predictions)\n",
    "knn_rmse"
   ]
  },
  {
   "cell_type": "markdown",
   "metadata": {},
   "source": [
    "# Make recommendation"
   ]
  },
  {
   "cell_type": "code",
   "execution_count": 24,
   "metadata": {},
   "outputs": [],
   "source": [
    "def get_recommendations(model, user_id, num_recommendations):\n",
    "    unique_users = merged_data['userId'].unique()\n",
    "    unique_movies = merged_data['movieId'].unique()\n",
    "\n",
    "# Dictionary to store top N recommendations for each user\n",
    "    top_n_recommendations = {}\n",
    "\n",
    "# Predict ratings for each user-movie pair\n",
    "    user_recommendations = []\n",
    "    for movie in unique_movies:\n",
    "        # Predict rating for the (user, movie) pair\n",
    "        pred = knn_model.predict(user_id, movie, verbose=False)\n",
    "        user_recommendations.append((movie, pred.est))\n",
    "    \n",
    "        # Sort movies by predicted rating and get top N (e.g., top 5)\n",
    "        top_n = sorted(user_recommendations, key=lambda x: x[1], reverse=True)[:num_recommendations]\n",
    "    \n",
    "        # Store top N recommendations for the user\n",
    "        top_n_recommendations[user] = top_n\n",
    "\n",
    "    # Output top N recommendations for each user\n",
    "    print(f\"Top {num_recommendations} recommendations for User {user_id}:\")\n",
    "    for movie, predicted_rating in top_n:\n",
    "        title = merged_data.loc[merged_data['movieId'] == movie, 'title']\n",
    "        print(f\"{title.values[0]}. Predicted Rating {predicted_rating:.2f}\")"
   ]
  },
  {
   "cell_type": "code",
   "execution_count": 25,
   "metadata": {
    "scrolled": true
   },
   "outputs": [
    {
     "name": "stdout",
     "output_type": "stream",
     "text": [
      "Top 5 recommendations for User 98:\n",
      "Nick of Time. Predicted Rating 5.00\n",
      "The Crazy Stranger. Predicted Rating 5.00\n",
      "The Inquisitor. Predicted Rating 5.00\n",
      "Posti in piedi in paradiso. Predicted Rating 5.00\n",
      "The End of Poverty?. Predicted Rating 5.00\n"
     ]
    }
   ],
   "source": [
    "recommended_movies = get_recommendations(best_svd, user_id=98, num_recommendations=5)"
   ]
  },
  {
   "cell_type": "code",
   "execution_count": 26,
   "metadata": {},
   "outputs": [
    {
     "name": "stdout",
     "output_type": "stream",
     "text": [
      "Top 5 recommendations for User 48:\n",
      "Nick of Time. Predicted Rating 5.00\n",
      "The Crazy Stranger. Predicted Rating 5.00\n",
      "Ninotchka. Predicted Rating 5.00\n",
      "The Inquisitor. Predicted Rating 5.00\n",
      "The Garden of the Finzi-Continis. Predicted Rating 5.00\n"
     ]
    }
   ],
   "source": [
    "recommended_movies = get_recommendations(best_knn, user_id=48, num_recommendations=5)"
   ]
  },
  {
   "cell_type": "code",
   "execution_count": null,
   "metadata": {},
   "outputs": [],
   "source": []
  }
 ],
 "metadata": {
  "kernelspec": {
   "display_name": "Python 3",
   "language": "python",
   "name": "python3"
  },
  "language_info": {
   "codemirror_mode": {
    "name": "ipython",
    "version": 3
   },
   "file_extension": ".py",
   "mimetype": "text/x-python",
   "name": "python",
   "nbconvert_exporter": "python",
   "pygments_lexer": "ipython3",
   "version": "3.8.3"
  }
 },
 "nbformat": 4,
 "nbformat_minor": 4
}
