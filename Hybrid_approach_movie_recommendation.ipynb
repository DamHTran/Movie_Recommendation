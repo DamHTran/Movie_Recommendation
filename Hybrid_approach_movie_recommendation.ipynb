{
 "cells": [
  {
   "cell_type": "markdown",
   "metadata": {},
   "source": [
    "# Import libraries"
   ]
  },
  {
   "cell_type": "code",
   "execution_count": 1,
   "metadata": {},
   "outputs": [],
   "source": [
    "import pandas as pd\n",
    "import matplotlib.pyplot as plt\n",
    "import seaborn as sns\n",
    "import numpy as np\n",
    "sns.set()\n",
    "from surprise import Dataset, Reader\n",
    "from surprise.model_selection import train_test_split\n",
    "from surprise import SVD\n",
    "from surprise.model_selection import cross_validate\n",
    "from surprise import accuracy"
   ]
  },
  {
   "cell_type": "code",
   "execution_count": 2,
   "metadata": {},
   "outputs": [
    {
     "name": "stderr",
     "output_type": "stream",
     "text": [
      "C:\\Users\\thdam\\anaconda3\\lib\\site-packages\\IPython\\core\\interactiveshell.py:3071: DtypeWarning: Columns (10) have mixed types.Specify dtype option on import or set low_memory=False.\n",
      "  has_raised = await self.run_ast_nodes(code_ast.body, cell_name,\n"
     ]
    }
   ],
   "source": [
    "data_movies_metadata = pd.read_csv('D:\\Projects\\ISM\\DataScience\\Movies\\movies_metadata.csv')\n",
    "data_ratings =pd.read_csv('ratings_small.csv')"
   ]
  },
  {
   "cell_type": "code",
   "execution_count": 3,
   "metadata": {},
   "outputs": [],
   "source": [
    "data_keywords = pd.read_csv('D:\\Projects\\ISM\\DataScience\\Movies\\keywords.csv')"
   ]
  },
  {
   "cell_type": "markdown",
   "metadata": {},
   "source": [
    "Merge data"
   ]
  },
  {
   "cell_type": "code",
   "execution_count": 4,
   "metadata": {},
   "outputs": [
    {
     "data": {
      "text/html": [
       "<div>\n",
       "<style scoped>\n",
       "    .dataframe tbody tr th:only-of-type {\n",
       "        vertical-align: middle;\n",
       "    }\n",
       "\n",
       "    .dataframe tbody tr th {\n",
       "        vertical-align: top;\n",
       "    }\n",
       "\n",
       "    .dataframe thead th {\n",
       "        text-align: right;\n",
       "    }\n",
       "</style>\n",
       "<table border=\"1\" class=\"dataframe\">\n",
       "  <thead>\n",
       "    <tr style=\"text-align: right;\">\n",
       "      <th></th>\n",
       "      <th>id</th>\n",
       "      <th>keywords</th>\n",
       "    </tr>\n",
       "  </thead>\n",
       "  <tbody>\n",
       "    <tr>\n",
       "      <th>0</th>\n",
       "      <td>862</td>\n",
       "      <td>[{'id': 931, 'name': 'jealousy'}, {'id': 4290,...</td>\n",
       "    </tr>\n",
       "    <tr>\n",
       "      <th>1</th>\n",
       "      <td>8844</td>\n",
       "      <td>[{'id': 10090, 'name': 'board game'}, {'id': 1...</td>\n",
       "    </tr>\n",
       "    <tr>\n",
       "      <th>2</th>\n",
       "      <td>15602</td>\n",
       "      <td>[{'id': 1495, 'name': 'fishing'}, {'id': 12392...</td>\n",
       "    </tr>\n",
       "    <tr>\n",
       "      <th>3</th>\n",
       "      <td>31357</td>\n",
       "      <td>[{'id': 818, 'name': 'based on novel'}, {'id':...</td>\n",
       "    </tr>\n",
       "    <tr>\n",
       "      <th>4</th>\n",
       "      <td>11862</td>\n",
       "      <td>[{'id': 1009, 'name': 'baby'}, {'id': 1599, 'n...</td>\n",
       "    </tr>\n",
       "  </tbody>\n",
       "</table>\n",
       "</div>"
      ],
      "text/plain": [
       "      id                                           keywords\n",
       "0    862  [{'id': 931, 'name': 'jealousy'}, {'id': 4290,...\n",
       "1   8844  [{'id': 10090, 'name': 'board game'}, {'id': 1...\n",
       "2  15602  [{'id': 1495, 'name': 'fishing'}, {'id': 12392...\n",
       "3  31357  [{'id': 818, 'name': 'based on novel'}, {'id':...\n",
       "4  11862  [{'id': 1009, 'name': 'baby'}, {'id': 1599, 'n..."
      ]
     },
     "execution_count": 4,
     "metadata": {},
     "output_type": "execute_result"
    }
   ],
   "source": [
    "data_keywords.head()"
   ]
  },
  {
   "cell_type": "code",
   "execution_count": 5,
   "metadata": {},
   "outputs": [],
   "source": [
    "import ast"
   ]
  },
  {
   "cell_type": "code",
   "execution_count": 6,
   "metadata": {},
   "outputs": [
    {
     "data": {
      "text/html": [
       "<div>\n",
       "<style scoped>\n",
       "    .dataframe tbody tr th:only-of-type {\n",
       "        vertical-align: middle;\n",
       "    }\n",
       "\n",
       "    .dataframe tbody tr th {\n",
       "        vertical-align: top;\n",
       "    }\n",
       "\n",
       "    .dataframe thead th {\n",
       "        text-align: right;\n",
       "    }\n",
       "</style>\n",
       "<table border=\"1\" class=\"dataframe\">\n",
       "  <thead>\n",
       "    <tr style=\"text-align: right;\">\n",
       "      <th></th>\n",
       "      <th>id</th>\n",
       "      <th>keywords</th>\n",
       "      <th>keywords_extracted</th>\n",
       "    </tr>\n",
       "  </thead>\n",
       "  <tbody>\n",
       "    <tr>\n",
       "      <th>0</th>\n",
       "      <td>862</td>\n",
       "      <td>[{'id': 931, 'name': 'jealousy'}, {'id': 4290,...</td>\n",
       "      <td>[jealousy, toy, boy, friendship, friends, riva...</td>\n",
       "    </tr>\n",
       "    <tr>\n",
       "      <th>1</th>\n",
       "      <td>8844</td>\n",
       "      <td>[{'id': 10090, 'name': 'board game'}, {'id': 1...</td>\n",
       "      <td>[board game, disappearance, based on children'...</td>\n",
       "    </tr>\n",
       "    <tr>\n",
       "      <th>2</th>\n",
       "      <td>15602</td>\n",
       "      <td>[{'id': 1495, 'name': 'fishing'}, {'id': 12392...</td>\n",
       "      <td>[fishing, best friend, duringcreditsstinger, o...</td>\n",
       "    </tr>\n",
       "    <tr>\n",
       "      <th>3</th>\n",
       "      <td>31357</td>\n",
       "      <td>[{'id': 818, 'name': 'based on novel'}, {'id':...</td>\n",
       "      <td>[based on novel, interracial relationship, sin...</td>\n",
       "    </tr>\n",
       "    <tr>\n",
       "      <th>4</th>\n",
       "      <td>11862</td>\n",
       "      <td>[{'id': 1009, 'name': 'baby'}, {'id': 1599, 'n...</td>\n",
       "      <td>[baby, midlife crisis, confidence, aging, daug...</td>\n",
       "    </tr>\n",
       "    <tr>\n",
       "      <th>...</th>\n",
       "      <td>...</td>\n",
       "      <td>...</td>\n",
       "      <td>...</td>\n",
       "    </tr>\n",
       "    <tr>\n",
       "      <th>46414</th>\n",
       "      <td>439050</td>\n",
       "      <td>[{'id': 10703, 'name': 'tragic love'}]</td>\n",
       "      <td>[tragic love]</td>\n",
       "    </tr>\n",
       "    <tr>\n",
       "      <th>46415</th>\n",
       "      <td>111109</td>\n",
       "      <td>[{'id': 2679, 'name': 'artist'}, {'id': 14531,...</td>\n",
       "      <td>[artist, play, pinoy]</td>\n",
       "    </tr>\n",
       "    <tr>\n",
       "      <th>46416</th>\n",
       "      <td>67758</td>\n",
       "      <td>[]</td>\n",
       "      <td>[]</td>\n",
       "    </tr>\n",
       "    <tr>\n",
       "      <th>46417</th>\n",
       "      <td>227506</td>\n",
       "      <td>[]</td>\n",
       "      <td>[]</td>\n",
       "    </tr>\n",
       "    <tr>\n",
       "      <th>46418</th>\n",
       "      <td>461257</td>\n",
       "      <td>[]</td>\n",
       "      <td>[]</td>\n",
       "    </tr>\n",
       "  </tbody>\n",
       "</table>\n",
       "<p>46419 rows × 3 columns</p>\n",
       "</div>"
      ],
      "text/plain": [
       "           id                                           keywords  \\\n",
       "0         862  [{'id': 931, 'name': 'jealousy'}, {'id': 4290,...   \n",
       "1        8844  [{'id': 10090, 'name': 'board game'}, {'id': 1...   \n",
       "2       15602  [{'id': 1495, 'name': 'fishing'}, {'id': 12392...   \n",
       "3       31357  [{'id': 818, 'name': 'based on novel'}, {'id':...   \n",
       "4       11862  [{'id': 1009, 'name': 'baby'}, {'id': 1599, 'n...   \n",
       "...       ...                                                ...   \n",
       "46414  439050             [{'id': 10703, 'name': 'tragic love'}]   \n",
       "46415  111109  [{'id': 2679, 'name': 'artist'}, {'id': 14531,...   \n",
       "46416   67758                                                 []   \n",
       "46417  227506                                                 []   \n",
       "46418  461257                                                 []   \n",
       "\n",
       "                                      keywords_extracted  \n",
       "0      [jealousy, toy, boy, friendship, friends, riva...  \n",
       "1      [board game, disappearance, based on children'...  \n",
       "2      [fishing, best friend, duringcreditsstinger, o...  \n",
       "3      [based on novel, interracial relationship, sin...  \n",
       "4      [baby, midlife crisis, confidence, aging, daug...  \n",
       "...                                                  ...  \n",
       "46414                                      [tragic love]  \n",
       "46415                              [artist, play, pinoy]  \n",
       "46416                                                 []  \n",
       "46417                                                 []  \n",
       "46418                                                 []  \n",
       "\n",
       "[46419 rows x 3 columns]"
      ]
     },
     "execution_count": 6,
     "metadata": {},
     "output_type": "execute_result"
    }
   ],
   "source": [
    "def extract_keywords(json_data):\n",
    "    try:\n",
    "        data = ast.literal_eval(json_data)  # Safely convert the string to list of dictionaries\n",
    "        return [item['name'] for item in data]  # Extract 'name' from each dictionary\n",
    "    except (ValueError, SyntaxError):  # Handle errors if the data isn't properly formatted\n",
    "        return []\n",
    "\n",
    "# Apply the function to the 'keywords' column and create a new column 'keywords_extracted'\n",
    "data_keywords['keywords_extracted'] = data_keywords['keywords'].apply(extract_keywords)\n",
    "\n",
    "# Display the DataFrame\n",
    "data_keywords"
   ]
  },
  {
   "cell_type": "code",
   "execution_count": 7,
   "metadata": {},
   "outputs": [],
   "source": [
    "data_keywords.drop(columns = ['keywords'], inplace =True)"
   ]
  },
  {
   "cell_type": "code",
   "execution_count": 8,
   "metadata": {},
   "outputs": [
    {
     "data": {
      "text/html": [
       "<div>\n",
       "<style scoped>\n",
       "    .dataframe tbody tr th:only-of-type {\n",
       "        vertical-align: middle;\n",
       "    }\n",
       "\n",
       "    .dataframe tbody tr th {\n",
       "        vertical-align: top;\n",
       "    }\n",
       "\n",
       "    .dataframe thead th {\n",
       "        text-align: right;\n",
       "    }\n",
       "</style>\n",
       "<table border=\"1\" class=\"dataframe\">\n",
       "  <thead>\n",
       "    <tr style=\"text-align: right;\">\n",
       "      <th></th>\n",
       "      <th>id</th>\n",
       "      <th>keywords_extracted</th>\n",
       "    </tr>\n",
       "  </thead>\n",
       "  <tbody>\n",
       "    <tr>\n",
       "      <th>0</th>\n",
       "      <td>862</td>\n",
       "      <td>[jealousy, toy, boy, friendship, friends, riva...</td>\n",
       "    </tr>\n",
       "    <tr>\n",
       "      <th>1</th>\n",
       "      <td>8844</td>\n",
       "      <td>[board game, disappearance, based on children'...</td>\n",
       "    </tr>\n",
       "    <tr>\n",
       "      <th>2</th>\n",
       "      <td>15602</td>\n",
       "      <td>[fishing, best friend, duringcreditsstinger, o...</td>\n",
       "    </tr>\n",
       "    <tr>\n",
       "      <th>3</th>\n",
       "      <td>31357</td>\n",
       "      <td>[based on novel, interracial relationship, sin...</td>\n",
       "    </tr>\n",
       "    <tr>\n",
       "      <th>4</th>\n",
       "      <td>11862</td>\n",
       "      <td>[baby, midlife crisis, confidence, aging, daug...</td>\n",
       "    </tr>\n",
       "  </tbody>\n",
       "</table>\n",
       "</div>"
      ],
      "text/plain": [
       "      id                                 keywords_extracted\n",
       "0    862  [jealousy, toy, boy, friendship, friends, riva...\n",
       "1   8844  [board game, disappearance, based on children'...\n",
       "2  15602  [fishing, best friend, duringcreditsstinger, o...\n",
       "3  31357  [based on novel, interracial relationship, sin...\n",
       "4  11862  [baby, midlife crisis, confidence, aging, daug..."
      ]
     },
     "execution_count": 8,
     "metadata": {},
     "output_type": "execute_result"
    }
   ],
   "source": [
    "data_keywords.head()"
   ]
  },
  {
   "cell_type": "code",
   "execution_count": 9,
   "metadata": {},
   "outputs": [
    {
     "data": {
      "text/html": [
       "<div>\n",
       "<style scoped>\n",
       "    .dataframe tbody tr th:only-of-type {\n",
       "        vertical-align: middle;\n",
       "    }\n",
       "\n",
       "    .dataframe tbody tr th {\n",
       "        vertical-align: top;\n",
       "    }\n",
       "\n",
       "    .dataframe thead th {\n",
       "        text-align: right;\n",
       "    }\n",
       "</style>\n",
       "<table border=\"1\" class=\"dataframe\">\n",
       "  <thead>\n",
       "    <tr style=\"text-align: right;\">\n",
       "      <th></th>\n",
       "      <th>userId</th>\n",
       "      <th>movieId</th>\n",
       "      <th>rating</th>\n",
       "      <th>timestamp</th>\n",
       "      <th>adult</th>\n",
       "      <th>belongs_to_collection</th>\n",
       "      <th>budget</th>\n",
       "      <th>genres</th>\n",
       "      <th>homepage</th>\n",
       "      <th>id</th>\n",
       "      <th>...</th>\n",
       "      <th>release_date</th>\n",
       "      <th>revenue</th>\n",
       "      <th>runtime</th>\n",
       "      <th>spoken_languages</th>\n",
       "      <th>status</th>\n",
       "      <th>tagline</th>\n",
       "      <th>title</th>\n",
       "      <th>video</th>\n",
       "      <th>vote_average</th>\n",
       "      <th>vote_count</th>\n",
       "    </tr>\n",
       "  </thead>\n",
       "  <tbody>\n",
       "    <tr>\n",
       "      <th>0</th>\n",
       "      <td>1</td>\n",
       "      <td>1371</td>\n",
       "      <td>2.5</td>\n",
       "      <td>1260759135</td>\n",
       "      <td>False</td>\n",
       "      <td>{'id': 1575, 'name': 'Rocky Collection', 'post...</td>\n",
       "      <td>17000000</td>\n",
       "      <td>[{'id': 18, 'name': 'Drama'}]</td>\n",
       "      <td>NaN</td>\n",
       "      <td>1371</td>\n",
       "      <td>...</td>\n",
       "      <td>1982-05-28</td>\n",
       "      <td>270000000.0</td>\n",
       "      <td>99.0</td>\n",
       "      <td>[{'iso_639_1': 'en', 'name': 'English'}]</td>\n",
       "      <td>Released</td>\n",
       "      <td>The greatest challenge.</td>\n",
       "      <td>Rocky III</td>\n",
       "      <td>False</td>\n",
       "      <td>6.6</td>\n",
       "      <td>894.0</td>\n",
       "    </tr>\n",
       "    <tr>\n",
       "      <th>1</th>\n",
       "      <td>4</td>\n",
       "      <td>1371</td>\n",
       "      <td>4.0</td>\n",
       "      <td>949810302</td>\n",
       "      <td>False</td>\n",
       "      <td>{'id': 1575, 'name': 'Rocky Collection', 'post...</td>\n",
       "      <td>17000000</td>\n",
       "      <td>[{'id': 18, 'name': 'Drama'}]</td>\n",
       "      <td>NaN</td>\n",
       "      <td>1371</td>\n",
       "      <td>...</td>\n",
       "      <td>1982-05-28</td>\n",
       "      <td>270000000.0</td>\n",
       "      <td>99.0</td>\n",
       "      <td>[{'iso_639_1': 'en', 'name': 'English'}]</td>\n",
       "      <td>Released</td>\n",
       "      <td>The greatest challenge.</td>\n",
       "      <td>Rocky III</td>\n",
       "      <td>False</td>\n",
       "      <td>6.6</td>\n",
       "      <td>894.0</td>\n",
       "    </tr>\n",
       "    <tr>\n",
       "      <th>2</th>\n",
       "      <td>7</td>\n",
       "      <td>1371</td>\n",
       "      <td>3.0</td>\n",
       "      <td>851869160</td>\n",
       "      <td>False</td>\n",
       "      <td>{'id': 1575, 'name': 'Rocky Collection', 'post...</td>\n",
       "      <td>17000000</td>\n",
       "      <td>[{'id': 18, 'name': 'Drama'}]</td>\n",
       "      <td>NaN</td>\n",
       "      <td>1371</td>\n",
       "      <td>...</td>\n",
       "      <td>1982-05-28</td>\n",
       "      <td>270000000.0</td>\n",
       "      <td>99.0</td>\n",
       "      <td>[{'iso_639_1': 'en', 'name': 'English'}]</td>\n",
       "      <td>Released</td>\n",
       "      <td>The greatest challenge.</td>\n",
       "      <td>Rocky III</td>\n",
       "      <td>False</td>\n",
       "      <td>6.6</td>\n",
       "      <td>894.0</td>\n",
       "    </tr>\n",
       "    <tr>\n",
       "      <th>3</th>\n",
       "      <td>19</td>\n",
       "      <td>1371</td>\n",
       "      <td>4.0</td>\n",
       "      <td>855193404</td>\n",
       "      <td>False</td>\n",
       "      <td>{'id': 1575, 'name': 'Rocky Collection', 'post...</td>\n",
       "      <td>17000000</td>\n",
       "      <td>[{'id': 18, 'name': 'Drama'}]</td>\n",
       "      <td>NaN</td>\n",
       "      <td>1371</td>\n",
       "      <td>...</td>\n",
       "      <td>1982-05-28</td>\n",
       "      <td>270000000.0</td>\n",
       "      <td>99.0</td>\n",
       "      <td>[{'iso_639_1': 'en', 'name': 'English'}]</td>\n",
       "      <td>Released</td>\n",
       "      <td>The greatest challenge.</td>\n",
       "      <td>Rocky III</td>\n",
       "      <td>False</td>\n",
       "      <td>6.6</td>\n",
       "      <td>894.0</td>\n",
       "    </tr>\n",
       "    <tr>\n",
       "      <th>4</th>\n",
       "      <td>21</td>\n",
       "      <td>1371</td>\n",
       "      <td>3.0</td>\n",
       "      <td>853852263</td>\n",
       "      <td>False</td>\n",
       "      <td>{'id': 1575, 'name': 'Rocky Collection', 'post...</td>\n",
       "      <td>17000000</td>\n",
       "      <td>[{'id': 18, 'name': 'Drama'}]</td>\n",
       "      <td>NaN</td>\n",
       "      <td>1371</td>\n",
       "      <td>...</td>\n",
       "      <td>1982-05-28</td>\n",
       "      <td>270000000.0</td>\n",
       "      <td>99.0</td>\n",
       "      <td>[{'iso_639_1': 'en', 'name': 'English'}]</td>\n",
       "      <td>Released</td>\n",
       "      <td>The greatest challenge.</td>\n",
       "      <td>Rocky III</td>\n",
       "      <td>False</td>\n",
       "      <td>6.6</td>\n",
       "      <td>894.0</td>\n",
       "    </tr>\n",
       "  </tbody>\n",
       "</table>\n",
       "<p>5 rows × 28 columns</p>\n",
       "</div>"
      ],
      "text/plain": [
       "   userId movieId  rating   timestamp  adult  \\\n",
       "0       1    1371     2.5  1260759135  False   \n",
       "1       4    1371     4.0   949810302  False   \n",
       "2       7    1371     3.0   851869160  False   \n",
       "3      19    1371     4.0   855193404  False   \n",
       "4      21    1371     3.0   853852263  False   \n",
       "\n",
       "                               belongs_to_collection    budget  \\\n",
       "0  {'id': 1575, 'name': 'Rocky Collection', 'post...  17000000   \n",
       "1  {'id': 1575, 'name': 'Rocky Collection', 'post...  17000000   \n",
       "2  {'id': 1575, 'name': 'Rocky Collection', 'post...  17000000   \n",
       "3  {'id': 1575, 'name': 'Rocky Collection', 'post...  17000000   \n",
       "4  {'id': 1575, 'name': 'Rocky Collection', 'post...  17000000   \n",
       "\n",
       "                          genres homepage    id  ... release_date  \\\n",
       "0  [{'id': 18, 'name': 'Drama'}]      NaN  1371  ...   1982-05-28   \n",
       "1  [{'id': 18, 'name': 'Drama'}]      NaN  1371  ...   1982-05-28   \n",
       "2  [{'id': 18, 'name': 'Drama'}]      NaN  1371  ...   1982-05-28   \n",
       "3  [{'id': 18, 'name': 'Drama'}]      NaN  1371  ...   1982-05-28   \n",
       "4  [{'id': 18, 'name': 'Drama'}]      NaN  1371  ...   1982-05-28   \n",
       "\n",
       "       revenue runtime                          spoken_languages    status  \\\n",
       "0  270000000.0    99.0  [{'iso_639_1': 'en', 'name': 'English'}]  Released   \n",
       "1  270000000.0    99.0  [{'iso_639_1': 'en', 'name': 'English'}]  Released   \n",
       "2  270000000.0    99.0  [{'iso_639_1': 'en', 'name': 'English'}]  Released   \n",
       "3  270000000.0    99.0  [{'iso_639_1': 'en', 'name': 'English'}]  Released   \n",
       "4  270000000.0    99.0  [{'iso_639_1': 'en', 'name': 'English'}]  Released   \n",
       "\n",
       "                   tagline      title  video vote_average  vote_count  \n",
       "0  The greatest challenge.  Rocky III  False          6.6       894.0  \n",
       "1  The greatest challenge.  Rocky III  False          6.6       894.0  \n",
       "2  The greatest challenge.  Rocky III  False          6.6       894.0  \n",
       "3  The greatest challenge.  Rocky III  False          6.6       894.0  \n",
       "4  The greatest challenge.  Rocky III  False          6.6       894.0  \n",
       "\n",
       "[5 rows x 28 columns]"
      ]
     },
     "execution_count": 9,
     "metadata": {},
     "output_type": "execute_result"
    }
   ],
   "source": [
    "data_ratings['movieId'] = data_ratings['movieId'].astype(str)\n",
    "data_movies_metadata['id'] = data_movies_metadata['id'].astype(str)\n",
    "merged_data = pd.merge(data_ratings, data_movies_metadata, left_on='movieId', right_on='id', how='inner')\n",
    "merged_data.head()"
   ]
  },
  {
   "cell_type": "code",
   "execution_count": 10,
   "metadata": {},
   "outputs": [
    {
     "data": {
      "text/html": [
       "<div>\n",
       "<style scoped>\n",
       "    .dataframe tbody tr th:only-of-type {\n",
       "        vertical-align: middle;\n",
       "    }\n",
       "\n",
       "    .dataframe tbody tr th {\n",
       "        vertical-align: top;\n",
       "    }\n",
       "\n",
       "    .dataframe thead th {\n",
       "        text-align: right;\n",
       "    }\n",
       "</style>\n",
       "<table border=\"1\" class=\"dataframe\">\n",
       "  <thead>\n",
       "    <tr style=\"text-align: right;\">\n",
       "      <th></th>\n",
       "      <th>id_x</th>\n",
       "      <th>keywords_extracted</th>\n",
       "      <th>userId</th>\n",
       "      <th>movieId</th>\n",
       "      <th>rating</th>\n",
       "      <th>timestamp</th>\n",
       "      <th>adult</th>\n",
       "      <th>belongs_to_collection</th>\n",
       "      <th>budget</th>\n",
       "      <th>genres</th>\n",
       "      <th>...</th>\n",
       "      <th>release_date</th>\n",
       "      <th>revenue</th>\n",
       "      <th>runtime</th>\n",
       "      <th>spoken_languages</th>\n",
       "      <th>status</th>\n",
       "      <th>tagline</th>\n",
       "      <th>title</th>\n",
       "      <th>video</th>\n",
       "      <th>vote_average</th>\n",
       "      <th>vote_count</th>\n",
       "    </tr>\n",
       "  </thead>\n",
       "  <tbody>\n",
       "    <tr>\n",
       "      <th>0</th>\n",
       "      <td>949</td>\n",
       "      <td>[robbery, detective, bank, obsession, chase, s...</td>\n",
       "      <td>23</td>\n",
       "      <td>949</td>\n",
       "      <td>3.5</td>\n",
       "      <td>1148721092</td>\n",
       "      <td>False</td>\n",
       "      <td>NaN</td>\n",
       "      <td>60000000</td>\n",
       "      <td>[{'id': 28, 'name': 'Action'}, {'id': 80, 'nam...</td>\n",
       "      <td>...</td>\n",
       "      <td>1995-12-15</td>\n",
       "      <td>187436818.0</td>\n",
       "      <td>170.0</td>\n",
       "      <td>[{'iso_639_1': 'en', 'name': 'English'}, {'iso...</td>\n",
       "      <td>Released</td>\n",
       "      <td>A Los Angeles Crime Saga</td>\n",
       "      <td>Heat</td>\n",
       "      <td>False</td>\n",
       "      <td>7.7</td>\n",
       "      <td>1886.0</td>\n",
       "    </tr>\n",
       "    <tr>\n",
       "      <th>1</th>\n",
       "      <td>949</td>\n",
       "      <td>[robbery, detective, bank, obsession, chase, s...</td>\n",
       "      <td>102</td>\n",
       "      <td>949</td>\n",
       "      <td>4.0</td>\n",
       "      <td>956598942</td>\n",
       "      <td>False</td>\n",
       "      <td>NaN</td>\n",
       "      <td>60000000</td>\n",
       "      <td>[{'id': 28, 'name': 'Action'}, {'id': 80, 'nam...</td>\n",
       "      <td>...</td>\n",
       "      <td>1995-12-15</td>\n",
       "      <td>187436818.0</td>\n",
       "      <td>170.0</td>\n",
       "      <td>[{'iso_639_1': 'en', 'name': 'English'}, {'iso...</td>\n",
       "      <td>Released</td>\n",
       "      <td>A Los Angeles Crime Saga</td>\n",
       "      <td>Heat</td>\n",
       "      <td>False</td>\n",
       "      <td>7.7</td>\n",
       "      <td>1886.0</td>\n",
       "    </tr>\n",
       "    <tr>\n",
       "      <th>2</th>\n",
       "      <td>949</td>\n",
       "      <td>[robbery, detective, bank, obsession, chase, s...</td>\n",
       "      <td>232</td>\n",
       "      <td>949</td>\n",
       "      <td>2.0</td>\n",
       "      <td>955092697</td>\n",
       "      <td>False</td>\n",
       "      <td>NaN</td>\n",
       "      <td>60000000</td>\n",
       "      <td>[{'id': 28, 'name': 'Action'}, {'id': 80, 'nam...</td>\n",
       "      <td>...</td>\n",
       "      <td>1995-12-15</td>\n",
       "      <td>187436818.0</td>\n",
       "      <td>170.0</td>\n",
       "      <td>[{'iso_639_1': 'en', 'name': 'English'}, {'iso...</td>\n",
       "      <td>Released</td>\n",
       "      <td>A Los Angeles Crime Saga</td>\n",
       "      <td>Heat</td>\n",
       "      <td>False</td>\n",
       "      <td>7.7</td>\n",
       "      <td>1886.0</td>\n",
       "    </tr>\n",
       "    <tr>\n",
       "      <th>3</th>\n",
       "      <td>949</td>\n",
       "      <td>[robbery, detective, bank, obsession, chase, s...</td>\n",
       "      <td>242</td>\n",
       "      <td>949</td>\n",
       "      <td>5.0</td>\n",
       "      <td>956688825</td>\n",
       "      <td>False</td>\n",
       "      <td>NaN</td>\n",
       "      <td>60000000</td>\n",
       "      <td>[{'id': 28, 'name': 'Action'}, {'id': 80, 'nam...</td>\n",
       "      <td>...</td>\n",
       "      <td>1995-12-15</td>\n",
       "      <td>187436818.0</td>\n",
       "      <td>170.0</td>\n",
       "      <td>[{'iso_639_1': 'en', 'name': 'English'}, {'iso...</td>\n",
       "      <td>Released</td>\n",
       "      <td>A Los Angeles Crime Saga</td>\n",
       "      <td>Heat</td>\n",
       "      <td>False</td>\n",
       "      <td>7.7</td>\n",
       "      <td>1886.0</td>\n",
       "    </tr>\n",
       "    <tr>\n",
       "      <th>4</th>\n",
       "      <td>949</td>\n",
       "      <td>[robbery, detective, bank, obsession, chase, s...</td>\n",
       "      <td>263</td>\n",
       "      <td>949</td>\n",
       "      <td>3.0</td>\n",
       "      <td>1117846575</td>\n",
       "      <td>False</td>\n",
       "      <td>NaN</td>\n",
       "      <td>60000000</td>\n",
       "      <td>[{'id': 28, 'name': 'Action'}, {'id': 80, 'nam...</td>\n",
       "      <td>...</td>\n",
       "      <td>1995-12-15</td>\n",
       "      <td>187436818.0</td>\n",
       "      <td>170.0</td>\n",
       "      <td>[{'iso_639_1': 'en', 'name': 'English'}, {'iso...</td>\n",
       "      <td>Released</td>\n",
       "      <td>A Los Angeles Crime Saga</td>\n",
       "      <td>Heat</td>\n",
       "      <td>False</td>\n",
       "      <td>7.7</td>\n",
       "      <td>1886.0</td>\n",
       "    </tr>\n",
       "  </tbody>\n",
       "</table>\n",
       "<p>5 rows × 30 columns</p>\n",
       "</div>"
      ],
      "text/plain": [
       "  id_x                                 keywords_extracted  userId movieId  \\\n",
       "0  949  [robbery, detective, bank, obsession, chase, s...      23     949   \n",
       "1  949  [robbery, detective, bank, obsession, chase, s...     102     949   \n",
       "2  949  [robbery, detective, bank, obsession, chase, s...     232     949   \n",
       "3  949  [robbery, detective, bank, obsession, chase, s...     242     949   \n",
       "4  949  [robbery, detective, bank, obsession, chase, s...     263     949   \n",
       "\n",
       "   rating   timestamp  adult belongs_to_collection    budget  \\\n",
       "0     3.5  1148721092  False                   NaN  60000000   \n",
       "1     4.0   956598942  False                   NaN  60000000   \n",
       "2     2.0   955092697  False                   NaN  60000000   \n",
       "3     5.0   956688825  False                   NaN  60000000   \n",
       "4     3.0  1117846575  False                   NaN  60000000   \n",
       "\n",
       "                                              genres  ... release_date  \\\n",
       "0  [{'id': 28, 'name': 'Action'}, {'id': 80, 'nam...  ...   1995-12-15   \n",
       "1  [{'id': 28, 'name': 'Action'}, {'id': 80, 'nam...  ...   1995-12-15   \n",
       "2  [{'id': 28, 'name': 'Action'}, {'id': 80, 'nam...  ...   1995-12-15   \n",
       "3  [{'id': 28, 'name': 'Action'}, {'id': 80, 'nam...  ...   1995-12-15   \n",
       "4  [{'id': 28, 'name': 'Action'}, {'id': 80, 'nam...  ...   1995-12-15   \n",
       "\n",
       "       revenue runtime                                   spoken_languages  \\\n",
       "0  187436818.0   170.0  [{'iso_639_1': 'en', 'name': 'English'}, {'iso...   \n",
       "1  187436818.0   170.0  [{'iso_639_1': 'en', 'name': 'English'}, {'iso...   \n",
       "2  187436818.0   170.0  [{'iso_639_1': 'en', 'name': 'English'}, {'iso...   \n",
       "3  187436818.0   170.0  [{'iso_639_1': 'en', 'name': 'English'}, {'iso...   \n",
       "4  187436818.0   170.0  [{'iso_639_1': 'en', 'name': 'English'}, {'iso...   \n",
       "\n",
       "     status                   tagline title  video vote_average vote_count  \n",
       "0  Released  A Los Angeles Crime Saga  Heat  False          7.7     1886.0  \n",
       "1  Released  A Los Angeles Crime Saga  Heat  False          7.7     1886.0  \n",
       "2  Released  A Los Angeles Crime Saga  Heat  False          7.7     1886.0  \n",
       "3  Released  A Los Angeles Crime Saga  Heat  False          7.7     1886.0  \n",
       "4  Released  A Los Angeles Crime Saga  Heat  False          7.7     1886.0  \n",
       "\n",
       "[5 rows x 30 columns]"
      ]
     },
     "execution_count": 10,
     "metadata": {},
     "output_type": "execute_result"
    }
   ],
   "source": [
    "data_keywords['id'] = data_keywords['id'].astype(str)\n",
    "merged_data = pd.merge(data_keywords, merged_data, left_on='id', right_on='movieId', how='inner')\n",
    "#should have the same user id - movie id with the other approach\n",
    "merged_data.head()"
   ]
  },
  {
   "cell_type": "markdown",
   "metadata": {},
   "source": [
    "# Preprocessing data"
   ]
  },
  {
   "cell_type": "code",
   "execution_count": 11,
   "metadata": {},
   "outputs": [
    {
     "data": {
      "text/html": [
       "<div>\n",
       "<style scoped>\n",
       "    .dataframe tbody tr th:only-of-type {\n",
       "        vertical-align: middle;\n",
       "    }\n",
       "\n",
       "    .dataframe tbody tr th {\n",
       "        vertical-align: top;\n",
       "    }\n",
       "\n",
       "    .dataframe thead th {\n",
       "        text-align: right;\n",
       "    }\n",
       "</style>\n",
       "<table border=\"1\" class=\"dataframe\">\n",
       "  <thead>\n",
       "    <tr style=\"text-align: right;\">\n",
       "      <th></th>\n",
       "      <th>id_x</th>\n",
       "      <th>keywords_extracted</th>\n",
       "      <th>userId</th>\n",
       "      <th>movieId</th>\n",
       "      <th>rating</th>\n",
       "      <th>timestamp</th>\n",
       "      <th>adult</th>\n",
       "      <th>belongs_to_collection</th>\n",
       "      <th>budget</th>\n",
       "      <th>genres</th>\n",
       "      <th>...</th>\n",
       "      <th>release_date</th>\n",
       "      <th>revenue</th>\n",
       "      <th>runtime</th>\n",
       "      <th>spoken_languages</th>\n",
       "      <th>status</th>\n",
       "      <th>tagline</th>\n",
       "      <th>title</th>\n",
       "      <th>video</th>\n",
       "      <th>vote_average</th>\n",
       "      <th>vote_count</th>\n",
       "    </tr>\n",
       "  </thead>\n",
       "  <tbody>\n",
       "    <tr>\n",
       "      <th>count</th>\n",
       "      <td>45020</td>\n",
       "      <td>45020</td>\n",
       "      <td>45020.000000</td>\n",
       "      <td>45020</td>\n",
       "      <td>45020.000000</td>\n",
       "      <td>4.502000e+04</td>\n",
       "      <td>45020</td>\n",
       "      <td>10793</td>\n",
       "      <td>45020</td>\n",
       "      <td>45020</td>\n",
       "      <td>...</td>\n",
       "      <td>44991</td>\n",
       "      <td>4.502000e+04</td>\n",
       "      <td>45016.000000</td>\n",
       "      <td>45020</td>\n",
       "      <td>45019</td>\n",
       "      <td>31532</td>\n",
       "      <td>45020</td>\n",
       "      <td>45020</td>\n",
       "      <td>45020.000000</td>\n",
       "      <td>45020.000000</td>\n",
       "    </tr>\n",
       "    <tr>\n",
       "      <th>unique</th>\n",
       "      <td>2830</td>\n",
       "      <td>2467</td>\n",
       "      <td>NaN</td>\n",
       "      <td>2830</td>\n",
       "      <td>NaN</td>\n",
       "      <td>NaN</td>\n",
       "      <td>2</td>\n",
       "      <td>345</td>\n",
       "      <td>313</td>\n",
       "      <td>790</td>\n",
       "      <td>...</td>\n",
       "      <td>2444</td>\n",
       "      <td>NaN</td>\n",
       "      <td>NaN</td>\n",
       "      <td>404</td>\n",
       "      <td>4</td>\n",
       "      <td>1786</td>\n",
       "      <td>2794</td>\n",
       "      <td>2</td>\n",
       "      <td>NaN</td>\n",
       "      <td>NaN</td>\n",
       "    </tr>\n",
       "    <tr>\n",
       "      <th>top</th>\n",
       "      <td>296</td>\n",
       "      <td>[]</td>\n",
       "      <td>NaN</td>\n",
       "      <td>296</td>\n",
       "      <td>NaN</td>\n",
       "      <td>NaN</td>\n",
       "      <td>False</td>\n",
       "      <td>{'id': 528, 'name': 'The Terminator Collection...</td>\n",
       "      <td>0</td>\n",
       "      <td>[{'id': 18, 'name': 'Drama'}]</td>\n",
       "      <td>...</td>\n",
       "      <td>2003-07-02</td>\n",
       "      <td>NaN</td>\n",
       "      <td>NaN</td>\n",
       "      <td>[{'iso_639_1': 'en', 'name': 'English'}]</td>\n",
       "      <td>Released</td>\n",
       "      <td>The Machines Will Rise.</td>\n",
       "      <td>Terminator 3: Rise of the Machines</td>\n",
       "      <td>False</td>\n",
       "      <td>NaN</td>\n",
       "      <td>NaN</td>\n",
       "    </tr>\n",
       "    <tr>\n",
       "      <th>freq</th>\n",
       "      <td>324</td>\n",
       "      <td>1706</td>\n",
       "      <td>NaN</td>\n",
       "      <td>324</td>\n",
       "      <td>NaN</td>\n",
       "      <td>NaN</td>\n",
       "      <td>45019</td>\n",
       "      <td>386</td>\n",
       "      <td>19539</td>\n",
       "      <td>4955</td>\n",
       "      <td>...</td>\n",
       "      <td>324</td>\n",
       "      <td>NaN</td>\n",
       "      <td>NaN</td>\n",
       "      <td>22473</td>\n",
       "      <td>44965</td>\n",
       "      <td>324</td>\n",
       "      <td>324</td>\n",
       "      <td>45016</td>\n",
       "      <td>NaN</td>\n",
       "      <td>NaN</td>\n",
       "    </tr>\n",
       "    <tr>\n",
       "      <th>mean</th>\n",
       "      <td>NaN</td>\n",
       "      <td>NaN</td>\n",
       "      <td>345.990893</td>\n",
       "      <td>NaN</td>\n",
       "      <td>3.560962</td>\n",
       "      <td>1.089542e+09</td>\n",
       "      <td>NaN</td>\n",
       "      <td>NaN</td>\n",
       "      <td>NaN</td>\n",
       "      <td>NaN</td>\n",
       "      <td>...</td>\n",
       "      <td>NaN</td>\n",
       "      <td>7.609657e+07</td>\n",
       "      <td>108.986094</td>\n",
       "      <td>NaN</td>\n",
       "      <td>NaN</td>\n",
       "      <td>NaN</td>\n",
       "      <td>NaN</td>\n",
       "      <td>NaN</td>\n",
       "      <td>6.633023</td>\n",
       "      <td>669.186539</td>\n",
       "    </tr>\n",
       "    <tr>\n",
       "      <th>std</th>\n",
       "      <td>NaN</td>\n",
       "      <td>NaN</td>\n",
       "      <td>194.876604</td>\n",
       "      <td>NaN</td>\n",
       "      <td>1.053100</td>\n",
       "      <td>1.878316e+08</td>\n",
       "      <td>NaN</td>\n",
       "      <td>NaN</td>\n",
       "      <td>NaN</td>\n",
       "      <td>NaN</td>\n",
       "      <td>...</td>\n",
       "      <td>NaN</td>\n",
       "      <td>1.758587e+08</td>\n",
       "      <td>24.912423</td>\n",
       "      <td>NaN</td>\n",
       "      <td>NaN</td>\n",
       "      <td>NaN</td>\n",
       "      <td>NaN</td>\n",
       "      <td>NaN</td>\n",
       "      <td>1.062314</td>\n",
       "      <td>1219.128766</td>\n",
       "    </tr>\n",
       "    <tr>\n",
       "      <th>min</th>\n",
       "      <td>NaN</td>\n",
       "      <td>NaN</td>\n",
       "      <td>1.000000</td>\n",
       "      <td>NaN</td>\n",
       "      <td>0.500000</td>\n",
       "      <td>7.896520e+08</td>\n",
       "      <td>NaN</td>\n",
       "      <td>NaN</td>\n",
       "      <td>NaN</td>\n",
       "      <td>NaN</td>\n",
       "      <td>...</td>\n",
       "      <td>NaN</td>\n",
       "      <td>0.000000e+00</td>\n",
       "      <td>0.000000</td>\n",
       "      <td>NaN</td>\n",
       "      <td>NaN</td>\n",
       "      <td>NaN</td>\n",
       "      <td>NaN</td>\n",
       "      <td>NaN</td>\n",
       "      <td>0.000000</td>\n",
       "      <td>0.000000</td>\n",
       "    </tr>\n",
       "    <tr>\n",
       "      <th>25%</th>\n",
       "      <td>NaN</td>\n",
       "      <td>NaN</td>\n",
       "      <td>177.000000</td>\n",
       "      <td>NaN</td>\n",
       "      <td>3.000000</td>\n",
       "      <td>9.472927e+08</td>\n",
       "      <td>NaN</td>\n",
       "      <td>NaN</td>\n",
       "      <td>NaN</td>\n",
       "      <td>NaN</td>\n",
       "      <td>...</td>\n",
       "      <td>NaN</td>\n",
       "      <td>0.000000e+00</td>\n",
       "      <td>95.000000</td>\n",
       "      <td>NaN</td>\n",
       "      <td>NaN</td>\n",
       "      <td>NaN</td>\n",
       "      <td>NaN</td>\n",
       "      <td>NaN</td>\n",
       "      <td>6.100000</td>\n",
       "      <td>31.000000</td>\n",
       "    </tr>\n",
       "    <tr>\n",
       "      <th>50%</th>\n",
       "      <td>NaN</td>\n",
       "      <td>NaN</td>\n",
       "      <td>359.000000</td>\n",
       "      <td>NaN</td>\n",
       "      <td>4.000000</td>\n",
       "      <td>1.053172e+09</td>\n",
       "      <td>NaN</td>\n",
       "      <td>NaN</td>\n",
       "      <td>NaN</td>\n",
       "      <td>NaN</td>\n",
       "      <td>...</td>\n",
       "      <td>NaN</td>\n",
       "      <td>2.201126e+06</td>\n",
       "      <td>106.000000</td>\n",
       "      <td>NaN</td>\n",
       "      <td>NaN</td>\n",
       "      <td>NaN</td>\n",
       "      <td>NaN</td>\n",
       "      <td>NaN</td>\n",
       "      <td>6.800000</td>\n",
       "      <td>176.000000</td>\n",
       "    </tr>\n",
       "    <tr>\n",
       "      <th>75%</th>\n",
       "      <td>NaN</td>\n",
       "      <td>NaN</td>\n",
       "      <td>518.000000</td>\n",
       "      <td>NaN</td>\n",
       "      <td>4.000000</td>\n",
       "      <td>1.227917e+09</td>\n",
       "      <td>NaN</td>\n",
       "      <td>NaN</td>\n",
       "      <td>NaN</td>\n",
       "      <td>NaN</td>\n",
       "      <td>...</td>\n",
       "      <td>NaN</td>\n",
       "      <td>7.418968e+07</td>\n",
       "      <td>121.000000</td>\n",
       "      <td>NaN</td>\n",
       "      <td>NaN</td>\n",
       "      <td>NaN</td>\n",
       "      <td>NaN</td>\n",
       "      <td>NaN</td>\n",
       "      <td>7.300000</td>\n",
       "      <td>672.000000</td>\n",
       "    </tr>\n",
       "    <tr>\n",
       "      <th>max</th>\n",
       "      <td>NaN</td>\n",
       "      <td>NaN</td>\n",
       "      <td>671.000000</td>\n",
       "      <td>NaN</td>\n",
       "      <td>5.000000</td>\n",
       "      <td>1.476623e+09</td>\n",
       "      <td>NaN</td>\n",
       "      <td>NaN</td>\n",
       "      <td>NaN</td>\n",
       "      <td>NaN</td>\n",
       "      <td>...</td>\n",
       "      <td>NaN</td>\n",
       "      <td>1.845034e+09</td>\n",
       "      <td>320.000000</td>\n",
       "      <td>NaN</td>\n",
       "      <td>NaN</td>\n",
       "      <td>NaN</td>\n",
       "      <td>NaN</td>\n",
       "      <td>NaN</td>\n",
       "      <td>10.000000</td>\n",
       "      <td>12269.000000</td>\n",
       "    </tr>\n",
       "  </tbody>\n",
       "</table>\n",
       "<p>11 rows × 30 columns</p>\n",
       "</div>"
      ],
      "text/plain": [
       "         id_x keywords_extracted        userId movieId        rating  \\\n",
       "count   45020              45020  45020.000000   45020  45020.000000   \n",
       "unique   2830               2467           NaN    2830           NaN   \n",
       "top       296                 []           NaN     296           NaN   \n",
       "freq      324               1706           NaN     324           NaN   \n",
       "mean      NaN                NaN    345.990893     NaN      3.560962   \n",
       "std       NaN                NaN    194.876604     NaN      1.053100   \n",
       "min       NaN                NaN      1.000000     NaN      0.500000   \n",
       "25%       NaN                NaN    177.000000     NaN      3.000000   \n",
       "50%       NaN                NaN    359.000000     NaN      4.000000   \n",
       "75%       NaN                NaN    518.000000     NaN      4.000000   \n",
       "max       NaN                NaN    671.000000     NaN      5.000000   \n",
       "\n",
       "           timestamp  adult  \\\n",
       "count   4.502000e+04  45020   \n",
       "unique           NaN      2   \n",
       "top              NaN  False   \n",
       "freq             NaN  45019   \n",
       "mean    1.089542e+09    NaN   \n",
       "std     1.878316e+08    NaN   \n",
       "min     7.896520e+08    NaN   \n",
       "25%     9.472927e+08    NaN   \n",
       "50%     1.053172e+09    NaN   \n",
       "75%     1.227917e+09    NaN   \n",
       "max     1.476623e+09    NaN   \n",
       "\n",
       "                                    belongs_to_collection budget  \\\n",
       "count                                               10793  45020   \n",
       "unique                                                345    313   \n",
       "top     {'id': 528, 'name': 'The Terminator Collection...      0   \n",
       "freq                                                  386  19539   \n",
       "mean                                                  NaN    NaN   \n",
       "std                                                   NaN    NaN   \n",
       "min                                                   NaN    NaN   \n",
       "25%                                                   NaN    NaN   \n",
       "50%                                                   NaN    NaN   \n",
       "75%                                                   NaN    NaN   \n",
       "max                                                   NaN    NaN   \n",
       "\n",
       "                               genres  ... release_date       revenue  \\\n",
       "count                           45020  ...        44991  4.502000e+04   \n",
       "unique                            790  ...         2444           NaN   \n",
       "top     [{'id': 18, 'name': 'Drama'}]  ...   2003-07-02           NaN   \n",
       "freq                             4955  ...          324           NaN   \n",
       "mean                              NaN  ...          NaN  7.609657e+07   \n",
       "std                               NaN  ...          NaN  1.758587e+08   \n",
       "min                               NaN  ...          NaN  0.000000e+00   \n",
       "25%                               NaN  ...          NaN  0.000000e+00   \n",
       "50%                               NaN  ...          NaN  2.201126e+06   \n",
       "75%                               NaN  ...          NaN  7.418968e+07   \n",
       "max                               NaN  ...          NaN  1.845034e+09   \n",
       "\n",
       "             runtime                          spoken_languages    status  \\\n",
       "count   45016.000000                                     45020     45019   \n",
       "unique           NaN                                       404         4   \n",
       "top              NaN  [{'iso_639_1': 'en', 'name': 'English'}]  Released   \n",
       "freq             NaN                                     22473     44965   \n",
       "mean      108.986094                                       NaN       NaN   \n",
       "std        24.912423                                       NaN       NaN   \n",
       "min         0.000000                                       NaN       NaN   \n",
       "25%        95.000000                                       NaN       NaN   \n",
       "50%       106.000000                                       NaN       NaN   \n",
       "75%       121.000000                                       NaN       NaN   \n",
       "max       320.000000                                       NaN       NaN   \n",
       "\n",
       "                        tagline                               title  video  \\\n",
       "count                     31532                               45020  45020   \n",
       "unique                     1786                                2794      2   \n",
       "top     The Machines Will Rise.  Terminator 3: Rise of the Machines  False   \n",
       "freq                        324                                 324  45016   \n",
       "mean                        NaN                                 NaN    NaN   \n",
       "std                         NaN                                 NaN    NaN   \n",
       "min                         NaN                                 NaN    NaN   \n",
       "25%                         NaN                                 NaN    NaN   \n",
       "50%                         NaN                                 NaN    NaN   \n",
       "75%                         NaN                                 NaN    NaN   \n",
       "max                         NaN                                 NaN    NaN   \n",
       "\n",
       "        vote_average    vote_count  \n",
       "count   45020.000000  45020.000000  \n",
       "unique           NaN           NaN  \n",
       "top              NaN           NaN  \n",
       "freq             NaN           NaN  \n",
       "mean        6.633023    669.186539  \n",
       "std         1.062314   1219.128766  \n",
       "min         0.000000      0.000000  \n",
       "25%         6.100000     31.000000  \n",
       "50%         6.800000    176.000000  \n",
       "75%         7.300000    672.000000  \n",
       "max        10.000000  12269.000000  \n",
       "\n",
       "[11 rows x 30 columns]"
      ]
     },
     "execution_count": 11,
     "metadata": {},
     "output_type": "execute_result"
    }
   ],
   "source": [
    "merged_data.describe(include ='all')"
   ]
  },
  {
   "cell_type": "code",
   "execution_count": 12,
   "metadata": {},
   "outputs": [
    {
     "data": {
      "text/plain": [
       "id_x                         0\n",
       "keywords_extracted           0\n",
       "userId                       0\n",
       "movieId                      0\n",
       "rating                       0\n",
       "timestamp                    0\n",
       "adult                        0\n",
       "belongs_to_collection    34227\n",
       "budget                       0\n",
       "genres                       0\n",
       "homepage                 34061\n",
       "id_y                         0\n",
       "imdb_id                      0\n",
       "original_language            0\n",
       "original_title               0\n",
       "overview                   138\n",
       "popularity                   0\n",
       "poster_path                 36\n",
       "production_companies         0\n",
       "production_countries         0\n",
       "release_date                29\n",
       "revenue                      0\n",
       "runtime                      4\n",
       "spoken_languages             0\n",
       "status                       1\n",
       "tagline                  13488\n",
       "title                        0\n",
       "video                        0\n",
       "vote_average                 0\n",
       "vote_count                   0\n",
       "dtype: int64"
      ]
     },
     "execution_count": 12,
     "metadata": {},
     "output_type": "execute_result"
    }
   ],
   "source": [
    "merged_data.isnull().sum()"
   ]
  },
  {
   "cell_type": "markdown",
   "metadata": {},
   "source": [
    "# Data preprocessing"
   ]
  },
  {
   "cell_type": "markdown",
   "metadata": {},
   "source": [
    "## Keywords"
   ]
  },
  {
   "cell_type": "code",
   "execution_count": 13,
   "metadata": {},
   "outputs": [
    {
     "data": {
      "text/plain": [
       "0        [robbery, detective, bank, obsession, chase, s...\n",
       "1        [robbery, detective, bank, obsession, chase, s...\n",
       "2        [robbery, detective, bank, obsession, chase, s...\n",
       "3        [robbery, detective, bank, obsession, chase, s...\n",
       "4        [robbery, detective, bank, obsession, chase, s...\n",
       "                               ...                        \n",
       "45015                                     [woman director]\n",
       "45016                                     [woman director]\n",
       "45017                                     [woman director]\n",
       "45018                                                   []\n",
       "45019                                                   []\n",
       "Name: keywords_extracted, Length: 45020, dtype: object"
      ]
     },
     "execution_count": 13,
     "metadata": {},
     "output_type": "execute_result"
    }
   ],
   "source": [
    "merged_data['keywords_extracted']"
   ]
  },
  {
   "cell_type": "markdown",
   "metadata": {},
   "source": [
    "## Timestamp"
   ]
  },
  {
   "cell_type": "code",
   "execution_count": 14,
   "metadata": {},
   "outputs": [
    {
     "data": {
      "text/plain": [
       "0        1148721092\n",
       "1         956598942\n",
       "2         955092697\n",
       "3         956688825\n",
       "4        1117846575\n",
       "            ...    \n",
       "45015    1441513491\n",
       "45016    1435789819\n",
       "45017    1241951834\n",
       "45018    1420521986\n",
       "45019    1228072108\n",
       "Name: timestamp, Length: 45020, dtype: int64"
      ]
     },
     "execution_count": 14,
     "metadata": {},
     "output_type": "execute_result"
    }
   ],
   "source": [
    "merged_data['timestamp']"
   ]
  },
  {
   "cell_type": "code",
   "execution_count": 15,
   "metadata": {},
   "outputs": [
    {
     "data": {
      "text/plain": [
       "0        2006\n",
       "1        2000\n",
       "2        2000\n",
       "3        2000\n",
       "4        2005\n",
       "         ... \n",
       "45015    2015\n",
       "45016    2015\n",
       "45017    2009\n",
       "45018    2015\n",
       "45019    2008\n",
       "Name: year, Length: 45020, dtype: int64"
      ]
     },
     "execution_count": 15,
     "metadata": {},
     "output_type": "execute_result"
    }
   ],
   "source": [
    "merged_data['year'] = pd.to_datetime(merged_data['timestamp'], unit='s').dt.year\n",
    "merged_data['year']"
   ]
  },
  {
   "cell_type": "code",
   "execution_count": 16,
   "metadata": {},
   "outputs": [
    {
     "data": {
      "image/png": "[encoded data removed]",
      "text/plain": [
       "<Figure size 576x432 with 1 Axes>"
      ]
     },
     "metadata": {},
     "output_type": "display_data"
    }
   ],
   "source": [
    "year_counts = merged_data['year'].value_counts().sort_index()\n",
    "\n",
    "# Plot the bar chart\n",
    "plt.figure(figsize=(8,6))\n",
    "year_counts.plot(kind='bar', color='darkblue')\n",
    "\n",
    "# Add labels and title\n",
    "plt.xlabel('Year')\n",
    "plt.ylabel('Count')\n",
    "plt.title('Count of Years from Timestamps')\n",
    "\n",
    "# Display the plot\n",
    "plt.show()"
   ]
  },
  {
   "cell_type": "markdown",
   "metadata": {},
   "source": [
    "## Adult"
   ]
  },
  {
   "cell_type": "code",
   "execution_count": 17,
   "metadata": {},
   "outputs": [
    {
     "data": {
      "text/plain": [
       "False    45019\n",
       "True         1\n",
       "Name: adult, dtype: int64"
      ]
     },
     "execution_count": 17,
     "metadata": {},
     "output_type": "execute_result"
    }
   ],
   "source": [
    "merged_data['adult'].value_counts()"
   ]
  },
  {
   "cell_type": "code",
   "execution_count": 18,
   "metadata": {},
   "outputs": [
    {
     "data": {
      "text/plain": [
       "0        [{'id': 28, 'name': 'Action'}, {'id': 80, 'nam...\n",
       "1        [{'id': 28, 'name': 'Action'}, {'id': 80, 'nam...\n",
       "2        [{'id': 28, 'name': 'Action'}, {'id': 80, 'nam...\n",
       "3        [{'id': 28, 'name': 'Action'}, {'id': 80, 'nam...\n",
       "4        [{'id': 28, 'name': 'Action'}, {'id': 80, 'nam...\n",
       "                               ...                        \n",
       "45015    [{'id': 10749, 'name': 'Romance'}, {'id': 18, ...\n",
       "45016    [{'id': 10749, 'name': 'Romance'}, {'id': 18, ...\n",
       "45017    [{'id': 10749, 'name': 'Romance'}, {'id': 18, ...\n",
       "45018    [{'id': 35, 'name': 'Comedy'}, {'id': 10749, '...\n",
       "45019    [{'id': 14, 'name': 'Fantasy'}, {'id': 28, 'na...\n",
       "Name: genres, Length: 45020, dtype: object"
      ]
     },
     "execution_count": 18,
     "metadata": {},
     "output_type": "execute_result"
    }
   ],
   "source": [
    "merged_data['genres']"
   ]
  },
  {
   "cell_type": "code",
   "execution_count": 19,
   "metadata": {},
   "outputs": [],
   "source": [
    "def extract_genres(json_data):\n",
    "    try:\n",
    "        data = ast.literal_eval(json_data)  # Safely convert the string to list of dictionaries\n",
    "        return [item['name'] for item in data]  # Extract 'name' from each dictionary\n",
    "    except (ValueError, SyntaxError):  # Handle errors if the data isn't properly formatted\n",
    "        return []\n",
    "\n",
    "# Apply the function to the 'keywords' column and create a new column 'keywords_extracted'\n",
    "merged_data['genres_extracted'] = merged_data['genres'].apply(extract_genres)"
   ]
  },
  {
   "cell_type": "code",
   "execution_count": 20,
   "metadata": {},
   "outputs": [
    {
     "data": {
      "text/html": [
       "<div>\n",
       "<style scoped>\n",
       "    .dataframe tbody tr th:only-of-type {\n",
       "        vertical-align: middle;\n",
       "    }\n",
       "\n",
       "    .dataframe tbody tr th {\n",
       "        vertical-align: top;\n",
       "    }\n",
       "\n",
       "    .dataframe thead th {\n",
       "        text-align: right;\n",
       "    }\n",
       "</style>\n",
       "<table border=\"1\" class=\"dataframe\">\n",
       "  <thead>\n",
       "    <tr style=\"text-align: right;\">\n",
       "      <th></th>\n",
       "      <th>id_x</th>\n",
       "      <th>keywords_extracted</th>\n",
       "      <th>userId</th>\n",
       "      <th>movieId</th>\n",
       "      <th>rating</th>\n",
       "      <th>timestamp</th>\n",
       "      <th>adult</th>\n",
       "      <th>belongs_to_collection</th>\n",
       "      <th>budget</th>\n",
       "      <th>genres</th>\n",
       "      <th>...</th>\n",
       "      <th>runtime</th>\n",
       "      <th>spoken_languages</th>\n",
       "      <th>status</th>\n",
       "      <th>tagline</th>\n",
       "      <th>title</th>\n",
       "      <th>video</th>\n",
       "      <th>vote_average</th>\n",
       "      <th>vote_count</th>\n",
       "      <th>year</th>\n",
       "      <th>genres_extracted</th>\n",
       "    </tr>\n",
       "  </thead>\n",
       "  <tbody>\n",
       "    <tr>\n",
       "      <th>0</th>\n",
       "      <td>949</td>\n",
       "      <td>[robbery, detective, bank, obsession, chase, s...</td>\n",
       "      <td>23</td>\n",
       "      <td>949</td>\n",
       "      <td>3.5</td>\n",
       "      <td>1148721092</td>\n",
       "      <td>False</td>\n",
       "      <td>NaN</td>\n",
       "      <td>60000000</td>\n",
       "      <td>[{'id': 28, 'name': 'Action'}, {'id': 80, 'nam...</td>\n",
       "      <td>...</td>\n",
       "      <td>170.0</td>\n",
       "      <td>[{'iso_639_1': 'en', 'name': 'English'}, {'iso...</td>\n",
       "      <td>Released</td>\n",
       "      <td>A Los Angeles Crime Saga</td>\n",
       "      <td>Heat</td>\n",
       "      <td>False</td>\n",
       "      <td>7.7</td>\n",
       "      <td>1886.0</td>\n",
       "      <td>2006</td>\n",
       "      <td>[Action, Crime, Drama, Thriller]</td>\n",
       "    </tr>\n",
       "    <tr>\n",
       "      <th>1</th>\n",
       "      <td>949</td>\n",
       "      <td>[robbery, detective, bank, obsession, chase, s...</td>\n",
       "      <td>102</td>\n",
       "      <td>949</td>\n",
       "      <td>4.0</td>\n",
       "      <td>956598942</td>\n",
       "      <td>False</td>\n",
       "      <td>NaN</td>\n",
       "      <td>60000000</td>\n",
       "      <td>[{'id': 28, 'name': 'Action'}, {'id': 80, 'nam...</td>\n",
       "      <td>...</td>\n",
       "      <td>170.0</td>\n",
       "      <td>[{'iso_639_1': 'en', 'name': 'English'}, {'iso...</td>\n",
       "      <td>Released</td>\n",
       "      <td>A Los Angeles Crime Saga</td>\n",
       "      <td>Heat</td>\n",
       "      <td>False</td>\n",
       "      <td>7.7</td>\n",
       "      <td>1886.0</td>\n",
       "      <td>2000</td>\n",
       "      <td>[Action, Crime, Drama, Thriller]</td>\n",
       "    </tr>\n",
       "    <tr>\n",
       "      <th>2</th>\n",
       "      <td>949</td>\n",
       "      <td>[robbery, detective, bank, obsession, chase, s...</td>\n",
       "      <td>232</td>\n",
       "      <td>949</td>\n",
       "      <td>2.0</td>\n",
       "      <td>955092697</td>\n",
       "      <td>False</td>\n",
       "      <td>NaN</td>\n",
       "      <td>60000000</td>\n",
       "      <td>[{'id': 28, 'name': 'Action'}, {'id': 80, 'nam...</td>\n",
       "      <td>...</td>\n",
       "      <td>170.0</td>\n",
       "      <td>[{'iso_639_1': 'en', 'name': 'English'}, {'iso...</td>\n",
       "      <td>Released</td>\n",
       "      <td>A Los Angeles Crime Saga</td>\n",
       "      <td>Heat</td>\n",
       "      <td>False</td>\n",
       "      <td>7.7</td>\n",
       "      <td>1886.0</td>\n",
       "      <td>2000</td>\n",
       "      <td>[Action, Crime, Drama, Thriller]</td>\n",
       "    </tr>\n",
       "    <tr>\n",
       "      <th>3</th>\n",
       "      <td>949</td>\n",
       "      <td>[robbery, detective, bank, obsession, chase, s...</td>\n",
       "      <td>242</td>\n",
       "      <td>949</td>\n",
       "      <td>5.0</td>\n",
       "      <td>956688825</td>\n",
       "      <td>False</td>\n",
       "      <td>NaN</td>\n",
       "      <td>60000000</td>\n",
       "      <td>[{'id': 28, 'name': 'Action'}, {'id': 80, 'nam...</td>\n",
       "      <td>...</td>\n",
       "      <td>170.0</td>\n",
       "      <td>[{'iso_639_1': 'en', 'name': 'English'}, {'iso...</td>\n",
       "      <td>Released</td>\n",
       "      <td>A Los Angeles Crime Saga</td>\n",
       "      <td>Heat</td>\n",
       "      <td>False</td>\n",
       "      <td>7.7</td>\n",
       "      <td>1886.0</td>\n",
       "      <td>2000</td>\n",
       "      <td>[Action, Crime, Drama, Thriller]</td>\n",
       "    </tr>\n",
       "    <tr>\n",
       "      <th>4</th>\n",
       "      <td>949</td>\n",
       "      <td>[robbery, detective, bank, obsession, chase, s...</td>\n",
       "      <td>263</td>\n",
       "      <td>949</td>\n",
       "      <td>3.0</td>\n",
       "      <td>1117846575</td>\n",
       "      <td>False</td>\n",
       "      <td>NaN</td>\n",
       "      <td>60000000</td>\n",
       "      <td>[{'id': 28, 'name': 'Action'}, {'id': 80, 'nam...</td>\n",
       "      <td>...</td>\n",
       "      <td>170.0</td>\n",
       "      <td>[{'iso_639_1': 'en', 'name': 'English'}, {'iso...</td>\n",
       "      <td>Released</td>\n",
       "      <td>A Los Angeles Crime Saga</td>\n",
       "      <td>Heat</td>\n",
       "      <td>False</td>\n",
       "      <td>7.7</td>\n",
       "      <td>1886.0</td>\n",
       "      <td>2005</td>\n",
       "      <td>[Action, Crime, Drama, Thriller]</td>\n",
       "    </tr>\n",
       "  </tbody>\n",
       "</table>\n",
       "<p>5 rows × 32 columns</p>\n",
       "</div>"
      ],
      "text/plain": [
       "  id_x                                 keywords_extracted  userId movieId  \\\n",
       "0  949  [robbery, detective, bank, obsession, chase, s...      23     949   \n",
       "1  949  [robbery, detective, bank, obsession, chase, s...     102     949   \n",
       "2  949  [robbery, detective, bank, obsession, chase, s...     232     949   \n",
       "3  949  [robbery, detective, bank, obsession, chase, s...     242     949   \n",
       "4  949  [robbery, detective, bank, obsession, chase, s...     263     949   \n",
       "\n",
       "   rating   timestamp  adult belongs_to_collection    budget  \\\n",
       "0     3.5  1148721092  False                   NaN  60000000   \n",
       "1     4.0   956598942  False                   NaN  60000000   \n",
       "2     2.0   955092697  False                   NaN  60000000   \n",
       "3     5.0   956688825  False                   NaN  60000000   \n",
       "4     3.0  1117846575  False                   NaN  60000000   \n",
       "\n",
       "                                              genres  ... runtime  \\\n",
       "0  [{'id': 28, 'name': 'Action'}, {'id': 80, 'nam...  ...   170.0   \n",
       "1  [{'id': 28, 'name': 'Action'}, {'id': 80, 'nam...  ...   170.0   \n",
       "2  [{'id': 28, 'name': 'Action'}, {'id': 80, 'nam...  ...   170.0   \n",
       "3  [{'id': 28, 'name': 'Action'}, {'id': 80, 'nam...  ...   170.0   \n",
       "4  [{'id': 28, 'name': 'Action'}, {'id': 80, 'nam...  ...   170.0   \n",
       "\n",
       "                                    spoken_languages    status  \\\n",
       "0  [{'iso_639_1': 'en', 'name': 'English'}, {'iso...  Released   \n",
       "1  [{'iso_639_1': 'en', 'name': 'English'}, {'iso...  Released   \n",
       "2  [{'iso_639_1': 'en', 'name': 'English'}, {'iso...  Released   \n",
       "3  [{'iso_639_1': 'en', 'name': 'English'}, {'iso...  Released   \n",
       "4  [{'iso_639_1': 'en', 'name': 'English'}, {'iso...  Released   \n",
       "\n",
       "                    tagline title  video vote_average vote_count  year  \\\n",
       "0  A Los Angeles Crime Saga  Heat  False          7.7     1886.0  2006   \n",
       "1  A Los Angeles Crime Saga  Heat  False          7.7     1886.0  2000   \n",
       "2  A Los Angeles Crime Saga  Heat  False          7.7     1886.0  2000   \n",
       "3  A Los Angeles Crime Saga  Heat  False          7.7     1886.0  2000   \n",
       "4  A Los Angeles Crime Saga  Heat  False          7.7     1886.0  2005   \n",
       "\n",
       "                   genres_extracted  \n",
       "0  [Action, Crime, Drama, Thriller]  \n",
       "1  [Action, Crime, Drama, Thriller]  \n",
       "2  [Action, Crime, Drama, Thriller]  \n",
       "3  [Action, Crime, Drama, Thriller]  \n",
       "4  [Action, Crime, Drama, Thriller]  \n",
       "\n",
       "[5 rows x 32 columns]"
      ]
     },
     "execution_count": 20,
     "metadata": {},
     "output_type": "execute_result"
    }
   ],
   "source": [
    "merged_data.head()"
   ]
  },
  {
   "cell_type": "code",
   "execution_count": 21,
   "metadata": {},
   "outputs": [
    {
     "data": {
      "text/plain": [
       "id_x                         0\n",
       "keywords_extracted           0\n",
       "userId                       0\n",
       "movieId                      0\n",
       "rating                       0\n",
       "timestamp                    0\n",
       "adult                        0\n",
       "belongs_to_collection    34227\n",
       "budget                       0\n",
       "genres                       0\n",
       "homepage                 34061\n",
       "id_y                         0\n",
       "imdb_id                      0\n",
       "original_language            0\n",
       "original_title               0\n",
       "overview                   138\n",
       "popularity                   0\n",
       "poster_path                 36\n",
       "production_companies         0\n",
       "production_countries         0\n",
       "release_date                29\n",
       "revenue                      0\n",
       "runtime                      4\n",
       "spoken_languages             0\n",
       "status                       1\n",
       "tagline                  13488\n",
       "title                        0\n",
       "video                        0\n",
       "vote_average                 0\n",
       "vote_count                   0\n",
       "year                         0\n",
       "genres_extracted             0\n",
       "dtype: int64"
      ]
     },
     "execution_count": 21,
     "metadata": {},
     "output_type": "execute_result"
    }
   ],
   "source": [
    "merged_data.isnull().sum()"
   ]
  },
  {
   "cell_type": "code",
   "execution_count": 22,
   "metadata": {},
   "outputs": [],
   "source": [
    "pd.set_option('display.max_colwidth', None) "
   ]
  },
  {
   "cell_type": "markdown",
   "metadata": {},
   "source": [
    "## Popularity"
   ]
  },
  {
   "cell_type": "code",
   "execution_count": 23,
   "metadata": {},
   "outputs": [
    {
     "data": {
      "text/plain": [
       "0         17.9249\n",
       "1         17.9249\n",
       "2         17.9249\n",
       "3         17.9249\n",
       "4         17.9249\n",
       "           ...   \n",
       "45015    0.528657\n",
       "45016    0.528657\n",
       "45017    0.528657\n",
       "45018    0.803588\n",
       "45019    1.109068\n",
       "Name: popularity, Length: 45020, dtype: object"
      ]
     },
     "execution_count": 23,
     "metadata": {},
     "output_type": "execute_result"
    }
   ],
   "source": [
    "merged_data['popularity']"
   ]
  },
  {
   "cell_type": "markdown",
   "metadata": {},
   "source": [
    "## Production Companies"
   ]
  },
  {
   "cell_type": "code",
   "execution_count": 24,
   "metadata": {},
   "outputs": [
    {
     "data": {
      "text/plain": [
       "0        [{'name': 'Regency Enterprises', 'id': 508}, {'name': 'Forward Pass', 'id': 675}, {'name': 'Warner Bros.', 'id': 6194}]\n",
       "1        [{'name': 'Regency Enterprises', 'id': 508}, {'name': 'Forward Pass', 'id': 675}, {'name': 'Warner Bros.', 'id': 6194}]\n",
       "2        [{'name': 'Regency Enterprises', 'id': 508}, {'name': 'Forward Pass', 'id': 675}, {'name': 'Warner Bros.', 'id': 6194}]\n",
       "3        [{'name': 'Regency Enterprises', 'id': 508}, {'name': 'Forward Pass', 'id': 675}, {'name': 'Warner Bros.', 'id': 6194}]\n",
       "4        [{'name': 'Regency Enterprises', 'id': 508}, {'name': 'Forward Pass', 'id': 675}, {'name': 'Warner Bros.', 'id': 6194}]\n",
       "                                                                  ...                                                           \n",
       "45015                                                                                                                         []\n",
       "45016                                                                                                                         []\n",
       "45017                                                                                                                         []\n",
       "45018                                  [{'name': 'Channel One Russia', 'id': 1039}, {'name': 'Central Partnership', 'id': 9342}]\n",
       "45019                                                                               [{'name': 'Star Film Company', 'id': 45867}]\n",
       "Name: production_companies, Length: 45020, dtype: object"
      ]
     },
     "execution_count": 24,
     "metadata": {},
     "output_type": "execute_result"
    }
   ],
   "source": [
    "merged_data['production_companies']"
   ]
  },
  {
   "cell_type": "code",
   "execution_count": 25,
   "metadata": {},
   "outputs": [],
   "source": [
    "def extract_genres(json_data):\n",
    "    try:\n",
    "        data = ast.literal_eval(json_data)  # Safely convert the string to list of dictionaries\n",
    "        return [item['name'] for item in data]  # Extract 'name' from each dictionary\n",
    "    except (ValueError, SyntaxError):  # Handle errors if the data isn't properly formatted\n",
    "        return []\n",
    "\n",
    "# Apply the function to the 'keywords' column and create a new column 'keywords_extracted'\n",
    "merged_data['production_companies_extracted'] = merged_data['production_companies'].apply(extract_genres)"
   ]
  },
  {
   "cell_type": "code",
   "execution_count": 26,
   "metadata": {},
   "outputs": [
    {
     "data": {
      "text/plain": [
       "0        [Regency Enterprises, Forward Pass, Warner Bros.]\n",
       "1        [Regency Enterprises, Forward Pass, Warner Bros.]\n",
       "2        [Regency Enterprises, Forward Pass, Warner Bros.]\n",
       "3        [Regency Enterprises, Forward Pass, Warner Bros.]\n",
       "4        [Regency Enterprises, Forward Pass, Warner Bros.]\n",
       "                               ...                        \n",
       "45015                                                   []\n",
       "45016                                                   []\n",
       "45017                                                   []\n",
       "45018            [Channel One Russia, Central Partnership]\n",
       "45019                                  [Star Film Company]\n",
       "Name: production_companies_extracted, Length: 45020, dtype: object"
      ]
     },
     "execution_count": 26,
     "metadata": {},
     "output_type": "execute_result"
    }
   ],
   "source": [
    "merged_data['production_companies_extracted']"
   ]
  },
  {
   "cell_type": "markdown",
   "metadata": {},
   "source": [
    "## Production_countries"
   ]
  },
  {
   "cell_type": "code",
   "execution_count": 27,
   "metadata": {},
   "outputs": [
    {
     "data": {
      "text/plain": [
       "[{'iso_3166_1': 'US', 'name': 'United States of America'}]                                                                     21794\n",
       "[{'iso_3166_1': 'GB', 'name': 'United Kingdom'}]                                                                                2428\n",
       "[{'iso_3166_1': 'DE', 'name': 'Germany'}]                                                                                       2235\n",
       "[{'iso_3166_1': 'FR', 'name': 'France'}]                                                                                        2198\n",
       "[{'iso_3166_1': 'GB', 'name': 'United Kingdom'}, {'iso_3166_1': 'US', 'name': 'United States of America'}]                      1741\n",
       "                                                                                                                               ...  \n",
       "[{'iso_3166_1': 'BA', 'name': 'Bosnia and Herzegovina'}, {'iso_3166_1': 'US', 'name': 'United States of America'}]                 1\n",
       "[{'iso_3166_1': 'GE', 'name': 'Georgia'}, {'iso_3166_1': 'RU', 'name': 'Russia'}]                                                  1\n",
       "[{'iso_3166_1': 'LR', 'name': 'Liberia'}, {'iso_3166_1': 'FR', 'name': 'France'}, {'iso_3166_1': 'BE', 'name': 'Belgium'}]         1\n",
       "[{'iso_3166_1': 'DE', 'name': 'Germany'}, {'iso_3166_1': 'HR', 'name': 'Croatia'}, {'iso_3166_1': 'IT', 'name': 'Italy'}]          1\n",
       "[{'iso_3166_1': 'CN', 'name': 'China'}, {'iso_3166_1': 'JP', 'name': 'Japan'}, {'iso_3166_1': 'KR', 'name': 'South Korea'}]        1\n",
       "Name: production_countries, Length: 366, dtype: int64"
      ]
     },
     "execution_count": 27,
     "metadata": {},
     "output_type": "execute_result"
    }
   ],
   "source": [
    "merged_data['production_countries'].value_counts()"
   ]
  },
  {
   "cell_type": "code",
   "execution_count": 28,
   "metadata": {},
   "outputs": [],
   "source": [
    "merged_data['production_countries_extracted'] = merged_data['production_countries'].apply(extract_genres)"
   ]
  },
  {
   "cell_type": "code",
   "execution_count": 29,
   "metadata": {},
   "outputs": [
    {
     "data": {
      "text/plain": [
       "0        A Los Angeles Crime Saga\n",
       "1        A Los Angeles Crime Saga\n",
       "2        A Los Angeles Crime Saga\n",
       "3        A Los Angeles Crime Saga\n",
       "4        A Los Angeles Crime Saga\n",
       "                   ...           \n",
       "45015                         NaN\n",
       "45016                         NaN\n",
       "45017                         NaN\n",
       "45018                         NaN\n",
       "45019                         NaN\n",
       "Name: tagline, Length: 45020, dtype: object"
      ]
     },
     "execution_count": 29,
     "metadata": {},
     "output_type": "execute_result"
    }
   ],
   "source": [
    "merged_data['tagline']"
   ]
  },
  {
   "cell_type": "code",
   "execution_count": 30,
   "metadata": {},
   "outputs": [
    {
     "data": {
      "text/html": [
       "<div>\n",
       "<style scoped>\n",
       "    .dataframe tbody tr th:only-of-type {\n",
       "        vertical-align: middle;\n",
       "    }\n",
       "\n",
       "    .dataframe tbody tr th {\n",
       "        vertical-align: top;\n",
       "    }\n",
       "\n",
       "    .dataframe thead th {\n",
       "        text-align: right;\n",
       "    }\n",
       "</style>\n",
       "<table border=\"1\" class=\"dataframe\">\n",
       "  <thead>\n",
       "    <tr style=\"text-align: right;\">\n",
       "      <th></th>\n",
       "      <th>vote_average</th>\n",
       "      <th>vote_count</th>\n",
       "    </tr>\n",
       "  </thead>\n",
       "  <tbody>\n",
       "    <tr>\n",
       "      <th>0</th>\n",
       "      <td>7.7</td>\n",
       "      <td>1886.0</td>\n",
       "    </tr>\n",
       "    <tr>\n",
       "      <th>1</th>\n",
       "      <td>7.7</td>\n",
       "      <td>1886.0</td>\n",
       "    </tr>\n",
       "    <tr>\n",
       "      <th>2</th>\n",
       "      <td>7.7</td>\n",
       "      <td>1886.0</td>\n",
       "    </tr>\n",
       "    <tr>\n",
       "      <th>3</th>\n",
       "      <td>7.7</td>\n",
       "      <td>1886.0</td>\n",
       "    </tr>\n",
       "    <tr>\n",
       "      <th>4</th>\n",
       "      <td>7.7</td>\n",
       "      <td>1886.0</td>\n",
       "    </tr>\n",
       "    <tr>\n",
       "      <th>...</th>\n",
       "      <td>...</td>\n",
       "      <td>...</td>\n",
       "    </tr>\n",
       "    <tr>\n",
       "      <th>45015</th>\n",
       "      <td>6.0</td>\n",
       "      <td>5.0</td>\n",
       "    </tr>\n",
       "    <tr>\n",
       "      <th>45016</th>\n",
       "      <td>6.0</td>\n",
       "      <td>5.0</td>\n",
       "    </tr>\n",
       "    <tr>\n",
       "      <th>45017</th>\n",
       "      <td>6.0</td>\n",
       "      <td>5.0</td>\n",
       "    </tr>\n",
       "    <tr>\n",
       "      <th>45018</th>\n",
       "      <td>4.6</td>\n",
       "      <td>6.0</td>\n",
       "    </tr>\n",
       "    <tr>\n",
       "      <th>45019</th>\n",
       "      <td>6.5</td>\n",
       "      <td>22.0</td>\n",
       "    </tr>\n",
       "  </tbody>\n",
       "</table>\n",
       "<p>45020 rows × 2 columns</p>\n",
       "</div>"
      ],
      "text/plain": [
       "       vote_average  vote_count\n",
       "0               7.7      1886.0\n",
       "1               7.7      1886.0\n",
       "2               7.7      1886.0\n",
       "3               7.7      1886.0\n",
       "4               7.7      1886.0\n",
       "...             ...         ...\n",
       "45015           6.0         5.0\n",
       "45016           6.0         5.0\n",
       "45017           6.0         5.0\n",
       "45018           4.6         6.0\n",
       "45019           6.5        22.0\n",
       "\n",
       "[45020 rows x 2 columns]"
      ]
     },
     "execution_count": 30,
     "metadata": {},
     "output_type": "execute_result"
    }
   ],
   "source": [
    "merged_data[['vote_average','vote_count']]"
   ]
  },
  {
   "cell_type": "code",
   "execution_count": 31,
   "metadata": {},
   "outputs": [
    {
     "data": {
      "text/plain": [
       "count    45020.000000\n",
       "mean         6.633023\n",
       "std          1.062314\n",
       "min          0.000000\n",
       "25%          6.100000\n",
       "50%          6.800000\n",
       "75%          7.300000\n",
       "max         10.000000\n",
       "Name: vote_average, dtype: float64"
      ]
     },
     "execution_count": 31,
     "metadata": {},
     "output_type": "execute_result"
    }
   ],
   "source": [
    "merged_data['vote_average'].describe()"
   ]
  },
  {
   "cell_type": "code",
   "execution_count": 32,
   "metadata": {},
   "outputs": [
    {
     "data": {
      "text/plain": [
       "(array([1.1000e+01, 3.2000e+01, 2.9500e+02, 6.8400e+02, 3.1370e+03,\n",
       "        1.1918e+04, 1.9068e+04, 9.4870e+03, 9.1000e+01, 1.0000e+00]),\n",
       " array([ 0.5,  1.5,  2.5,  3.5,  4.5,  5.5,  6.5,  7.5,  8.5,  9.5, 10.5]),\n",
       " <a list of 10 Patch objects>)"
      ]
     },
     "execution_count": 32,
     "metadata": {},
     "output_type": "execute_result"
    },
    {
     "data": {
      "image/png": "[encoded data removed]",
      "text/plain": [
       "<Figure size 432x288 with 1 Axes>"
      ]
     },
     "metadata": {},
     "output_type": "display_data"
    }
   ],
   "source": [
    "plt.hist(merged_data['vote_average'], bins=np.arange(0.5, 11.5, 1), color='blue', edgecolor='black', alpha=0.7)"
   ]
  },
  {
   "cell_type": "code",
   "execution_count": 33,
   "metadata": {},
   "outputs": [
    {
     "data": {
      "text/plain": [
       "count    45020.000000\n",
       "mean       669.186539\n",
       "std       1219.128766\n",
       "min          0.000000\n",
       "25%         31.000000\n",
       "50%        176.000000\n",
       "75%        672.000000\n",
       "max      12269.000000\n",
       "Name: vote_count, dtype: float64"
      ]
     },
     "execution_count": 33,
     "metadata": {},
     "output_type": "execute_result"
    }
   ],
   "source": [
    "merged_data['vote_count'].describe()"
   ]
  },
  {
   "cell_type": "code",
   "execution_count": 34,
   "metadata": {},
   "outputs": [
    {
     "data": {
      "text/plain": [
       "(array([1.63836223e-03, 2.82972558e-04, 1.25246587e-04, 7.93518056e-05,\n",
       "        7.15306831e-05, 5.76807786e-05, 2.22684739e-05, 4.70353619e-05,\n",
       "        2.33004275e-05, 3.78020922e-05, 8.96170290e-06, 5.26839504e-06,\n",
       "        1.05367901e-05, 2.55272749e-06, 4.18212802e-06, 5.81152854e-06,\n",
       "        4.45369477e-06, 3.91056126e-06, 1.03738500e-05, 4.34506807e-07,\n",
       "        1.30352042e-06, 7.06073561e-07, 5.43133509e-08, 5.97446860e-07,\n",
       "        0.00000000e+00, 0.00000000e+00, 0.00000000e+00, 0.00000000e+00,\n",
       "        0.00000000e+00, 4.88820158e-07]),\n",
       " array([    0.        ,   408.96666667,   817.93333333,  1226.9       ,\n",
       "         1635.86666667,  2044.83333333,  2453.8       ,  2862.76666667,\n",
       "         3271.73333333,  3680.7       ,  4089.66666667,  4498.63333333,\n",
       "         4907.6       ,  5316.56666667,  5725.53333333,  6134.5       ,\n",
       "         6543.46666667,  6952.43333333,  7361.4       ,  7770.36666667,\n",
       "         8179.33333333,  8588.3       ,  8997.26666667,  9406.23333333,\n",
       "         9815.2       , 10224.16666667, 10633.13333333, 11042.1       ,\n",
       "        11451.06666667, 11860.03333333, 12269.        ]),\n",
       " <a list of 30 Patch objects>)"
      ]
     },
     "execution_count": 34,
     "metadata": {},
     "output_type": "execute_result"
    },
    {
     "data": {
      "image/png": "[encoded data removed]",
      "text/plain": [
       "<Figure size 432x288 with 1 Axes>"
      ]
     },
     "metadata": {},
     "output_type": "display_data"
    }
   ],
   "source": [
    "plt.hist(merged_data['vote_count'], bins=30, color='blue', alpha=0.7, density=True, edgecolor='black')"
   ]
  },
  {
   "cell_type": "code",
   "execution_count": 35,
   "metadata": {},
   "outputs": [
    {
     "data": {
      "text/plain": [
       "0        2006\n",
       "1        2000\n",
       "2        2000\n",
       "3        2000\n",
       "4        2005\n",
       "         ... \n",
       "45015    2015\n",
       "45016    2015\n",
       "45017    2009\n",
       "45018    2015\n",
       "45019    2008\n",
       "Name: year, Length: 45020, dtype: int64"
      ]
     },
     "execution_count": 35,
     "metadata": {},
     "output_type": "execute_result"
    }
   ],
   "source": [
    "merged_data['year']"
   ]
  },
  {
   "cell_type": "markdown",
   "metadata": {},
   "source": [
    "## Release date"
   ]
  },
  {
   "cell_type": "code",
   "execution_count": 36,
   "metadata": {},
   "outputs": [],
   "source": [
    "merged_data['release_date'] = pd.to_datetime(merged_data['release_date'])\n",
    "merged_data['release_year'] = merged_data['release_date'].dt.year"
   ]
  },
  {
   "cell_type": "code",
   "execution_count": 37,
   "metadata": {},
   "outputs": [
    {
     "data": {
      "image/png": "[encoded data removed]",
      "text/plain": [
       "<Figure size 720x432 with 1 Axes>"
      ]
     },
     "metadata": {},
     "output_type": "display_data"
    }
   ],
   "source": [
    "year_counts = merged_data['release_year'].value_counts().sort_index()\n",
    "plt.figure(figsize=(10, 6))\n",
    "plt.bar(year_counts.index, year_counts.values, color='b')\n",
    "\n",
    "# Step 5: Add titles and labels\n",
    "plt.title('Number of Records by Year', fontsize=16)\n",
    "plt.xlabel('Year', fontsize=14)\n",
    "plt.ylabel('Number of Records', fontsize=14)\n",
    "plt.grid(True)\n",
    "\n",
    "# Step 6: Show the plot\n",
    "plt.show()"
   ]
  },
  {
   "cell_type": "code",
   "execution_count": 38,
   "metadata": {},
   "outputs": [
    {
     "data": {
      "text/plain": [
       "2006.0    2635\n",
       "2007.0    2567\n",
       "2003.0    2207\n",
       "2004.0    2115\n",
       "2000.0    1830\n",
       "          ... \n",
       "1903.0       1\n",
       "1911.0       1\n",
       "1914.0       1\n",
       "2014.0       1\n",
       "1900.0       1\n",
       "Name: release_year, Length: 104, dtype: int64"
      ]
     },
     "execution_count": 38,
     "metadata": {},
     "output_type": "execute_result"
    }
   ],
   "source": [
    "merged_data['release_year'].value_counts()"
   ]
  },
  {
   "cell_type": "code",
   "execution_count": 39,
   "metadata": {},
   "outputs": [],
   "source": [
    "# fill null year with 2006\n",
    "merged_data['release_year'].fillna(2006, inplace=True)"
   ]
  },
  {
   "cell_type": "code",
   "execution_count": 40,
   "metadata": {},
   "outputs": [
    {
     "data": {
      "text/plain": [
       "2006.0    2664\n",
       "2007.0    2567\n",
       "2003.0    2207\n",
       "2004.0    2115\n",
       "2000.0    1830\n",
       "          ... \n",
       "1903.0       1\n",
       "1911.0       1\n",
       "1914.0       1\n",
       "2014.0       1\n",
       "1900.0       1\n",
       "Name: release_year, Length: 104, dtype: int64"
      ]
     },
     "execution_count": 40,
     "metadata": {},
     "output_type": "execute_result"
    }
   ],
   "source": [
    "merged_data['release_year'].value_counts()"
   ]
  },
  {
   "cell_type": "markdown",
   "metadata": {},
   "source": [
    "## Runtime"
   ]
  },
  {
   "cell_type": "code",
   "execution_count": 41,
   "metadata": {},
   "outputs": [
    {
     "data": {
      "text/plain": [
       "0        170.0\n",
       "1        170.0\n",
       "2        170.0\n",
       "3        170.0\n",
       "4        170.0\n",
       "         ...  \n",
       "45015     97.0\n",
       "45016     97.0\n",
       "45017     97.0\n",
       "45018     91.0\n",
       "45019      1.0\n",
       "Name: runtime, Length: 45020, dtype: float64"
      ]
     },
     "execution_count": 41,
     "metadata": {},
     "output_type": "execute_result"
    }
   ],
   "source": [
    "merged_data['runtime']"
   ]
  },
  {
   "cell_type": "code",
   "execution_count": 42,
   "metadata": {},
   "outputs": [
    {
     "data": {
      "image/png": "[encoded data removed]",
      "text/plain": [
       "<Figure size 576x432 with 1 Axes>"
      ]
     },
     "metadata": {},
     "output_type": "display_data"
    }
   ],
   "source": [
    "plt.figure(figsize=(8, 6))\n",
    "sns.boxplot(y=merged_data['runtime'])\n",
    "\n",
    "# Step 3: Add title and labels\n",
    "plt.title('Runtime Distribution with Outliers', fontsize=16)\n",
    "plt.ylabel('Runtime (minutes)', fontsize=14)\n",
    "\n",
    "# Step 4: Show the plot\n",
    "plt.show()"
   ]
  },
  {
   "cell_type": "code",
   "execution_count": 43,
   "metadata": {},
   "outputs": [
    {
     "name": "stderr",
     "output_type": "stream",
     "text": [
      "C:\\Users\\thdam\\anaconda3\\lib\\site-packages\\numpy\\lib\\histograms.py:839: RuntimeWarning: invalid value encountered in greater_equal\n",
      "  keep = (tmp_a >= first_edge)\n",
      "C:\\Users\\thdam\\anaconda3\\lib\\site-packages\\numpy\\lib\\histograms.py:840: RuntimeWarning: invalid value encountered in less_equal\n",
      "  keep &= (tmp_a <= last_edge)\n"
     ]
    },
    {
     "data": {
      "image/png": "[encoded data removed]",
      "text/plain": [
       "<Figure size 720x432 with 1 Axes>"
      ]
     },
     "metadata": {},
     "output_type": "display_data"
    }
   ],
   "source": [
    "plt.figure(figsize=(10, 6))\n",
    "\n",
    "# Create the histogram\n",
    "plt.hist(merged_data['runtime'], bins=10, color='blue', alpha=0.6, edgecolor='black', label='Histogram')\n",
    "\n",
    "# Step 3: Add titles and labels\n",
    "plt.title('Runtime Distribution', fontsize=16)\n",
    "plt.xlabel('Runtime (minutes)', fontsize=14)\n",
    "plt.ylabel('Frequency', fontsize=14)\n",
    "plt.legend()\n",
    "\n",
    "# Step 4: Show the plot\n",
    "plt.show()"
   ]
  },
  {
   "cell_type": "code",
   "execution_count": 44,
   "metadata": {},
   "outputs": [],
   "source": [
    "# Fill missing values with mode\n",
    "merged_data['runtime'].fillna(merged_data['runtime'].mode()[0], inplace=True)"
   ]
  },
  {
   "cell_type": "markdown",
   "metadata": {},
   "source": [
    "## Tagline"
   ]
  },
  {
   "cell_type": "code",
   "execution_count": 45,
   "metadata": {},
   "outputs": [],
   "source": [
    "merged_data['tagline'].fillna('', inplace=True)"
   ]
  },
  {
   "cell_type": "markdown",
   "metadata": {},
   "source": [
    "## To be deleted: Adult, belongs_to_collection, hompage, id_y, imdb_id, original_language, original_title, popularity, overview,poster_path, status, vote_average, vote_count, 'timestamp', year, spoken language"
   ]
  },
  {
   "cell_type": "code",
   "execution_count": 46,
   "metadata": {},
   "outputs": [
    {
     "data": {
      "text/plain": [
       "array(['id_x', 'keywords_extracted', 'userId', 'movieId', 'rating',\n",
       "       'timestamp', 'adult', 'belongs_to_collection', 'budget', 'genres',\n",
       "       'homepage', 'id_y', 'imdb_id', 'original_language',\n",
       "       'original_title', 'overview', 'popularity', 'poster_path',\n",
       "       'production_companies', 'production_countries', 'release_date',\n",
       "       'revenue', 'runtime', 'spoken_languages', 'status', 'tagline',\n",
       "       'title', 'video', 'vote_average', 'vote_count', 'year',\n",
       "       'genres_extracted', 'production_companies_extracted',\n",
       "       'production_countries_extracted', 'release_year'], dtype=object)"
      ]
     },
     "execution_count": 46,
     "metadata": {},
     "output_type": "execute_result"
    }
   ],
   "source": [
    "merged_data.columns.values"
   ]
  },
  {
   "cell_type": "code",
   "execution_count": 47,
   "metadata": {},
   "outputs": [],
   "source": [
    "merged_data.drop(columns= ['id_x','adult','timestamp', 'belongs_to_collection','homepage', 'id_y', 'imdb_id','release_date', 'original_language',\n",
    "       'original_title','overview', 'poster_path','spoken_languages', 'status', 'video', 'vote_count', 'year','genres','production_companies', 'production_countries'], inplace = True)"
   ]
  },
  {
   "cell_type": "code",
   "execution_count": 48,
   "metadata": {
    "scrolled": true
   },
   "outputs": [
    {
     "data": {
      "text/html": [
       "<div>\n",
       "<style scoped>\n",
       "    .dataframe tbody tr th:only-of-type {\n",
       "        vertical-align: middle;\n",
       "    }\n",
       "\n",
       "    .dataframe tbody tr th {\n",
       "        vertical-align: top;\n",
       "    }\n",
       "\n",
       "    .dataframe thead th {\n",
       "        text-align: right;\n",
       "    }\n",
       "</style>\n",
       "<table border=\"1\" class=\"dataframe\">\n",
       "  <thead>\n",
       "    <tr style=\"text-align: right;\">\n",
       "      <th></th>\n",
       "      <th>keywords_extracted</th>\n",
       "      <th>userId</th>\n",
       "      <th>movieId</th>\n",
       "      <th>rating</th>\n",
       "      <th>budget</th>\n",
       "      <th>popularity</th>\n",
       "      <th>revenue</th>\n",
       "      <th>runtime</th>\n",
       "      <th>tagline</th>\n",
       "      <th>title</th>\n",
       "      <th>vote_average</th>\n",
       "      <th>genres_extracted</th>\n",
       "      <th>production_companies_extracted</th>\n",
       "      <th>production_countries_extracted</th>\n",
       "      <th>release_year</th>\n",
       "    </tr>\n",
       "  </thead>\n",
       "  <tbody>\n",
       "    <tr>\n",
       "      <th>0</th>\n",
       "      <td>[robbery, detective, bank, obsession, chase, shooting, thief, honor, murder, suspense, heist, betrayal, money, gang, cat and mouse, criminal mastermind, cult film, ex-con, heist movie, one last job, loner, bank job, neo-noir, gun fight, crime epic]</td>\n",
       "      <td>23</td>\n",
       "      <td>949</td>\n",
       "      <td>3.5</td>\n",
       "      <td>60000000</td>\n",
       "      <td>17.9249</td>\n",
       "      <td>187436818.0</td>\n",
       "      <td>170.0</td>\n",
       "      <td>A Los Angeles Crime Saga</td>\n",
       "      <td>Heat</td>\n",
       "      <td>7.7</td>\n",
       "      <td>[Action, Crime, Drama, Thriller]</td>\n",
       "      <td>[Regency Enterprises, Forward Pass, Warner Bros.]</td>\n",
       "      <td>[United States of America]</td>\n",
       "      <td>1995.0</td>\n",
       "    </tr>\n",
       "    <tr>\n",
       "      <th>1</th>\n",
       "      <td>[robbery, detective, bank, obsession, chase, shooting, thief, honor, murder, suspense, heist, betrayal, money, gang, cat and mouse, criminal mastermind, cult film, ex-con, heist movie, one last job, loner, bank job, neo-noir, gun fight, crime epic]</td>\n",
       "      <td>102</td>\n",
       "      <td>949</td>\n",
       "      <td>4.0</td>\n",
       "      <td>60000000</td>\n",
       "      <td>17.9249</td>\n",
       "      <td>187436818.0</td>\n",
       "      <td>170.0</td>\n",
       "      <td>A Los Angeles Crime Saga</td>\n",
       "      <td>Heat</td>\n",
       "      <td>7.7</td>\n",
       "      <td>[Action, Crime, Drama, Thriller]</td>\n",
       "      <td>[Regency Enterprises, Forward Pass, Warner Bros.]</td>\n",
       "      <td>[United States of America]</td>\n",
       "      <td>1995.0</td>\n",
       "    </tr>\n",
       "    <tr>\n",
       "      <th>2</th>\n",
       "      <td>[robbery, detective, bank, obsession, chase, shooting, thief, honor, murder, suspense, heist, betrayal, money, gang, cat and mouse, criminal mastermind, cult film, ex-con, heist movie, one last job, loner, bank job, neo-noir, gun fight, crime epic]</td>\n",
       "      <td>232</td>\n",
       "      <td>949</td>\n",
       "      <td>2.0</td>\n",
       "      <td>60000000</td>\n",
       "      <td>17.9249</td>\n",
       "      <td>187436818.0</td>\n",
       "      <td>170.0</td>\n",
       "      <td>A Los Angeles Crime Saga</td>\n",
       "      <td>Heat</td>\n",
       "      <td>7.7</td>\n",
       "      <td>[Action, Crime, Drama, Thriller]</td>\n",
       "      <td>[Regency Enterprises, Forward Pass, Warner Bros.]</td>\n",
       "      <td>[United States of America]</td>\n",
       "      <td>1995.0</td>\n",
       "    </tr>\n",
       "    <tr>\n",
       "      <th>3</th>\n",
       "      <td>[robbery, detective, bank, obsession, chase, shooting, thief, honor, murder, suspense, heist, betrayal, money, gang, cat and mouse, criminal mastermind, cult film, ex-con, heist movie, one last job, loner, bank job, neo-noir, gun fight, crime epic]</td>\n",
       "      <td>242</td>\n",
       "      <td>949</td>\n",
       "      <td>5.0</td>\n",
       "      <td>60000000</td>\n",
       "      <td>17.9249</td>\n",
       "      <td>187436818.0</td>\n",
       "      <td>170.0</td>\n",
       "      <td>A Los Angeles Crime Saga</td>\n",
       "      <td>Heat</td>\n",
       "      <td>7.7</td>\n",
       "      <td>[Action, Crime, Drama, Thriller]</td>\n",
       "      <td>[Regency Enterprises, Forward Pass, Warner Bros.]</td>\n",
       "      <td>[United States of America]</td>\n",
       "      <td>1995.0</td>\n",
       "    </tr>\n",
       "    <tr>\n",
       "      <th>4</th>\n",
       "      <td>[robbery, detective, bank, obsession, chase, shooting, thief, honor, murder, suspense, heist, betrayal, money, gang, cat and mouse, criminal mastermind, cult film, ex-con, heist movie, one last job, loner, bank job, neo-noir, gun fight, crime epic]</td>\n",
       "      <td>263</td>\n",
       "      <td>949</td>\n",
       "      <td>3.0</td>\n",
       "      <td>60000000</td>\n",
       "      <td>17.9249</td>\n",
       "      <td>187436818.0</td>\n",
       "      <td>170.0</td>\n",
       "      <td>A Los Angeles Crime Saga</td>\n",
       "      <td>Heat</td>\n",
       "      <td>7.7</td>\n",
       "      <td>[Action, Crime, Drama, Thriller]</td>\n",
       "      <td>[Regency Enterprises, Forward Pass, Warner Bros.]</td>\n",
       "      <td>[United States of America]</td>\n",
       "      <td>1995.0</td>\n",
       "    </tr>\n",
       "  </tbody>\n",
       "</table>\n",
       "</div>"
      ],
      "text/plain": [
       "                                                                                                                                                                                                                                         keywords_extracted  \\\n",
       "0  [robbery, detective, bank, obsession, chase, shooting, thief, honor, murder, suspense, heist, betrayal, money, gang, cat and mouse, criminal mastermind, cult film, ex-con, heist movie, one last job, loner, bank job, neo-noir, gun fight, crime epic]   \n",
       "1  [robbery, detective, bank, obsession, chase, shooting, thief, honor, murder, suspense, heist, betrayal, money, gang, cat and mouse, criminal mastermind, cult film, ex-con, heist movie, one last job, loner, bank job, neo-noir, gun fight, crime epic]   \n",
       "2  [robbery, detective, bank, obsession, chase, shooting, thief, honor, murder, suspense, heist, betrayal, money, gang, cat and mouse, criminal mastermind, cult film, ex-con, heist movie, one last job, loner, bank job, neo-noir, gun fight, crime epic]   \n",
       "3  [robbery, detective, bank, obsession, chase, shooting, thief, honor, murder, suspense, heist, betrayal, money, gang, cat and mouse, criminal mastermind, cult film, ex-con, heist movie, one last job, loner, bank job, neo-noir, gun fight, crime epic]   \n",
       "4  [robbery, detective, bank, obsession, chase, shooting, thief, honor, murder, suspense, heist, betrayal, money, gang, cat and mouse, criminal mastermind, cult film, ex-con, heist movie, one last job, loner, bank job, neo-noir, gun fight, crime epic]   \n",
       "\n",
       "   userId movieId  rating    budget popularity      revenue  runtime  \\\n",
       "0      23     949     3.5  60000000    17.9249  187436818.0    170.0   \n",
       "1     102     949     4.0  60000000    17.9249  187436818.0    170.0   \n",
       "2     232     949     2.0  60000000    17.9249  187436818.0    170.0   \n",
       "3     242     949     5.0  60000000    17.9249  187436818.0    170.0   \n",
       "4     263     949     3.0  60000000    17.9249  187436818.0    170.0   \n",
       "\n",
       "                    tagline title  vote_average  \\\n",
       "0  A Los Angeles Crime Saga  Heat           7.7   \n",
       "1  A Los Angeles Crime Saga  Heat           7.7   \n",
       "2  A Los Angeles Crime Saga  Heat           7.7   \n",
       "3  A Los Angeles Crime Saga  Heat           7.7   \n",
       "4  A Los Angeles Crime Saga  Heat           7.7   \n",
       "\n",
       "                   genres_extracted  \\\n",
       "0  [Action, Crime, Drama, Thriller]   \n",
       "1  [Action, Crime, Drama, Thriller]   \n",
       "2  [Action, Crime, Drama, Thriller]   \n",
       "3  [Action, Crime, Drama, Thriller]   \n",
       "4  [Action, Crime, Drama, Thriller]   \n",
       "\n",
       "                      production_companies_extracted  \\\n",
       "0  [Regency Enterprises, Forward Pass, Warner Bros.]   \n",
       "1  [Regency Enterprises, Forward Pass, Warner Bros.]   \n",
       "2  [Regency Enterprises, Forward Pass, Warner Bros.]   \n",
       "3  [Regency Enterprises, Forward Pass, Warner Bros.]   \n",
       "4  [Regency Enterprises, Forward Pass, Warner Bros.]   \n",
       "\n",
       "  production_countries_extracted  release_year  \n",
       "0     [United States of America]        1995.0  \n",
       "1     [United States of America]        1995.0  \n",
       "2     [United States of America]        1995.0  \n",
       "3     [United States of America]        1995.0  \n",
       "4     [United States of America]        1995.0  "
      ]
     },
     "execution_count": 48,
     "metadata": {},
     "output_type": "execute_result"
    }
   ],
   "source": [
    "merged_data.head()"
   ]
  },
  {
   "cell_type": "code",
   "execution_count": 49,
   "metadata": {},
   "outputs": [
    {
     "data": {
      "text/html": [
       "<div>\n",
       "<style scoped>\n",
       "    .dataframe tbody tr th:only-of-type {\n",
       "        vertical-align: middle;\n",
       "    }\n",
       "\n",
       "    .dataframe tbody tr th {\n",
       "        vertical-align: top;\n",
       "    }\n",
       "\n",
       "    .dataframe thead th {\n",
       "        text-align: right;\n",
       "    }\n",
       "</style>\n",
       "<table border=\"1\" class=\"dataframe\">\n",
       "  <thead>\n",
       "    <tr style=\"text-align: right;\">\n",
       "      <th></th>\n",
       "      <th>keywords_extracted</th>\n",
       "      <th>userId</th>\n",
       "      <th>movieId</th>\n",
       "      <th>rating</th>\n",
       "      <th>budget</th>\n",
       "      <th>popularity</th>\n",
       "      <th>revenue</th>\n",
       "      <th>runtime</th>\n",
       "      <th>tagline</th>\n",
       "      <th>title</th>\n",
       "      <th>vote_average</th>\n",
       "      <th>genres_extracted</th>\n",
       "      <th>production_companies_extracted</th>\n",
       "      <th>production_countries_extracted</th>\n",
       "      <th>release_year</th>\n",
       "    </tr>\n",
       "  </thead>\n",
       "  <tbody>\n",
       "    <tr>\n",
       "      <th>count</th>\n",
       "      <td>45020</td>\n",
       "      <td>45020.000000</td>\n",
       "      <td>45020</td>\n",
       "      <td>45020.000000</td>\n",
       "      <td>45020</td>\n",
       "      <td>45020.000000</td>\n",
       "      <td>4.502000e+04</td>\n",
       "      <td>45020.000000</td>\n",
       "      <td>45020</td>\n",
       "      <td>45020</td>\n",
       "      <td>45020.000000</td>\n",
       "      <td>45020</td>\n",
       "      <td>45020</td>\n",
       "      <td>45020</td>\n",
       "      <td>45020.000000</td>\n",
       "    </tr>\n",
       "    <tr>\n",
       "      <th>unique</th>\n",
       "      <td>2467</td>\n",
       "      <td>NaN</td>\n",
       "      <td>2830</td>\n",
       "      <td>NaN</td>\n",
       "      <td>313</td>\n",
       "      <td>2831.000000</td>\n",
       "      <td>NaN</td>\n",
       "      <td>NaN</td>\n",
       "      <td>1787</td>\n",
       "      <td>2794</td>\n",
       "      <td>NaN</td>\n",
       "      <td>790</td>\n",
       "      <td>2068</td>\n",
       "      <td>366</td>\n",
       "      <td>NaN</td>\n",
       "    </tr>\n",
       "    <tr>\n",
       "      <th>top</th>\n",
       "      <td>[]</td>\n",
       "      <td>NaN</td>\n",
       "      <td>296</td>\n",
       "      <td>NaN</td>\n",
       "      <td>0</td>\n",
       "      <td>20.818907</td>\n",
       "      <td>NaN</td>\n",
       "      <td>NaN</td>\n",
       "      <td></td>\n",
       "      <td>Terminator 3: Rise of the Machines</td>\n",
       "      <td>NaN</td>\n",
       "      <td>[Drama]</td>\n",
       "      <td>[]</td>\n",
       "      <td>[United States of America]</td>\n",
       "      <td>NaN</td>\n",
       "    </tr>\n",
       "    <tr>\n",
       "      <th>freq</th>\n",
       "      <td>1706</td>\n",
       "      <td>NaN</td>\n",
       "      <td>324</td>\n",
       "      <td>NaN</td>\n",
       "      <td>19539</td>\n",
       "      <td>324.000000</td>\n",
       "      <td>NaN</td>\n",
       "      <td>NaN</td>\n",
       "      <td>13488</td>\n",
       "      <td>324</td>\n",
       "      <td>NaN</td>\n",
       "      <td>4955</td>\n",
       "      <td>2213</td>\n",
       "      <td>21794</td>\n",
       "      <td>NaN</td>\n",
       "    </tr>\n",
       "    <tr>\n",
       "      <th>mean</th>\n",
       "      <td>NaN</td>\n",
       "      <td>345.990893</td>\n",
       "      <td>NaN</td>\n",
       "      <td>3.560962</td>\n",
       "      <td>NaN</td>\n",
       "      <td>NaN</td>\n",
       "      <td>7.609657e+07</td>\n",
       "      <td>108.984940</td>\n",
       "      <td>NaN</td>\n",
       "      <td>NaN</td>\n",
       "      <td>6.633023</td>\n",
       "      <td>NaN</td>\n",
       "      <td>NaN</td>\n",
       "      <td>NaN</td>\n",
       "      <td>1987.123345</td>\n",
       "    </tr>\n",
       "    <tr>\n",
       "      <th>std</th>\n",
       "      <td>NaN</td>\n",
       "      <td>194.876604</td>\n",
       "      <td>NaN</td>\n",
       "      <td>1.053100</td>\n",
       "      <td>NaN</td>\n",
       "      <td>NaN</td>\n",
       "      <td>1.758587e+08</td>\n",
       "      <td>24.911617</td>\n",
       "      <td>NaN</td>\n",
       "      <td>NaN</td>\n",
       "      <td>1.062314</td>\n",
       "      <td>NaN</td>\n",
       "      <td>NaN</td>\n",
       "      <td>NaN</td>\n",
       "      <td>21.478574</td>\n",
       "    </tr>\n",
       "    <tr>\n",
       "      <th>min</th>\n",
       "      <td>NaN</td>\n",
       "      <td>1.000000</td>\n",
       "      <td>NaN</td>\n",
       "      <td>0.500000</td>\n",
       "      <td>NaN</td>\n",
       "      <td>NaN</td>\n",
       "      <td>0.000000e+00</td>\n",
       "      <td>0.000000</td>\n",
       "      <td>NaN</td>\n",
       "      <td>NaN</td>\n",
       "      <td>0.000000</td>\n",
       "      <td>NaN</td>\n",
       "      <td>NaN</td>\n",
       "      <td>NaN</td>\n",
       "      <td>1896.000000</td>\n",
       "    </tr>\n",
       "    <tr>\n",
       "      <th>25%</th>\n",
       "      <td>NaN</td>\n",
       "      <td>177.000000</td>\n",
       "      <td>NaN</td>\n",
       "      <td>3.000000</td>\n",
       "      <td>NaN</td>\n",
       "      <td>NaN</td>\n",
       "      <td>0.000000e+00</td>\n",
       "      <td>95.000000</td>\n",
       "      <td>NaN</td>\n",
       "      <td>NaN</td>\n",
       "      <td>6.100000</td>\n",
       "      <td>NaN</td>\n",
       "      <td>NaN</td>\n",
       "      <td>NaN</td>\n",
       "      <td>1974.000000</td>\n",
       "    </tr>\n",
       "    <tr>\n",
       "      <th>50%</th>\n",
       "      <td>NaN</td>\n",
       "      <td>359.000000</td>\n",
       "      <td>NaN</td>\n",
       "      <td>4.000000</td>\n",
       "      <td>NaN</td>\n",
       "      <td>NaN</td>\n",
       "      <td>2.201126e+06</td>\n",
       "      <td>106.000000</td>\n",
       "      <td>NaN</td>\n",
       "      <td>NaN</td>\n",
       "      <td>6.800000</td>\n",
       "      <td>NaN</td>\n",
       "      <td>NaN</td>\n",
       "      <td>NaN</td>\n",
       "      <td>1995.000000</td>\n",
       "    </tr>\n",
       "    <tr>\n",
       "      <th>75%</th>\n",
       "      <td>NaN</td>\n",
       "      <td>518.000000</td>\n",
       "      <td>NaN</td>\n",
       "      <td>4.000000</td>\n",
       "      <td>NaN</td>\n",
       "      <td>NaN</td>\n",
       "      <td>7.418968e+07</td>\n",
       "      <td>121.000000</td>\n",
       "      <td>NaN</td>\n",
       "      <td>NaN</td>\n",
       "      <td>7.300000</td>\n",
       "      <td>NaN</td>\n",
       "      <td>NaN</td>\n",
       "      <td>NaN</td>\n",
       "      <td>2003.000000</td>\n",
       "    </tr>\n",
       "    <tr>\n",
       "      <th>max</th>\n",
       "      <td>NaN</td>\n",
       "      <td>671.000000</td>\n",
       "      <td>NaN</td>\n",
       "      <td>5.000000</td>\n",
       "      <td>NaN</td>\n",
       "      <td>NaN</td>\n",
       "      <td>1.845034e+09</td>\n",
       "      <td>320.000000</td>\n",
       "      <td>NaN</td>\n",
       "      <td>NaN</td>\n",
       "      <td>10.000000</td>\n",
       "      <td>NaN</td>\n",
       "      <td>NaN</td>\n",
       "      <td>NaN</td>\n",
       "      <td>2015.000000</td>\n",
       "    </tr>\n",
       "  </tbody>\n",
       "</table>\n",
       "</div>"
      ],
      "text/plain": [
       "       keywords_extracted        userId movieId        rating budget  \\\n",
       "count               45020  45020.000000   45020  45020.000000  45020   \n",
       "unique               2467           NaN    2830           NaN    313   \n",
       "top                    []           NaN     296           NaN      0   \n",
       "freq                 1706           NaN     324           NaN  19539   \n",
       "mean                  NaN    345.990893     NaN      3.560962    NaN   \n",
       "std                   NaN    194.876604     NaN      1.053100    NaN   \n",
       "min                   NaN      1.000000     NaN      0.500000    NaN   \n",
       "25%                   NaN    177.000000     NaN      3.000000    NaN   \n",
       "50%                   NaN    359.000000     NaN      4.000000    NaN   \n",
       "75%                   NaN    518.000000     NaN      4.000000    NaN   \n",
       "max                   NaN    671.000000     NaN      5.000000    NaN   \n",
       "\n",
       "          popularity       revenue       runtime tagline  \\\n",
       "count   45020.000000  4.502000e+04  45020.000000   45020   \n",
       "unique   2831.000000           NaN           NaN    1787   \n",
       "top        20.818907           NaN           NaN           \n",
       "freq      324.000000           NaN           NaN   13488   \n",
       "mean             NaN  7.609657e+07    108.984940     NaN   \n",
       "std              NaN  1.758587e+08     24.911617     NaN   \n",
       "min              NaN  0.000000e+00      0.000000     NaN   \n",
       "25%              NaN  0.000000e+00     95.000000     NaN   \n",
       "50%              NaN  2.201126e+06    106.000000     NaN   \n",
       "75%              NaN  7.418968e+07    121.000000     NaN   \n",
       "max              NaN  1.845034e+09    320.000000     NaN   \n",
       "\n",
       "                                     title  vote_average genres_extracted  \\\n",
       "count                                45020  45020.000000            45020   \n",
       "unique                                2794           NaN              790   \n",
       "top     Terminator 3: Rise of the Machines           NaN          [Drama]   \n",
       "freq                                   324           NaN             4955   \n",
       "mean                                   NaN      6.633023              NaN   \n",
       "std                                    NaN      1.062314              NaN   \n",
       "min                                    NaN      0.000000              NaN   \n",
       "25%                                    NaN      6.100000              NaN   \n",
       "50%                                    NaN      6.800000              NaN   \n",
       "75%                                    NaN      7.300000              NaN   \n",
       "max                                    NaN     10.000000              NaN   \n",
       "\n",
       "       production_companies_extracted production_countries_extracted  \\\n",
       "count                           45020                          45020   \n",
       "unique                           2068                            366   \n",
       "top                                []     [United States of America]   \n",
       "freq                             2213                          21794   \n",
       "mean                              NaN                            NaN   \n",
       "std                               NaN                            NaN   \n",
       "min                               NaN                            NaN   \n",
       "25%                               NaN                            NaN   \n",
       "50%                               NaN                            NaN   \n",
       "75%                               NaN                            NaN   \n",
       "max                               NaN                            NaN   \n",
       "\n",
       "        release_year  \n",
       "count   45020.000000  \n",
       "unique           NaN  \n",
       "top              NaN  \n",
       "freq             NaN  \n",
       "mean     1987.123345  \n",
       "std        21.478574  \n",
       "min      1896.000000  \n",
       "25%      1974.000000  \n",
       "50%      1995.000000  \n",
       "75%      2003.000000  \n",
       "max      2015.000000  "
      ]
     },
     "execution_count": 49,
     "metadata": {},
     "output_type": "execute_result"
    }
   ],
   "source": [
    "merged_data.describe(include='all')"
   ]
  },
  {
   "cell_type": "code",
   "execution_count": 50,
   "metadata": {},
   "outputs": [
    {
     "data": {
      "text/plain": [
       "keywords_extracted                0\n",
       "userId                            0\n",
       "movieId                           0\n",
       "rating                            0\n",
       "budget                            0\n",
       "popularity                        0\n",
       "revenue                           0\n",
       "runtime                           0\n",
       "tagline                           0\n",
       "title                             0\n",
       "vote_average                      0\n",
       "genres_extracted                  0\n",
       "production_companies_extracted    0\n",
       "production_countries_extracted    0\n",
       "release_year                      0\n",
       "dtype: int64"
      ]
     },
     "execution_count": 50,
     "metadata": {},
     "output_type": "execute_result"
    }
   ],
   "source": [
    "merged_data.isnull().sum()"
   ]
  },
  {
   "cell_type": "markdown",
   "metadata": {},
   "source": [
    "# Feature Engineering"
   ]
  },
  {
   "cell_type": "markdown",
   "metadata": {},
   "source": [
    "## Encode genres using One-Hot Encoding"
   ]
  },
  {
   "cell_type": "code",
   "execution_count": 51,
   "metadata": {},
   "outputs": [],
   "source": [
    "from sklearn.decomposition import TruncatedSVD\n",
    "from sklearn.preprocessing import MultiLabelBinarizer\n",
    "\n",
    "# Convert genres from string to list\n",
    "# merged_data['genres_extracted'] = merged_data['genres_extracted'].apply(lambda x: x.split('|'))\n",
    "mlb = MultiLabelBinarizer()\n",
    "genres_encoded = mlb.fit_transform(merged_data['genres_extracted'])\n",
    "\n",
    "\n",
    "genres_df = pd.DataFrame(genres_encoded, columns=mlb.classes_)\n",
    "merged_data = pd.concat([merged_data, genres_df], axis=1)"
   ]
  },
  {
   "cell_type": "code",
   "execution_count": 52,
   "metadata": {
    "scrolled": true
   },
   "outputs": [
    {
     "data": {
      "text/plain": [
       "(45020, 35)"
      ]
     },
     "execution_count": 52,
     "metadata": {},
     "output_type": "execute_result"
    }
   ],
   "source": [
    "merged_data.shape"
   ]
  },
  {
   "cell_type": "code",
   "execution_count": 53,
   "metadata": {},
   "outputs": [
    {
     "data": {
      "text/plain": [
       "array(['keywords_extracted', 'userId', 'movieId', 'rating', 'budget',\n",
       "       'popularity', 'revenue', 'runtime', 'tagline', 'title',\n",
       "       'vote_average', 'genres_extracted',\n",
       "       'production_companies_extracted', 'production_countries_extracted',\n",
       "       'release_year', 'Action', 'Adventure', 'Animation', 'Comedy',\n",
       "       'Crime', 'Documentary', 'Drama', 'Family', 'Fantasy', 'Foreign',\n",
       "       'History', 'Horror', 'Music', 'Mystery', 'Romance',\n",
       "       'Science Fiction', 'TV Movie', 'Thriller', 'War', 'Western'],\n",
       "      dtype=object)"
      ]
     },
     "execution_count": 53,
     "metadata": {},
     "output_type": "execute_result"
    }
   ],
   "source": [
    "merged_data.columns.values"
   ]
  },
  {
   "cell_type": "markdown",
   "metadata": {},
   "source": [
    "# Encode keywords, production companies, production countries using TF-IDF"
   ]
  },
  {
   "cell_type": "code",
   "execution_count": 54,
   "metadata": {
    "scrolled": true
   },
   "outputs": [],
   "source": [
    "# from sklearn.feature_extraction.text import TfidfVectorizer"
   ]
  },
  {
   "cell_type": "code",
   "execution_count": 55,
   "metadata": {},
   "outputs": [],
   "source": [
    "# # Step 1: Convert lists to strings\n",
    "# merged_data['production_companies_extracted'] = [' '.join(companies) for companies in merged_data['production_companies_extracted']]\n",
    "# merged_data['keywords_extracted'] = [' '.join(keywords) for keywords in merged_data['keywords_extracted']]\n",
    "# merged_data['production_countries_extracted'] = [' '.join(keywords) for keywords in merged_data['production_countries_extracted']]"
   ]
  },
  {
   "cell_type": "code",
   "execution_count": 56,
   "metadata": {},
   "outputs": [],
   "source": [
    "# merged_data['combined_features'] = merged_data['production_companies_extracted'] + ' ' + merged_data['keywords_extracted']+ ' ' + merged_data['production_countries_extracted']"
   ]
  },
  {
   "cell_type": "code",
   "execution_count": 57,
   "metadata": {},
   "outputs": [],
   "source": [
    "# # Step 3: Apply TF-IDF to the 'production_companies_extracted' column\n",
    "# tfidf = TfidfVectorizer(max_features=500, stop_words='english')  # Ignore common English stop words\n",
    "# features_tfidf = tfidf.fit_transform(merged_data['combined_features'])"
   ]
  },
  {
   "cell_type": "code",
   "execution_count": 58,
   "metadata": {},
   "outputs": [],
   "source": [
    "# from sklearn.decomposition import TruncatedSVD\n",
    "# svd = TruncatedSVD(n_components=100)  # Reduce to 50 components\n",
    "# features_reduced = svd.fit_transform(features_tfidf)\n",
    "# reduced_df = pd.DataFrame(features_reduced)"
   ]
  },
  {
   "cell_type": "code",
   "execution_count": 59,
   "metadata": {},
   "outputs": [],
   "source": [
    "# merged_data = pd.concat([merged_data, reduced_df], axis=1)"
   ]
  },
  {
   "cell_type": "code",
   "execution_count": 60,
   "metadata": {},
   "outputs": [],
   "source": [
    "# merged_data.shape"
   ]
  },
  {
   "cell_type": "code",
   "execution_count": 61,
   "metadata": {},
   "outputs": [],
   "source": [
    "# merged_data.columns.values"
   ]
  },
  {
   "cell_type": "markdown",
   "metadata": {},
   "source": [
    "## Scale Numerical Features"
   ]
  },
  {
   "cell_type": "code",
   "execution_count": 62,
   "metadata": {},
   "outputs": [],
   "source": [
    "# from sklearn.preprocessing import StandardScaler\n",
    "# scaler = StandardScaler()\n",
    "# numerical_features = ['runtime', 'release_year']\n",
    "# merged_data[numerical_features] = scaler.fit_transform(merged_data[numerical_features])"
   ]
  },
  {
   "cell_type": "code",
   "execution_count": 63,
   "metadata": {},
   "outputs": [],
   "source": [
    "# Select features\n",
    "X = merged_data.drop(columns=['keywords_extracted','popularity','vote_average', 'userId', 'movieId', 'rating', 'tagline', 'title', 'genres_extracted',\n",
    "       'production_companies_extracted', 'production_countries_extracted','budget', 'revenue'])\n",
    "y = merged_data['rating']"
   ]
  },
  {
   "cell_type": "code",
   "execution_count": 64,
   "metadata": {},
   "outputs": [
    {
     "data": {
      "text/html": [
       "<div>\n",
       "<style scoped>\n",
       "    .dataframe tbody tr th:only-of-type {\n",
       "        vertical-align: middle;\n",
       "    }\n",
       "\n",
       "    .dataframe tbody tr th {\n",
       "        vertical-align: top;\n",
       "    }\n",
       "\n",
       "    .dataframe thead th {\n",
       "        text-align: right;\n",
       "    }\n",
       "</style>\n",
       "<table border=\"1\" class=\"dataframe\">\n",
       "  <thead>\n",
       "    <tr style=\"text-align: right;\">\n",
       "      <th></th>\n",
       "      <th>runtime</th>\n",
       "      <th>release_year</th>\n",
       "      <th>Action</th>\n",
       "      <th>Adventure</th>\n",
       "      <th>Animation</th>\n",
       "      <th>Comedy</th>\n",
       "      <th>Crime</th>\n",
       "      <th>Documentary</th>\n",
       "      <th>Drama</th>\n",
       "      <th>Family</th>\n",
       "      <th>...</th>\n",
       "      <th>History</th>\n",
       "      <th>Horror</th>\n",
       "      <th>Music</th>\n",
       "      <th>Mystery</th>\n",
       "      <th>Romance</th>\n",
       "      <th>Science Fiction</th>\n",
       "      <th>TV Movie</th>\n",
       "      <th>Thriller</th>\n",
       "      <th>War</th>\n",
       "      <th>Western</th>\n",
       "    </tr>\n",
       "  </thead>\n",
       "  <tbody>\n",
       "    <tr>\n",
       "      <th>0</th>\n",
       "      <td>170.0</td>\n",
       "      <td>1995.0</td>\n",
       "      <td>1</td>\n",
       "      <td>0</td>\n",
       "      <td>0</td>\n",
       "      <td>0</td>\n",
       "      <td>1</td>\n",
       "      <td>0</td>\n",
       "      <td>1</td>\n",
       "      <td>0</td>\n",
       "      <td>...</td>\n",
       "      <td>0</td>\n",
       "      <td>0</td>\n",
       "      <td>0</td>\n",
       "      <td>0</td>\n",
       "      <td>0</td>\n",
       "      <td>0</td>\n",
       "      <td>0</td>\n",
       "      <td>1</td>\n",
       "      <td>0</td>\n",
       "      <td>0</td>\n",
       "    </tr>\n",
       "    <tr>\n",
       "      <th>1</th>\n",
       "      <td>170.0</td>\n",
       "      <td>1995.0</td>\n",
       "      <td>1</td>\n",
       "      <td>0</td>\n",
       "      <td>0</td>\n",
       "      <td>0</td>\n",
       "      <td>1</td>\n",
       "      <td>0</td>\n",
       "      <td>1</td>\n",
       "      <td>0</td>\n",
       "      <td>...</td>\n",
       "      <td>0</td>\n",
       "      <td>0</td>\n",
       "      <td>0</td>\n",
       "      <td>0</td>\n",
       "      <td>0</td>\n",
       "      <td>0</td>\n",
       "      <td>0</td>\n",
       "      <td>1</td>\n",
       "      <td>0</td>\n",
       "      <td>0</td>\n",
       "    </tr>\n",
       "    <tr>\n",
       "      <th>2</th>\n",
       "      <td>170.0</td>\n",
       "      <td>1995.0</td>\n",
       "      <td>1</td>\n",
       "      <td>0</td>\n",
       "      <td>0</td>\n",
       "      <td>0</td>\n",
       "      <td>1</td>\n",
       "      <td>0</td>\n",
       "      <td>1</td>\n",
       "      <td>0</td>\n",
       "      <td>...</td>\n",
       "      <td>0</td>\n",
       "      <td>0</td>\n",
       "      <td>0</td>\n",
       "      <td>0</td>\n",
       "      <td>0</td>\n",
       "      <td>0</td>\n",
       "      <td>0</td>\n",
       "      <td>1</td>\n",
       "      <td>0</td>\n",
       "      <td>0</td>\n",
       "    </tr>\n",
       "    <tr>\n",
       "      <th>3</th>\n",
       "      <td>170.0</td>\n",
       "      <td>1995.0</td>\n",
       "      <td>1</td>\n",
       "      <td>0</td>\n",
       "      <td>0</td>\n",
       "      <td>0</td>\n",
       "      <td>1</td>\n",
       "      <td>0</td>\n",
       "      <td>1</td>\n",
       "      <td>0</td>\n",
       "      <td>...</td>\n",
       "      <td>0</td>\n",
       "      <td>0</td>\n",
       "      <td>0</td>\n",
       "      <td>0</td>\n",
       "      <td>0</td>\n",
       "      <td>0</td>\n",
       "      <td>0</td>\n",
       "      <td>1</td>\n",
       "      <td>0</td>\n",
       "      <td>0</td>\n",
       "    </tr>\n",
       "    <tr>\n",
       "      <th>4</th>\n",
       "      <td>170.0</td>\n",
       "      <td>1995.0</td>\n",
       "      <td>1</td>\n",
       "      <td>0</td>\n",
       "      <td>0</td>\n",
       "      <td>0</td>\n",
       "      <td>1</td>\n",
       "      <td>0</td>\n",
       "      <td>1</td>\n",
       "      <td>0</td>\n",
       "      <td>...</td>\n",
       "      <td>0</td>\n",
       "      <td>0</td>\n",
       "      <td>0</td>\n",
       "      <td>0</td>\n",
       "      <td>0</td>\n",
       "      <td>0</td>\n",
       "      <td>0</td>\n",
       "      <td>1</td>\n",
       "      <td>0</td>\n",
       "      <td>0</td>\n",
       "    </tr>\n",
       "  </tbody>\n",
       "</table>\n",
       "<p>5 rows × 22 columns</p>\n",
       "</div>"
      ],
      "text/plain": [
       "   runtime  release_year  Action  Adventure  Animation  Comedy  Crime  \\\n",
       "0    170.0        1995.0       1          0          0       0      1   \n",
       "1    170.0        1995.0       1          0          0       0      1   \n",
       "2    170.0        1995.0       1          0          0       0      1   \n",
       "3    170.0        1995.0       1          0          0       0      1   \n",
       "4    170.0        1995.0       1          0          0       0      1   \n",
       "\n",
       "   Documentary  Drama  Family  ...  History  Horror  Music  Mystery  Romance  \\\n",
       "0            0      1       0  ...        0       0      0        0        0   \n",
       "1            0      1       0  ...        0       0      0        0        0   \n",
       "2            0      1       0  ...        0       0      0        0        0   \n",
       "3            0      1       0  ...        0       0      0        0        0   \n",
       "4            0      1       0  ...        0       0      0        0        0   \n",
       "\n",
       "   Science Fiction  TV Movie  Thriller  War  Western  \n",
       "0                0         0         1    0        0  \n",
       "1                0         0         1    0        0  \n",
       "2                0         0         1    0        0  \n",
       "3                0         0         1    0        0  \n",
       "4                0         0         1    0        0  \n",
       "\n",
       "[5 rows x 22 columns]"
      ]
     },
     "execution_count": 64,
     "metadata": {},
     "output_type": "execute_result"
    }
   ],
   "source": [
    "X.head()"
   ]
  },
  {
   "cell_type": "code",
   "execution_count": 65,
   "metadata": {},
   "outputs": [
    {
     "data": {
      "text/plain": [
       "array(['runtime', 'release_year', 'Action', 'Adventure', 'Animation',\n",
       "       'Comedy', 'Crime', 'Documentary', 'Drama', 'Family', 'Fantasy',\n",
       "       'Foreign', 'History', 'Horror', 'Music', 'Mystery', 'Romance',\n",
       "       'Science Fiction', 'TV Movie', 'Thriller', 'War', 'Western'],\n",
       "      dtype=object)"
      ]
     },
     "execution_count": 65,
     "metadata": {},
     "output_type": "execute_result"
    }
   ],
   "source": [
    "X.columns.values"
   ]
  },
  {
   "cell_type": "markdown",
   "metadata": {},
   "source": [
    "# Feature selections"
   ]
  },
  {
   "cell_type": "code",
   "execution_count": 66,
   "metadata": {
    "scrolled": false
   },
   "outputs": [
    {
     "data": {
      "image/png": "[encoded data removed]",
      "text/plain": [
       "<Figure size 864x432 with 1 Axes>"
      ]
     },
     "metadata": {},
     "output_type": "display_data"
    }
   ],
   "source": [
    "from sklearn.ensemble import RandomForestRegressor\n",
    "import matplotlib.pyplot as plt\n",
    "\n",
    "# Train a simple Random Forest for feature importance\n",
    "rf = RandomForestRegressor()\n",
    "rf.fit(X, y)\n",
    "\n",
    "# Plot feature importances\n",
    "importances = rf.feature_importances_\n",
    "indices = np.argsort(importances)[::-1]\n",
    "\n",
    "plt.figure(figsize=(12,6))\n",
    "plt.title('Feature Importance')\n",
    "plt.bar(range(X.shape[1]), importances[indices], align='center')\n",
    "plt.xticks(range(X.shape[1]), X.columns[indices], rotation=90)\n",
    "plt.show()\n"
   ]
  },
  {
   "cell_type": "markdown",
   "metadata": {},
   "source": [
    "# Model ranking"
   ]
  },
  {
   "cell_type": "code",
   "execution_count": 67,
   "metadata": {},
   "outputs": [],
   "source": [
    "# # long time to run!\n",
    "# from sklearn.model_selection import cross_val_score\n",
    "\n",
    "# # 5-Fold Cross-Validation\n",
    "# cv_scores = cross_val_score(rf_model, X_train, y_train, cv=5)\n",
    "# print(f'Random Forest 5-Fold CV Mean Score: {cv_scores.mean()}')"
   ]
  },
  {
   "cell_type": "code",
   "execution_count": 68,
   "metadata": {},
   "outputs": [],
   "source": [
    "import numpy as np\n",
    "import pandas as pd\n",
    "from sklearn.linear_model import LinearRegression, Ridge, Lasso, ElasticNet\n",
    "from sklearn.tree import DecisionTreeRegressor\n",
    "from sklearn.ensemble import RandomForestRegressor, GradientBoostingRegressor\n",
    "from sklearn.svm import SVR\n",
    "from sklearn.neighbors import KNeighborsRegressor\n",
    "from sklearn.model_selection import train_test_split\n",
    "from sklearn.metrics import mean_squared_error, r2_score\n",
    "\n",
    "def train_and_evaluate_models(X, y):\n",
    "    # Split the data into training and testing sets\n",
    "    X_train, X_test, y_train, y_test = train_test_split(X, y, test_size=0.2, random_state=42)\n",
    "    \n",
    "    # Define the models to evaluate\n",
    "    models = {\n",
    "        'Decision Tree': DecisionTreeRegressor(random_state=42),\n",
    "        'Random Forest': RandomForestRegressor(n_estimators=100, random_state=42),\n",
    "        'SVR': SVR(kernel='rbf', C=1.0, epsilon=0.1)\n",
    "    }\n",
    "    \n",
    "    # Evaluate each model\n",
    "    results = []\n",
    "    \n",
    "    for model_name, model in models.items():\n",
    "        # Train the model\n",
    "        model.fit(X_train, y_train)\n",
    "        \n",
    "        # Make predictions\n",
    "        y_pred = model.predict(X_test)\n",
    "        \n",
    "        # Calculate Mean Squared Error and R² score\n",
    "        mse = mean_squared_error(y_test, y_pred)\n",
    "        r2 = r2_score(y_test, y_pred)\n",
    "        \n",
    "        results.append({\n",
    "            'Model': model_name,\n",
    "            'MSE': mse,\n",
    "            'R² Score': r2\n",
    "        })\n",
    "        \n",
    "        # Print the results\n",
    "        print(f\"{model_name} - MSE: {mse:.4f}, R² Score: {r2:.4f}\")\n",
    "    \n",
    "    # Convert results to a DataFrame\n",
    "    results_df = pd.DataFrame(results)\n",
    "    \n",
    "    return results_df\n",
    "\n",
    "# Example usage:\n",
    "# Assuming X_train and y_train are your features and target variable\n",
    "# results = train_and_evaluate_models(X_train, y_train)\n"
   ]
  },
  {
   "cell_type": "markdown",
   "metadata": {},
   "source": [
    "With other text features\n",
    "\n",
    "Decision Tree - MSE: 0.9683, R² Score: 0.1085\n",
    "\n",
    "Random Forest - MSE: 0.9366, R² Score: 0.1377\n",
    "\n",
    "SVR - MSE: 0.9753, R² Score: 0.1021"
   ]
  },
  {
   "cell_type": "code",
   "execution_count": 69,
   "metadata": {},
   "outputs": [
    {
     "name": "stdout",
     "output_type": "stream",
     "text": [
      "Decision Tree - MSE: 1.0138, R² Score: 0.1108\n",
      "Random Forest - MSE: 0.9793, R² Score: 0.1411\n",
      "SVR - MSE: 1.2602, R² Score: -0.1053\n"
     ]
    }
   ],
   "source": [
    "results = train_and_evaluate_models(X, y)"
   ]
  },
  {
   "cell_type": "markdown",
   "metadata": {},
   "source": [
    "Content-based models: These are often not as powerful as collaborative filtering models, which can capture patterns from user interactions with the system.\n",
    "Combining models: You mentioned that you would combine the content-based approach with collaborative filtering later, which might improve overall performance."
   ]
  },
  {
   "cell_type": "markdown",
   "metadata": {},
   "source": [
    "# Train model"
   ]
  },
  {
   "cell_type": "code",
   "execution_count": 70,
   "metadata": {},
   "outputs": [],
   "source": [
    "from sklearn.model_selection import train_test_split\n",
    "\n",
    "X_train, X_test, y_train, y_test = train_test_split(X, y, test_size=0.2, random_state=42)"
   ]
  },
  {
   "cell_type": "code",
   "execution_count": 71,
   "metadata": {},
   "outputs": [
    {
     "data": {
      "text/plain": [
       "RandomForestRegressor(random_state=42)"
      ]
     },
     "execution_count": 71,
     "metadata": {},
     "output_type": "execute_result"
    }
   ],
   "source": [
    "rf_model = RandomForestRegressor(n_estimators=100, random_state=42)\n",
    "rf_model.fit(X_train, y_train)"
   ]
  },
  {
   "cell_type": "markdown",
   "metadata": {},
   "source": [
    "# Recommenting"
   ]
  },
  {
   "cell_type": "code",
   "execution_count": 72,
   "metadata": {},
   "outputs": [],
   "source": [
    "features = ['movieId','runtime',\n",
    "       'release_year', 'Action', 'Adventure', 'Animation', 'Comedy',\n",
    "       'Crime', 'Documentary', 'Drama', 'Family', 'Fantasy', 'Foreign',\n",
    "       'History', 'Horror', 'Music', 'Mystery', 'Romance',\n",
    "       'Science Fiction', 'TV Movie', 'Thriller', 'War', 'Western']"
   ]
  },
  {
   "cell_type": "code",
   "execution_count": 73,
   "metadata": {},
   "outputs": [],
   "source": [
    "ratings=['userId', 'movieId', 'rating']"
   ]
  },
  {
   "cell_type": "code",
   "execution_count": 74,
   "metadata": {},
   "outputs": [],
   "source": [
    "titles = ['movieId','title']"
   ]
  },
  {
   "cell_type": "code",
   "execution_count": 75,
   "metadata": {},
   "outputs": [],
   "source": [
    "def is_valid_user(user_id, user_movie_ratings_df):\n",
    "    return user_id in user_movie_ratings_df['userId'].unique()\n",
    "\n",
    "\n",
    "def recommend_movies_for_user(model, user_id, movie_features_df, user_movie_ratings_df, movie_titles_df, top_n=5):\n",
    "    if not is_valid_user(user_id, user_movie_ratings_df):\n",
    "        print(f\"Invalid user ID: {user_id}\")\n",
    "        return pd.DataFrame()\n",
    "    \"\"\"\n",
    "    Recommend top N movies for a user based on a trained random forest model.\n",
    "\n",
    "    Parameters:\n",
    "    rf_model (RandomForestRegressor): Trained random forest model.\n",
    "    user_id (int): The user ID for whom we are recommending movies.\n",
    "    movie_features_df (pd.DataFrame): DataFrame containing movie features (e.g. budget, revenue, runtime).\n",
    "    user_movie_ratings_df (pd.DataFrame): DataFrame containing user-movie ratings with columns ['user_id', 'movie_id', 'rating'].\n",
    "    top_n (int): Number of top recommendations to return (default is 5).\n",
    "\n",
    "    Returns:\n",
    "    pd.DataFrame: DataFrame containing the top N recommended movies with predicted ratings.\n",
    "    \"\"\"\n",
    "\n",
    "    # Get movies that the user has already rated\n",
    "    seen_movies = user_movie_ratings_df[user_movie_ratings_df['userId'] == user_id]['movieId'].unique()\n",
    "\n",
    "    # Filter out movies the user has already seen\n",
    "#     unseen_movies_df = movie_features_df[~movie_features_df['movieId'].isin(seen_movies)]\n",
    "    unseen_movies_df = movie_features_df[~movie_features_df['movieId'].isin(seen_movies)].copy()\n",
    "\n",
    "    if unseen_movies_df.empty:\n",
    "        print(f\"User {user_id} has rated all available movies.\")\n",
    "        return pd.DataFrame()\n",
    "\n",
    "    # Prepare data for prediction\n",
    "    # Assuming the movie_features_df contains relevant columns like budget, revenue, runtime for unseen movies\n",
    "    \n",
    "    unseen_movie_features = unseen_movies_df[features].drop(columns='movieId')\n",
    "\n",
    "    # Predict ratings for unseen movies\n",
    "    predicted_ratings = model.predict(unseen_movie_features)\n",
    "    \n",
    "\n",
    "    # Add predictions back to the unseen movies DataFrame\n",
    "    unseen_movies_df.loc[:, 'predicted_rating'] = predicted_ratings\n",
    "\n",
    "    top_recommendations = unseen_movies_df[['movieId', 'predicted_rating']].sort_values(by='predicted_rating', ascending=False)\n",
    "\n",
    "    top_recommendations_with_titles = top_recommendations.merge(movie_titles_df, on='movieId', how='left')\n",
    "    \n",
    "    top_unique_recommendations = top_recommendations_with_titles.drop_duplicates(subset='title').head(top_n)\n",
    "    \n",
    "    return top_unique_recommendations[['title','predicted_rating']].reset_index(drop=True)"
   ]
  },
  {
   "cell_type": "code",
   "execution_count": 76,
   "metadata": {
    "scrolled": true
   },
   "outputs": [
    {
     "data": {
      "text/html": [
       "<div>\n",
       "<style scoped>\n",
       "    .dataframe tbody tr th:only-of-type {\n",
       "        vertical-align: middle;\n",
       "    }\n",
       "\n",
       "    .dataframe tbody tr th {\n",
       "        vertical-align: top;\n",
       "    }\n",
       "\n",
       "    .dataframe thead th {\n",
       "        text-align: right;\n",
       "    }\n",
       "</style>\n",
       "<table border=\"1\" class=\"dataframe\">\n",
       "  <thead>\n",
       "    <tr style=\"text-align: right;\">\n",
       "      <th></th>\n",
       "      <th>title</th>\n",
       "      <th>predicted_rating</th>\n",
       "    </tr>\n",
       "  </thead>\n",
       "  <tbody>\n",
       "    <tr>\n",
       "      <th>0</th>\n",
       "      <td>The Night of the Hunter</td>\n",
       "      <td>4.899905</td>\n",
       "    </tr>\n",
       "    <tr>\n",
       "      <th>1</th>\n",
       "      <td>Gentlemen Prefer Blondes</td>\n",
       "      <td>4.846737</td>\n",
       "    </tr>\n",
       "    <tr>\n",
       "      <th>2</th>\n",
       "      <td>Night Without Sleep</td>\n",
       "      <td>4.835127</td>\n",
       "    </tr>\n",
       "    <tr>\n",
       "      <th>3</th>\n",
       "      <td>Aamdani Atthanni Kharcha Rupaiya</td>\n",
       "      <td>4.818932</td>\n",
       "    </tr>\n",
       "    <tr>\n",
       "      <th>4</th>\n",
       "      <td>Long Pigs</td>\n",
       "      <td>4.813850</td>\n",
       "    </tr>\n",
       "  </tbody>\n",
       "</table>\n",
       "</div>"
      ],
      "text/plain": [
       "                              title  predicted_rating\n",
       "0           The Night of the Hunter          4.899905\n",
       "1          Gentlemen Prefer Blondes          4.846737\n",
       "2               Night Without Sleep          4.835127\n",
       "3  Aamdani Atthanni Kharcha Rupaiya          4.818932\n",
       "4                         Long Pigs          4.813850"
      ]
     },
     "execution_count": 76,
     "metadata": {},
     "output_type": "execute_result"
    }
   ],
   "source": [
    "top_5_recommendations = recommend_movies_for_user(rf_model, user_id=23, movie_features_df=merged_data[features], \n",
    "                                                  user_movie_ratings_df=merged_data[ratings], movie_titles_df= merged_data[titles])\n",
    "top_5_recommendations"
   ]
  },
  {
   "cell_type": "markdown",
   "metadata": {},
   "source": [
    "# Collaborative filtering approach\n",
    "This method finds other users similar to you and recommends their choices. For example, if you and a friend both love The Shawshank Redemption, and your friend also loves Forrest Gump, the system will recommend Forrest Gump to you, thinking you might share your friend's taste."
   ]
  },
  {
   "cell_type": "code",
   "execution_count": 77,
   "metadata": {},
   "outputs": [],
   "source": [
    "import pandas as pd\n",
    "import matplotlib.pyplot as plt\n",
    "import seaborn as sns\n",
    "import numpy as np\n",
    "sns.set()\n",
    "from surprise import Dataset, Reader\n",
    "from surprise.model_selection import train_test_split\n",
    "from surprise import SVD\n",
    "from surprise.model_selection import cross_validate\n",
    "from surprise import accuracy\n",
    "from surprise import KNNBasic"
   ]
  },
  {
   "cell_type": "markdown",
   "metadata": {},
   "source": [
    "# Split data"
   ]
  },
  {
   "cell_type": "code",
   "execution_count": 78,
   "metadata": {},
   "outputs": [],
   "source": [
    "reader = Reader(rating_scale=(1, 5))"
   ]
  },
  {
   "cell_type": "code",
   "execution_count": 79,
   "metadata": {},
   "outputs": [],
   "source": [
    "data = Dataset.load_from_df(merged_data[['userId', 'movieId', 'rating']], reader)\n"
   ]
  },
  {
   "cell_type": "code",
   "execution_count": 80,
   "metadata": {},
   "outputs": [],
   "source": [
    "trainset, testset = train_test_split(data, test_size=0.2, random_state=42)"
   ]
  },
  {
   "cell_type": "markdown",
   "metadata": {},
   "source": [
    "# Singular Value Decomposition (SVD)\n",
    "The SVD algorithm is trained on the user-movie ratings. It learns latent features for both users and movies, which it uses to predict unseen ratings"
   ]
  },
  {
   "cell_type": "markdown",
   "metadata": {},
   "source": [
    "# Hyperparameter tuning"
   ]
  },
  {
   "cell_type": "code",
   "execution_count": 81,
   "metadata": {},
   "outputs": [],
   "source": [
    "from surprise.model_selection import GridSearchCV"
   ]
  },
  {
   "cell_type": "code",
   "execution_count": 82,
   "metadata": {},
   "outputs": [
    {
     "name": "stdout",
     "output_type": "stream",
     "text": [
      "Best SVD parameters: {'rmse': {'n_factors': 10, 'reg_all': 0.05}}\n"
     ]
    }
   ],
   "source": [
    "# Hyperparameter tuning for SVD\n",
    "param_grid_svd = {\n",
    "    'n_factors': [10, 20, 30],\n",
    "    'reg_all': [0.02, 0.05, 0.1],\n",
    "}\n",
    "\n",
    "grid_search_svd = GridSearchCV(SVD, param_grid_svd, measures=['rmse'], cv=3)\n",
    "grid_search_svd.fit(data)\n",
    "\n",
    "# Best parameters for SVD\n",
    "print(\"Best SVD parameters:\", grid_search_svd.best_params)"
   ]
  },
  {
   "cell_type": "code",
   "execution_count": 83,
   "metadata": {
    "scrolled": true
   },
   "outputs": [
    {
     "name": "stdout",
     "output_type": "stream",
     "text": [
      "Computing the msd similarity matrix...\n",
      "Done computing similarity matrix.\n",
      "Computing the msd similarity matrix...\n",
      "Done computing similarity matrix.\n",
      "Computing the msd similarity matrix...\n",
      "Done computing similarity matrix.\n",
      "Computing the cosine similarity matrix...\n",
      "Done computing similarity matrix.\n",
      "Computing the cosine similarity matrix...\n",
      "Done computing similarity matrix.\n",
      "Computing the cosine similarity matrix...\n",
      "Done computing similarity matrix.\n",
      "Computing the msd similarity matrix...\n",
      "Done computing similarity matrix.\n",
      "Computing the msd similarity matrix...\n",
      "Done computing similarity matrix.\n",
      "Computing the msd similarity matrix...\n",
      "Done computing similarity matrix.\n",
      "Computing the cosine similarity matrix...\n",
      "Done computing similarity matrix.\n",
      "Computing the cosine similarity matrix...\n",
      "Done computing similarity matrix.\n",
      "Computing the cosine similarity matrix...\n",
      "Done computing similarity matrix.\n",
      "Computing the msd similarity matrix...\n",
      "Done computing similarity matrix.\n",
      "Computing the msd similarity matrix...\n",
      "Done computing similarity matrix.\n",
      "Computing the msd similarity matrix...\n",
      "Done computing similarity matrix.\n",
      "Computing the cosine similarity matrix...\n",
      "Done computing similarity matrix.\n",
      "Computing the cosine similarity matrix...\n",
      "Done computing similarity matrix.\n",
      "Computing the cosine similarity matrix...\n",
      "Done computing similarity matrix.\n",
      "Best k-NN parameters: {'rmse': {'k': 15, 'sim_options': {'name': 'msd', 'user_based': True}}}\n"
     ]
    }
   ],
   "source": [
    "# Hyperparameter tuning for k-NN\n",
    "param_grid_knn = {\n",
    "    'k': [5, 10, 15],\n",
    "    'sim_options': {'name': ['msd', 'cosine'], 'user_based': [True]}\n",
    "}\n",
    "\n",
    "grid_search_knn = GridSearchCV(KNNBasic, param_grid_knn, measures=['rmse'], cv=3)\n",
    "grid_search_knn.fit(data)\n",
    "\n",
    "# Best parameters for k-NN\n",
    "print(\"Best k-NN parameters:\", grid_search_knn.best_params)"
   ]
  },
  {
   "cell_type": "code",
   "execution_count": 84,
   "metadata": {},
   "outputs": [
    {
     "name": "stdout",
     "output_type": "stream",
     "text": [
      "Computing the msd similarity matrix...\n",
      "Done computing similarity matrix.\n"
     ]
    },
    {
     "data": {
      "text/plain": [
       "<surprise.prediction_algorithms.knns.KNNBasic at 0x2452be53bb0>"
      ]
     },
     "execution_count": 84,
     "metadata": {},
     "output_type": "execute_result"
    }
   ],
   "source": [
    "best_svd = SVD(n_factors=grid_search_svd.best_params['rmse']['n_factors'],\n",
    "               reg_all=grid_search_svd.best_params['rmse']['reg_all'])\n",
    "best_svd.fit(trainset)\n",
    "\n",
    "# Train final k-NN model with best parameters\n",
    "best_knn = KNNBasic(k=grid_search_knn.best_params['rmse']['k'],\n",
    "                    sim_options=grid_search_knn.best_params['rmse']['sim_options'])\n",
    "best_knn.fit(trainset)"
   ]
  },
  {
   "cell_type": "markdown",
   "metadata": {},
   "source": [
    "# Make recommendation"
   ]
  },
  {
   "cell_type": "code",
   "execution_count": 85,
   "metadata": {},
   "outputs": [],
   "source": [
    "def get_recommendations(model, user_id, num_recommendations):\n",
    "    unique_users = merged_data['userId'].unique()\n",
    "    unique_movies = merged_data['movieId'].unique()\n",
    "\n",
    "# Dictionary to store top N recommendations for each user\n",
    "    top_n_recommendations = {}\n",
    "\n",
    "# Predict ratings for each user-movie pair\n",
    "    user_recommendations = []\n",
    "    for movie in unique_movies:\n",
    "        # Predict rating for the (user, movie) pair\n",
    "        pred = model.predict(user_id, movie, verbose=False)\n",
    "        user_recommendations.append((movie, pred.est))\n",
    "    \n",
    "        # Sort movies by predicted rating and get top N (e.g., top 5)\n",
    "        top_n = sorted(user_recommendations, key=lambda x: x[1], reverse=True)[:num_recommendations]\n",
    "    \n",
    "#         # Store top N recommendations for the user\n",
    "#         top_n_recommendations[user_id] = top_n\n",
    "\n",
    "#     # Output top N recommendations for each user\n",
    "#     print(f\"Top {num_recommendations} recommendations for User {user_id}:\")\n",
    "#     for movie, predicted_rating in top_n:\n",
    "#         title = merged_data.loc[merged_data['movieId'] == movie, 'title']\n",
    "#         print(f\"{title.values[0]}. Predicted Rating {predicted_rating:.2f}\")\n",
    "        \n",
    "        \n",
    "            # Create a DataFrame for the top N recommendations\n",
    "    recommended_movies = pd.DataFrame(top_n, columns=['movieId', 'predicted_rating'])\n",
    "\n",
    "    # Merge with movie titles to get titles from movie IDs\n",
    "    recommendations_with_titles = recommended_movies.merge(merged_data[['movieId', 'title']].drop_duplicates(), on='movieId', how='left')\n",
    "\n",
    "    # Return the top N recommendations with movie titles\n",
    "    return recommendations_with_titles[['title', 'predicted_rating']].drop_duplicates().reset_index(drop=True)"
   ]
  },
  {
   "cell_type": "code",
   "execution_count": 86,
   "metadata": {},
   "outputs": [
    {
     "data": {
      "text/html": [
       "<div>\n",
       "<style scoped>\n",
       "    .dataframe tbody tr th:only-of-type {\n",
       "        vertical-align: middle;\n",
       "    }\n",
       "\n",
       "    .dataframe tbody tr th {\n",
       "        vertical-align: top;\n",
       "    }\n",
       "\n",
       "    .dataframe thead th {\n",
       "        text-align: right;\n",
       "    }\n",
       "</style>\n",
       "<table border=\"1\" class=\"dataframe\">\n",
       "  <thead>\n",
       "    <tr style=\"text-align: right;\">\n",
       "      <th></th>\n",
       "      <th>title</th>\n",
       "      <th>predicted_rating</th>\n",
       "    </tr>\n",
       "  </thead>\n",
       "  <tbody>\n",
       "    <tr>\n",
       "      <th>0</th>\n",
       "      <td>Galaxy Quest</td>\n",
       "      <td>4.747906</td>\n",
       "    </tr>\n",
       "    <tr>\n",
       "      <th>1</th>\n",
       "      <td>Sleepless in Seattle</td>\n",
       "      <td>4.741781</td>\n",
       "    </tr>\n",
       "    <tr>\n",
       "      <th>2</th>\n",
       "      <td>The Million Dollar Hotel</td>\n",
       "      <td>4.679612</td>\n",
       "    </tr>\n",
       "    <tr>\n",
       "      <th>3</th>\n",
       "      <td>The Thomas Crown Affair</td>\n",
       "      <td>4.676068</td>\n",
       "    </tr>\n",
       "    <tr>\n",
       "      <th>4</th>\n",
       "      <td>While You Were Sleeping</td>\n",
       "      <td>4.649486</td>\n",
       "    </tr>\n",
       "  </tbody>\n",
       "</table>\n",
       "</div>"
      ],
      "text/plain": [
       "                      title  predicted_rating\n",
       "0              Galaxy Quest          4.747906\n",
       "1      Sleepless in Seattle          4.741781\n",
       "2  The Million Dollar Hotel          4.679612\n",
       "3   The Thomas Crown Affair          4.676068\n",
       "4   While You Were Sleeping          4.649486"
      ]
     },
     "execution_count": 86,
     "metadata": {},
     "output_type": "execute_result"
    }
   ],
   "source": [
    "recommended_movies = get_recommendations(best_svd, user_id=40, num_recommendations=5)\n",
    "recommended_movies"
   ]
  },
  {
   "cell_type": "code",
   "execution_count": 87,
   "metadata": {},
   "outputs": [],
   "source": [
    "def get_user_preferences():\n",
    "    \"\"\"\n",
    "    Prompt the user for their movie preferences including runtime, release year, and genre.\n",
    "    \n",
    "    Returns:\n",
    "    dict: A dictionary containing user inputs.\n",
    "    \"\"\"\n",
    "    runtime = input(\"Enter your preferred runtime (in minutes e.g., 100): \")\n",
    "\n",
    "        # Input for release year\n",
    "    release_year = input(\"Enter your preferred release year (e.g., 2000): \")\n",
    "\n",
    "        # Input for genre\n",
    "    genres = [\"Action\", \"Comedy\", \"Drama\", \"Fantasy\", \"Horror\", \"Mystery\", \"Romance\", \"Thriller\"]\n",
    "    print(\"Select your preferred genres from the list below:\")\n",
    "    for i, genre in enumerate(genres, 1):\n",
    "        print(f\"{i}. {genre}\")\n",
    "\n",
    "    selected_genres_input = input(\"Enter the numbers of your favorite genres, separated by commas: \")\n",
    "    # selected_genres = [genres[int(i) - 1] for i in selected_genres_input.split(\",\") if i.isdigit() and 1 <= int(i) <= len(genres)]\n",
    "    # selected_genres = [genres[int(i) - 1] for i in selected_genres_input.split(\",\") if i.isdigit() and 1 <= int(i) <= len(genres)]\n",
    "    selected_genres = [item.strip() for item in selected_genres_input.split(',')]\n",
    "        # Return a dictionary of user preferences\n",
    "    user_preferences = {\n",
    "            'runtime': runtime,\n",
    "            'release_year': release_year,\n",
    "            'genres': selected_genres}\n",
    "    return user_preferences\n"
   ]
  },
  {
   "cell_type": "code",
   "execution_count": 89,
   "metadata": {},
   "outputs": [],
   "source": [
    "def is_valid_user(user_id, user_movie_ratings_df):\n",
    "    return user_id in user_movie_ratings_df['userId'].unique()\n",
    "\n",
    "def combined_recommendation(user_id, user_movie_ratings_df, collaborative_model, content_model, movie_features_df, \n",
    "                            movie_titles_df, rating_threshold=50, top_n=5):\n",
    "    \"\"\"\n",
    "    Recommend movies for a user using both collaborative filtering and content-based approaches.\n",
    "\n",
    "    Parameters:\n",
    "    user_id (int): The user ID for whom we are recommending movies.\n",
    "    user_movie_ratings_df (pd.DataFrame): DataFrame containing user-movie ratings with columns ['userId', 'movieId', 'rating'].\n",
    "    collaborative_model: The collaborative filtering model to use.\n",
    "    content_model: The content-based model to use.\n",
    "    movie_features_df (pd.DataFrame): DataFrame containing movie features (e.g. runtime, genres).\n",
    "    movie_titles_df (pd.DataFrame): DataFrame containing movie titles.\n",
    "    rating_threshold (int): Minimum number of ratings required to use collaborative filtering (default is 5).\n",
    "    top_n (int): Number of top recommendations to return (default is 5).\n",
    "\n",
    "    Returns:\n",
    "    pd.DataFrame: DataFrame containing the recommended movies with their titles and predicted ratings.\n",
    "    \"\"\"\n",
    "    # Check if the user is valid\n",
    "    if not is_valid_user(user_id, user_movie_ratings_df):\n",
    "        print(f\"User ID {user_id} is a new user. Please provide your preferences for content-based filtering.\")\n",
    "        \n",
    "        # Get user preferences\n",
    "        user_preferences = get_user_preferences()\n",
    "\n",
    "        # Use content-based filtering with user preferences\n",
    "        # Here you can modify recommend_movies_for_user to accept user preferences\n",
    "        return recommend_movies_with_preferences(content_model, user_preferences, movie_features_df, movie_titles_df, top_n)\n",
    "\n",
    "    # Count how many ratings the user has\n",
    "    num_ratings = user_movie_ratings_df[user_movie_ratings_df['userId'] == user_id].shape[0]\n",
    "\n",
    "    # Use collaborative filtering if the user has enough ratings\n",
    "    if num_ratings >= rating_threshold:\n",
    "        print(f\"Using collaborative filtering for User {user_id}.\")\n",
    "        recommendations = get_recommendations(collaborative_model, user_id, num_recommendations=top_n)\n",
    "\n",
    "#         # Convert recommendations to DataFrame for easier handling\n",
    "#         recommendations_df = pd.DataFrame(recommendations, columns=['movieId', 'predicted_rating'])\n",
    "#         recommendations_df = recommendations_df.merge(movie_titles_df, on='movieId', how='left')\n",
    "#         return recommendations_df[['title', 'predicted_rating']]\n",
    "        return recommendations[['title', 'predicted_rating']]\n",
    "\n",
    "    else:\n",
    "        print(f\"User ID {user_id} has only {num_ratings} ratings. Switching to content-based filtering.\")\n",
    "        # Use content-based filtering if the count is below the threshold\n",
    "        recommendations_df = recommend_movies_for_user(content_model, user_id, movie_features_df, user_movie_ratings_df, movie_titles_df, top_n)\n",
    "\n",
    "        return recommendations_df[['title', 'predicted_rating']]\n",
    "\n",
    "def recommend_movies_with_preferences(model, user_preferences, movie_features_df, movie_titles_df, top_n=5):\n",
    "    \"\"\"\n",
    "    Recommend movies based on user preferences provided during invalid user ID case.\n",
    "\n",
    "    Parameters:\n",
    "    model: The content-based recommendation model to use.\n",
    "    user_preferences (dict): Dictionary containing user inputs for preferences.\n",
    "    movie_features_df (pd.DataFrame): DataFrame containing movie features.\n",
    "    movie_titles_df (pd.DataFrame): DataFrame containing movie titles.\n",
    "    top_n (int): Number of top recommendations to return (default is 5).\n",
    "\n",
    "    Returns:\n",
    "    pd.DataFrame: DataFrame containing the recommended movies with their titles and predicted ratings.\n",
    "    \"\"\"\n",
    "    # Extract preferences from the user input\n",
    "    runtime = user_preferences['runtime']\n",
    "    release_year = user_preferences['release_year']\n",
    "    genres = user_preferences['genres']\n",
    "    \n",
    "    # Check if the genres list is not empty\n",
    "    if not genres:\n",
    "        print(\"No genres selected. Please provide at least one genre.\")\n",
    "        return pd.DataFrame()\n",
    "\n",
    "    # Filter movies based on user preferences\n",
    "    # Filter movies based on user preferences with ±50 for runtime and ±5 for release year\n",
    "    filtered_movies = movie_features_df[\n",
    "        (movie_features_df['runtime'].between(int(runtime) - 50, int(runtime) + 50)) &  # Allow runtime ±30 minutes\n",
    "        (movie_features_df['release_year'].between(int(release_year) - 5, int(release_year) + 5)) &  # Allow release year ±3 years\n",
    "        (movie_features_df[genres].sum(axis=1) > 0)  # Match at least one of the selected genres\n",
    "].copy()\n",
    "\n",
    "    # Check if any movies match the criteria\n",
    "    if filtered_movies.empty:\n",
    "        print(\"No movies found matching your preferences. Please try different criteria.\")\n",
    "        return pd.DataFrame()\n",
    "\n",
    "    # Assume the content model uses the same structure as the previous recommend_movies_for_user\n",
    "    unseen_movie_features = filtered_movies[features].drop(columns='movieId')\n",
    "\n",
    "    # Predict ratings using the content-based model (or another model of choice)\n",
    "    predicted_ratings = model.predict(unseen_movie_features)\n",
    "\n",
    "    # Add predictions to the filtered movies DataFrame\n",
    "    filtered_movies.loc[:, 'predicted_rating'] = predicted_ratings\n",
    "\n",
    "    # Sort and return top N recommendations\n",
    "    top_recommendations = filtered_movies[['movieId', 'predicted_rating']].sort_values(by='predicted_rating', ascending=False)\n",
    "\n",
    "    top_recommendations_with_titles = top_recommendations.merge(movie_titles_df, on='movieId', how='left')\n",
    "    \n",
    "    top_unique_recommendations = top_recommendations_with_titles.drop_duplicates(subset='title').head(top_n)\n",
    "    \n",
    "    return top_unique_recommendations[['title','predicted_rating']].reset_index(drop=True)\n",
    "\n",
    "\n"
   ]
  },
  {
   "cell_type": "code",
   "execution_count": 90,
   "metadata": {},
   "outputs": [
    {
     "name": "stdout",
     "output_type": "stream",
     "text": [
      "User ID 13 has only 24 ratings. Switching to content-based filtering.\n",
      "                              title  predicted_rating\n",
      "0           The Night of the Hunter          4.899905\n",
      "1          Gentlemen Prefer Blondes          4.846737\n",
      "2               Night Without Sleep          4.835127\n",
      "3  Aamdani Atthanni Kharcha Rupaiya          4.818932\n",
      "4                         Long Pigs          4.813850\n"
     ]
    }
   ],
   "source": [
    "user_id = 13\n",
    "top_5_recommendations = combined_recommendation(user_id, merged_data[ratings], best_svd, rf_model, merged_data[features], merged_data[titles])\n",
    "print(top_5_recommendations)"
   ]
  },
  {
   "cell_type": "code",
   "execution_count": 91,
   "metadata": {},
   "outputs": [
    {
     "name": "stdout",
     "output_type": "stream",
     "text": [
      "Using collaborative filtering for User 245.\n",
      "                      title  predicted_rating\n",
      "0              Galaxy Quest          4.759968\n",
      "1      Sleepless in Seattle          4.724180\n",
      "2  The Million Dollar Hotel          4.706731\n",
      "3   While You Were Sleeping          4.699440\n",
      "4   The Thomas Crown Affair          4.691446\n"
     ]
    }
   ],
   "source": [
    "user_id = 245\n",
    "top_5_recommendations = combined_recommendation(user_id, merged_data[ratings], best_svd, rf_model, merged_data[features], merged_data[titles])\n",
    "print(top_5_recommendations)"
   ]
  },
  {
   "cell_type": "code",
   "execution_count": 92,
   "metadata": {},
   "outputs": [
    {
     "name": "stdout",
     "output_type": "stream",
     "text": [
      "User ID 254444 is a new user. Please provide your preferences for content-based filtering.\n",
      "Enter your preferred runtime (in minutes e.g., 100): 100\n",
      "Enter your preferred release year (e.g., 2000): 2000\n",
      "Select your preferred genres from the list below:\n",
      "1. Action\n",
      "2. Comedy\n",
      "3. Drama\n",
      "4. Fantasy\n",
      "5. Horror\n",
      "6. Mystery\n",
      "7. Romance\n",
      "8. Thriller\n",
      "Enter the numbers of your favorite genres, separated by commas: Action, Comedy, Romance\n",
      "                              title  predicted_rating\n",
      "0  Aamdani Atthanni Kharcha Rupaiya          4.818932\n",
      "1                         Silentium          4.729312\n",
      "2                       Match Point          4.623020\n",
      "3                         Baise-moi          4.620123\n",
      "4    I Woke Up Early The Day I Died          4.585364\n"
     ]
    }
   ],
   "source": [
    "user_id = 254444\n",
    "top_5_recommendations = combined_recommendation(user_id, merged_data[ratings], best_svd, rf_model, merged_data[features], merged_data[titles])\n",
    "print(top_5_recommendations)"
   ]
  },
  {
   "cell_type": "code",
   "execution_count": null,
   "metadata": {},
   "outputs": [],
   "source": []
  }
 ],
 "metadata": {
  "kernelspec": {
   "display_name": "Python 3",
   "language": "python",
   "name": "python3"
  },
  "language_info": {
   "codemirror_mode": {
    "name": "ipython",
    "version": 3
   },
   "file_extension": ".py",
   "mimetype": "text/x-python",
   "name": "python",
   "nbconvert_exporter": "python",
   "pygments_lexer": "ipython3",
   "version": "3.8.3"
  }
 },
 "nbformat": 4,
 "nbformat_minor": 4
}
